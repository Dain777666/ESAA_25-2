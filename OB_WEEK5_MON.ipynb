{
  "nbformat": 4,
  "nbformat_minor": 0,
  "metadata": {
    "colab": {
      "provenance": [],
      "authorship_tag": "ABX9TyPgkD3JZcxR++Fz1nKPCwiU",
      "include_colab_link": true
    },
    "kernelspec": {
      "name": "python3",
      "display_name": "Python 3"
    },
    "language_info": {
      "name": "python"
    }
  },
  "cells": [
    {
      "cell_type": "markdown",
      "metadata": {
        "id": "view-in-github",
        "colab_type": "text"
      },
      "source": [
        "<a href=\"https://colab.research.google.com/github/Dain777666/ESAA_25-2/blob/main/OB_WEEK5_MON.ipynb\" target=\"_parent\"><img src=\"https://colab.research.google.com/assets/colab-badge.svg\" alt=\"Open In Colab\"/></a>"
      ]
    },
    {
      "cell_type": "markdown",
      "source": [
        "## 토픽 모델링 - 20 뉴스그룹\n",
        "\n",
        "- 토픽 모델링: 문서 집합에 숨어 있는 주제를 찾아내는 것\n",
        "\n",
        "- 주제를 효과적으로 표현할 수 있는 중심 단어를 함축적으로 추출함\n",
        "\n",
        "- 자주 사용되는 기법:  LSA(Latent Semantic Analysis), LDA(Latent Dirichlet Allocation)\n",
        "\n",
        "- 사이킷런은 LDA 기반의 토픽 모델링을 LatentDirichletAllocation 클\n",
        "래스로 제공하고 있음\n"
      ],
      "metadata": {
        "id": "PNA4b6J8js08"
      }
    },
    {
      "cell_type": "code",
      "execution_count": 1,
      "metadata": {
        "colab": {
          "base_uri": "https://localhost:8080/"
        },
        "id": "yI8zB_VRjp-H",
        "outputId": "571bf792-32d6-487a-e0b6-c61afa99ac43"
      },
      "outputs": [
        {
          "output_type": "stream",
          "name": "stdout",
          "text": [
            "CountVectorizer Shape: (7862, 1000)\n"
          ]
        }
      ],
      "source": [
        "from sklearn.datasets import fetch_20newsgroups\n",
        "from sklearn.feature_extraction.text import CountVectorizer\n",
        "from sklearn.decomposition import LatentDirichletAllocation\n",
        "\n",
        "# 8개 주제 추출\n",
        "cats = ['rec.motorcycles','rec.sport.baseball','comp.graphics','comp.windows.x',\n",
        "        'talk.politics.mideast','soc.religion.christian','sci.electronics','sci.med']\n",
        "\n",
        "news_df = fetch_20newsgroups(subset='all',remove=('headers','footers','quotes'),\n",
        "                             categories=cats,random_state=0)\n",
        "\n",
        "count_vect = CountVectorizer(max_df=0.95, max_features=1000, min_df=2, stop_words='english', ngram_range=(1,2))\n",
        "feat_vect = count_vect.fit_transform(news_df.data)\n",
        "print('CountVectorizer Shape:', feat_vect.shape)"
      ]
    },
    {
      "cell_type": "code",
      "source": [
        "# n_components 파라미터를 이용해 토픽 개수를 조정\n",
        "lda = LatentDirichletAllocation(n_components=8, random_state=42)\n",
        "lda.fit(feat_vect)"
      ],
      "metadata": {
        "colab": {
          "base_uri": "https://localhost:8080/",
          "height": 80
        },
        "id": "-L9276IpkyDV",
        "outputId": "d42e1cf1-37a5-469a-ed3d-c95ee6bcbf82"
      },
      "execution_count": 2,
      "outputs": [
        {
          "output_type": "execute_result",
          "data": {
            "text/plain": [
              "LatentDirichletAllocation(n_components=8, random_state=42)"
            ],
            "text/html": [
              "<style>#sk-container-id-1 {\n",
              "  /* Definition of color scheme common for light and dark mode */\n",
              "  --sklearn-color-text: #000;\n",
              "  --sklearn-color-text-muted: #666;\n",
              "  --sklearn-color-line: gray;\n",
              "  /* Definition of color scheme for unfitted estimators */\n",
              "  --sklearn-color-unfitted-level-0: #fff5e6;\n",
              "  --sklearn-color-unfitted-level-1: #f6e4d2;\n",
              "  --sklearn-color-unfitted-level-2: #ffe0b3;\n",
              "  --sklearn-color-unfitted-level-3: chocolate;\n",
              "  /* Definition of color scheme for fitted estimators */\n",
              "  --sklearn-color-fitted-level-0: #f0f8ff;\n",
              "  --sklearn-color-fitted-level-1: #d4ebff;\n",
              "  --sklearn-color-fitted-level-2: #b3dbfd;\n",
              "  --sklearn-color-fitted-level-3: cornflowerblue;\n",
              "\n",
              "  /* Specific color for light theme */\n",
              "  --sklearn-color-text-on-default-background: var(--sg-text-color, var(--theme-code-foreground, var(--jp-content-font-color1, black)));\n",
              "  --sklearn-color-background: var(--sg-background-color, var(--theme-background, var(--jp-layout-color0, white)));\n",
              "  --sklearn-color-border-box: var(--sg-text-color, var(--theme-code-foreground, var(--jp-content-font-color1, black)));\n",
              "  --sklearn-color-icon: #696969;\n",
              "\n",
              "  @media (prefers-color-scheme: dark) {\n",
              "    /* Redefinition of color scheme for dark theme */\n",
              "    --sklearn-color-text-on-default-background: var(--sg-text-color, var(--theme-code-foreground, var(--jp-content-font-color1, white)));\n",
              "    --sklearn-color-background: var(--sg-background-color, var(--theme-background, var(--jp-layout-color0, #111)));\n",
              "    --sklearn-color-border-box: var(--sg-text-color, var(--theme-code-foreground, var(--jp-content-font-color1, white)));\n",
              "    --sklearn-color-icon: #878787;\n",
              "  }\n",
              "}\n",
              "\n",
              "#sk-container-id-1 {\n",
              "  color: var(--sklearn-color-text);\n",
              "}\n",
              "\n",
              "#sk-container-id-1 pre {\n",
              "  padding: 0;\n",
              "}\n",
              "\n",
              "#sk-container-id-1 input.sk-hidden--visually {\n",
              "  border: 0;\n",
              "  clip: rect(1px 1px 1px 1px);\n",
              "  clip: rect(1px, 1px, 1px, 1px);\n",
              "  height: 1px;\n",
              "  margin: -1px;\n",
              "  overflow: hidden;\n",
              "  padding: 0;\n",
              "  position: absolute;\n",
              "  width: 1px;\n",
              "}\n",
              "\n",
              "#sk-container-id-1 div.sk-dashed-wrapped {\n",
              "  border: 1px dashed var(--sklearn-color-line);\n",
              "  margin: 0 0.4em 0.5em 0.4em;\n",
              "  box-sizing: border-box;\n",
              "  padding-bottom: 0.4em;\n",
              "  background-color: var(--sklearn-color-background);\n",
              "}\n",
              "\n",
              "#sk-container-id-1 div.sk-container {\n",
              "  /* jupyter's `normalize.less` sets `[hidden] { display: none; }`\n",
              "     but bootstrap.min.css set `[hidden] { display: none !important; }`\n",
              "     so we also need the `!important` here to be able to override the\n",
              "     default hidden behavior on the sphinx rendered scikit-learn.org.\n",
              "     See: https://github.com/scikit-learn/scikit-learn/issues/21755 */\n",
              "  display: inline-block !important;\n",
              "  position: relative;\n",
              "}\n",
              "\n",
              "#sk-container-id-1 div.sk-text-repr-fallback {\n",
              "  display: none;\n",
              "}\n",
              "\n",
              "div.sk-parallel-item,\n",
              "div.sk-serial,\n",
              "div.sk-item {\n",
              "  /* draw centered vertical line to link estimators */\n",
              "  background-image: linear-gradient(var(--sklearn-color-text-on-default-background), var(--sklearn-color-text-on-default-background));\n",
              "  background-size: 2px 100%;\n",
              "  background-repeat: no-repeat;\n",
              "  background-position: center center;\n",
              "}\n",
              "\n",
              "/* Parallel-specific style estimator block */\n",
              "\n",
              "#sk-container-id-1 div.sk-parallel-item::after {\n",
              "  content: \"\";\n",
              "  width: 100%;\n",
              "  border-bottom: 2px solid var(--sklearn-color-text-on-default-background);\n",
              "  flex-grow: 1;\n",
              "}\n",
              "\n",
              "#sk-container-id-1 div.sk-parallel {\n",
              "  display: flex;\n",
              "  align-items: stretch;\n",
              "  justify-content: center;\n",
              "  background-color: var(--sklearn-color-background);\n",
              "  position: relative;\n",
              "}\n",
              "\n",
              "#sk-container-id-1 div.sk-parallel-item {\n",
              "  display: flex;\n",
              "  flex-direction: column;\n",
              "}\n",
              "\n",
              "#sk-container-id-1 div.sk-parallel-item:first-child::after {\n",
              "  align-self: flex-end;\n",
              "  width: 50%;\n",
              "}\n",
              "\n",
              "#sk-container-id-1 div.sk-parallel-item:last-child::after {\n",
              "  align-self: flex-start;\n",
              "  width: 50%;\n",
              "}\n",
              "\n",
              "#sk-container-id-1 div.sk-parallel-item:only-child::after {\n",
              "  width: 0;\n",
              "}\n",
              "\n",
              "/* Serial-specific style estimator block */\n",
              "\n",
              "#sk-container-id-1 div.sk-serial {\n",
              "  display: flex;\n",
              "  flex-direction: column;\n",
              "  align-items: center;\n",
              "  background-color: var(--sklearn-color-background);\n",
              "  padding-right: 1em;\n",
              "  padding-left: 1em;\n",
              "}\n",
              "\n",
              "\n",
              "/* Toggleable style: style used for estimator/Pipeline/ColumnTransformer box that is\n",
              "clickable and can be expanded/collapsed.\n",
              "- Pipeline and ColumnTransformer use this feature and define the default style\n",
              "- Estimators will overwrite some part of the style using the `sk-estimator` class\n",
              "*/\n",
              "\n",
              "/* Pipeline and ColumnTransformer style (default) */\n",
              "\n",
              "#sk-container-id-1 div.sk-toggleable {\n",
              "  /* Default theme specific background. It is overwritten whether we have a\n",
              "  specific estimator or a Pipeline/ColumnTransformer */\n",
              "  background-color: var(--sklearn-color-background);\n",
              "}\n",
              "\n",
              "/* Toggleable label */\n",
              "#sk-container-id-1 label.sk-toggleable__label {\n",
              "  cursor: pointer;\n",
              "  display: flex;\n",
              "  width: 100%;\n",
              "  margin-bottom: 0;\n",
              "  padding: 0.5em;\n",
              "  box-sizing: border-box;\n",
              "  text-align: center;\n",
              "  align-items: start;\n",
              "  justify-content: space-between;\n",
              "  gap: 0.5em;\n",
              "}\n",
              "\n",
              "#sk-container-id-1 label.sk-toggleable__label .caption {\n",
              "  font-size: 0.6rem;\n",
              "  font-weight: lighter;\n",
              "  color: var(--sklearn-color-text-muted);\n",
              "}\n",
              "\n",
              "#sk-container-id-1 label.sk-toggleable__label-arrow:before {\n",
              "  /* Arrow on the left of the label */\n",
              "  content: \"▸\";\n",
              "  float: left;\n",
              "  margin-right: 0.25em;\n",
              "  color: var(--sklearn-color-icon);\n",
              "}\n",
              "\n",
              "#sk-container-id-1 label.sk-toggleable__label-arrow:hover:before {\n",
              "  color: var(--sklearn-color-text);\n",
              "}\n",
              "\n",
              "/* Toggleable content - dropdown */\n",
              "\n",
              "#sk-container-id-1 div.sk-toggleable__content {\n",
              "  max-height: 0;\n",
              "  max-width: 0;\n",
              "  overflow: hidden;\n",
              "  text-align: left;\n",
              "  /* unfitted */\n",
              "  background-color: var(--sklearn-color-unfitted-level-0);\n",
              "}\n",
              "\n",
              "#sk-container-id-1 div.sk-toggleable__content.fitted {\n",
              "  /* fitted */\n",
              "  background-color: var(--sklearn-color-fitted-level-0);\n",
              "}\n",
              "\n",
              "#sk-container-id-1 div.sk-toggleable__content pre {\n",
              "  margin: 0.2em;\n",
              "  border-radius: 0.25em;\n",
              "  color: var(--sklearn-color-text);\n",
              "  /* unfitted */\n",
              "  background-color: var(--sklearn-color-unfitted-level-0);\n",
              "}\n",
              "\n",
              "#sk-container-id-1 div.sk-toggleable__content.fitted pre {\n",
              "  /* unfitted */\n",
              "  background-color: var(--sklearn-color-fitted-level-0);\n",
              "}\n",
              "\n",
              "#sk-container-id-1 input.sk-toggleable__control:checked~div.sk-toggleable__content {\n",
              "  /* Expand drop-down */\n",
              "  max-height: 200px;\n",
              "  max-width: 100%;\n",
              "  overflow: auto;\n",
              "}\n",
              "\n",
              "#sk-container-id-1 input.sk-toggleable__control:checked~label.sk-toggleable__label-arrow:before {\n",
              "  content: \"▾\";\n",
              "}\n",
              "\n",
              "/* Pipeline/ColumnTransformer-specific style */\n",
              "\n",
              "#sk-container-id-1 div.sk-label input.sk-toggleable__control:checked~label.sk-toggleable__label {\n",
              "  color: var(--sklearn-color-text);\n",
              "  background-color: var(--sklearn-color-unfitted-level-2);\n",
              "}\n",
              "\n",
              "#sk-container-id-1 div.sk-label.fitted input.sk-toggleable__control:checked~label.sk-toggleable__label {\n",
              "  background-color: var(--sklearn-color-fitted-level-2);\n",
              "}\n",
              "\n",
              "/* Estimator-specific style */\n",
              "\n",
              "/* Colorize estimator box */\n",
              "#sk-container-id-1 div.sk-estimator input.sk-toggleable__control:checked~label.sk-toggleable__label {\n",
              "  /* unfitted */\n",
              "  background-color: var(--sklearn-color-unfitted-level-2);\n",
              "}\n",
              "\n",
              "#sk-container-id-1 div.sk-estimator.fitted input.sk-toggleable__control:checked~label.sk-toggleable__label {\n",
              "  /* fitted */\n",
              "  background-color: var(--sklearn-color-fitted-level-2);\n",
              "}\n",
              "\n",
              "#sk-container-id-1 div.sk-label label.sk-toggleable__label,\n",
              "#sk-container-id-1 div.sk-label label {\n",
              "  /* The background is the default theme color */\n",
              "  color: var(--sklearn-color-text-on-default-background);\n",
              "}\n",
              "\n",
              "/* On hover, darken the color of the background */\n",
              "#sk-container-id-1 div.sk-label:hover label.sk-toggleable__label {\n",
              "  color: var(--sklearn-color-text);\n",
              "  background-color: var(--sklearn-color-unfitted-level-2);\n",
              "}\n",
              "\n",
              "/* Label box, darken color on hover, fitted */\n",
              "#sk-container-id-1 div.sk-label.fitted:hover label.sk-toggleable__label.fitted {\n",
              "  color: var(--sklearn-color-text);\n",
              "  background-color: var(--sklearn-color-fitted-level-2);\n",
              "}\n",
              "\n",
              "/* Estimator label */\n",
              "\n",
              "#sk-container-id-1 div.sk-label label {\n",
              "  font-family: monospace;\n",
              "  font-weight: bold;\n",
              "  display: inline-block;\n",
              "  line-height: 1.2em;\n",
              "}\n",
              "\n",
              "#sk-container-id-1 div.sk-label-container {\n",
              "  text-align: center;\n",
              "}\n",
              "\n",
              "/* Estimator-specific */\n",
              "#sk-container-id-1 div.sk-estimator {\n",
              "  font-family: monospace;\n",
              "  border: 1px dotted var(--sklearn-color-border-box);\n",
              "  border-radius: 0.25em;\n",
              "  box-sizing: border-box;\n",
              "  margin-bottom: 0.5em;\n",
              "  /* unfitted */\n",
              "  background-color: var(--sklearn-color-unfitted-level-0);\n",
              "}\n",
              "\n",
              "#sk-container-id-1 div.sk-estimator.fitted {\n",
              "  /* fitted */\n",
              "  background-color: var(--sklearn-color-fitted-level-0);\n",
              "}\n",
              "\n",
              "/* on hover */\n",
              "#sk-container-id-1 div.sk-estimator:hover {\n",
              "  /* unfitted */\n",
              "  background-color: var(--sklearn-color-unfitted-level-2);\n",
              "}\n",
              "\n",
              "#sk-container-id-1 div.sk-estimator.fitted:hover {\n",
              "  /* fitted */\n",
              "  background-color: var(--sklearn-color-fitted-level-2);\n",
              "}\n",
              "\n",
              "/* Specification for estimator info (e.g. \"i\" and \"?\") */\n",
              "\n",
              "/* Common style for \"i\" and \"?\" */\n",
              "\n",
              ".sk-estimator-doc-link,\n",
              "a:link.sk-estimator-doc-link,\n",
              "a:visited.sk-estimator-doc-link {\n",
              "  float: right;\n",
              "  font-size: smaller;\n",
              "  line-height: 1em;\n",
              "  font-family: monospace;\n",
              "  background-color: var(--sklearn-color-background);\n",
              "  border-radius: 1em;\n",
              "  height: 1em;\n",
              "  width: 1em;\n",
              "  text-decoration: none !important;\n",
              "  margin-left: 0.5em;\n",
              "  text-align: center;\n",
              "  /* unfitted */\n",
              "  border: var(--sklearn-color-unfitted-level-1) 1pt solid;\n",
              "  color: var(--sklearn-color-unfitted-level-1);\n",
              "}\n",
              "\n",
              ".sk-estimator-doc-link.fitted,\n",
              "a:link.sk-estimator-doc-link.fitted,\n",
              "a:visited.sk-estimator-doc-link.fitted {\n",
              "  /* fitted */\n",
              "  border: var(--sklearn-color-fitted-level-1) 1pt solid;\n",
              "  color: var(--sklearn-color-fitted-level-1);\n",
              "}\n",
              "\n",
              "/* On hover */\n",
              "div.sk-estimator:hover .sk-estimator-doc-link:hover,\n",
              ".sk-estimator-doc-link:hover,\n",
              "div.sk-label-container:hover .sk-estimator-doc-link:hover,\n",
              ".sk-estimator-doc-link:hover {\n",
              "  /* unfitted */\n",
              "  background-color: var(--sklearn-color-unfitted-level-3);\n",
              "  color: var(--sklearn-color-background);\n",
              "  text-decoration: none;\n",
              "}\n",
              "\n",
              "div.sk-estimator.fitted:hover .sk-estimator-doc-link.fitted:hover,\n",
              ".sk-estimator-doc-link.fitted:hover,\n",
              "div.sk-label-container:hover .sk-estimator-doc-link.fitted:hover,\n",
              ".sk-estimator-doc-link.fitted:hover {\n",
              "  /* fitted */\n",
              "  background-color: var(--sklearn-color-fitted-level-3);\n",
              "  color: var(--sklearn-color-background);\n",
              "  text-decoration: none;\n",
              "}\n",
              "\n",
              "/* Span, style for the box shown on hovering the info icon */\n",
              ".sk-estimator-doc-link span {\n",
              "  display: none;\n",
              "  z-index: 9999;\n",
              "  position: relative;\n",
              "  font-weight: normal;\n",
              "  right: .2ex;\n",
              "  padding: .5ex;\n",
              "  margin: .5ex;\n",
              "  width: min-content;\n",
              "  min-width: 20ex;\n",
              "  max-width: 50ex;\n",
              "  color: var(--sklearn-color-text);\n",
              "  box-shadow: 2pt 2pt 4pt #999;\n",
              "  /* unfitted */\n",
              "  background: var(--sklearn-color-unfitted-level-0);\n",
              "  border: .5pt solid var(--sklearn-color-unfitted-level-3);\n",
              "}\n",
              "\n",
              ".sk-estimator-doc-link.fitted span {\n",
              "  /* fitted */\n",
              "  background: var(--sklearn-color-fitted-level-0);\n",
              "  border: var(--sklearn-color-fitted-level-3);\n",
              "}\n",
              "\n",
              ".sk-estimator-doc-link:hover span {\n",
              "  display: block;\n",
              "}\n",
              "\n",
              "/* \"?\"-specific style due to the `<a>` HTML tag */\n",
              "\n",
              "#sk-container-id-1 a.estimator_doc_link {\n",
              "  float: right;\n",
              "  font-size: 1rem;\n",
              "  line-height: 1em;\n",
              "  font-family: monospace;\n",
              "  background-color: var(--sklearn-color-background);\n",
              "  border-radius: 1rem;\n",
              "  height: 1rem;\n",
              "  width: 1rem;\n",
              "  text-decoration: none;\n",
              "  /* unfitted */\n",
              "  color: var(--sklearn-color-unfitted-level-1);\n",
              "  border: var(--sklearn-color-unfitted-level-1) 1pt solid;\n",
              "}\n",
              "\n",
              "#sk-container-id-1 a.estimator_doc_link.fitted {\n",
              "  /* fitted */\n",
              "  border: var(--sklearn-color-fitted-level-1) 1pt solid;\n",
              "  color: var(--sklearn-color-fitted-level-1);\n",
              "}\n",
              "\n",
              "/* On hover */\n",
              "#sk-container-id-1 a.estimator_doc_link:hover {\n",
              "  /* unfitted */\n",
              "  background-color: var(--sklearn-color-unfitted-level-3);\n",
              "  color: var(--sklearn-color-background);\n",
              "  text-decoration: none;\n",
              "}\n",
              "\n",
              "#sk-container-id-1 a.estimator_doc_link.fitted:hover {\n",
              "  /* fitted */\n",
              "  background-color: var(--sklearn-color-fitted-level-3);\n",
              "}\n",
              "</style><div id=\"sk-container-id-1\" class=\"sk-top-container\"><div class=\"sk-text-repr-fallback\"><pre>LatentDirichletAllocation(n_components=8, random_state=42)</pre><b>In a Jupyter environment, please rerun this cell to show the HTML representation or trust the notebook. <br />On GitHub, the HTML representation is unable to render, please try loading this page with nbviewer.org.</b></div><div class=\"sk-container\" hidden><div class=\"sk-item\"><div class=\"sk-estimator fitted sk-toggleable\"><input class=\"sk-toggleable__control sk-hidden--visually\" id=\"sk-estimator-id-1\" type=\"checkbox\" checked><label for=\"sk-estimator-id-1\" class=\"sk-toggleable__label fitted sk-toggleable__label-arrow\"><div><div>LatentDirichletAllocation</div></div><div><a class=\"sk-estimator-doc-link fitted\" rel=\"noreferrer\" target=\"_blank\" href=\"https://scikit-learn.org/1.6/modules/generated/sklearn.decomposition.LatentDirichletAllocation.html\">?<span>Documentation for LatentDirichletAllocation</span></a><span class=\"sk-estimator-doc-link fitted\">i<span>Fitted</span></span></div></label><div class=\"sk-toggleable__content fitted\"><pre>LatentDirichletAllocation(n_components=8, random_state=42)</pre></div> </div></div></div></div>"
            ]
          },
          "metadata": {},
          "execution_count": 2
        }
      ]
    },
    {
      "cell_type": "code",
      "source": [
        "print(lda.components_.shape)\n",
        "lda.components_"
      ],
      "metadata": {
        "colab": {
          "base_uri": "https://localhost:8080/"
        },
        "id": "QunYJz0ok-Pu",
        "outputId": "41114cb5-af32-4936-9fed-31938230c606"
      },
      "execution_count": 3,
      "outputs": [
        {
          "output_type": "stream",
          "name": "stdout",
          "text": [
            "(8, 1000)\n"
          ]
        },
        {
          "output_type": "execute_result",
          "data": {
            "text/plain": [
              "array([[8.12227755e+01, 1.74831234e+01, 8.92220427e+00, ...,\n",
              "        1.93832986e+01, 1.04115085e+01, 1.33883121e+01],\n",
              "       [3.84734291e+02, 1.25907979e-01, 1.73289008e+02, ...,\n",
              "        1.24845966e+01, 3.68438784e+01, 1.25081020e-01],\n",
              "       [2.20293485e+00, 1.08399099e+02, 1.63526369e-01, ...,\n",
              "        7.62906579e+00, 7.28705071e+01, 4.61024313e+01],\n",
              "       ...,\n",
              "       [1.25555499e-01, 6.27147168e+01, 1.25123373e-01, ...,\n",
              "        8.48082334e+01, 1.75393836e+01, 5.58135257e+01],\n",
              "       [1.77304265e-01, 1.15385462e+01, 1.25029049e-01, ...,\n",
              "        2.04624502e+02, 1.25073977e-01, 3.84017542e+00],\n",
              "       [1.25039554e-01, 1.25062547e-01, 1.25001712e-01, ...,\n",
              "        1.14704238e+02, 1.25125114e-01, 3.86784944e+01]])"
            ]
          },
          "metadata": {},
          "execution_count": 3
        }
      ]
    },
    {
      "cell_type": "code",
      "source": [
        "def display_topics(model, feature_names, no_top_words):\n",
        "  for topic_index, topic in enumerate(model.components_):\n",
        "    print('Topic #',topic_index)\n",
        "\n",
        "    # components_array에서 가장 값이 큰 순으로 정렬했을 때, 그값의 array 인덱스를 반환.\n",
        "    topic_word_indexes = topic.argsort()[::-1]\n",
        "    top_indexes = topic_word_indexes[:no_top_words]\n",
        "\n",
        "    # top_indexes 대상인 인덱스별로 feature_names에 해당하는 word feature 추출 후 join으로 concat\n",
        "    feature_concat = ' '.join([feature_names[i] for i in top_indexes])\n",
        "    print(feature_concat)\n",
        "\n",
        "# CountVectorizer 객체 내의 전체 word의 면칭을 get_features_names()를 통해 추출\n",
        "feature_names = count_vect.get_feature_names_out()\n",
        "\n",
        "# 토픽별 가장 연관도가 높은 word를 15개만 추출\n",
        "display_topics(lda, feature_names, 15)"
      ],
      "metadata": {
        "colab": {
          "base_uri": "https://localhost:8080/"
        },
        "id": "l8U1hyHRlVFL",
        "outputId": "52754110-ef27-4e4d-a594-d93a585193bb"
      },
      "execution_count": 4,
      "outputs": [
        {
          "output_type": "stream",
          "name": "stdout",
          "text": [
            "Topic # 0\n",
            "image edu graphics file use available window software jpeg ftp version server program data windows\n",
            "Topic # 1\n",
            "edu com file output entry 00 program list 03 02 04 address email info line\n",
            "Topic # 2\n",
            "israel israeli medical research arab health information disease 1993 cancer patients 10 92 people number\n",
            "Topic # 3\n",
            "said people didn went dos dos know just came don told saw say time started children\n",
            "Topic # 4\n",
            "armenian turkish armenians jews people turkey government war genocide turks armenia muslim 000 greek muslims\n",
            "Topic # 5\n",
            "year think game good don time team better games years hit just 10 baseball like\n",
            "Topic # 6\n",
            "like know just don does ve use good want way time think problem make thanks\n",
            "Topic # 7\n",
            "god people jesus church think believe christ does say christian christians bible faith did life\n"
          ]
        }
      ]
    },
    {
      "cell_type": "markdown",
      "source": [
        "## 문서 유사도\n",
        "\n",
        "- 문서와 문서 간의 유사도 비교는 일반적으로 코사인 유사도(Cosine Similarity)를 사용함\n",
        "\n",
        "- 코사인 유사도는 두 벡터 사이의 사잇각을 구해서 얼마나 유사한지 수치로 적\n",
        "용한 것\n",
        "\n",
        "  ![image.png](data:image/png;base64,iVBORw0KGgoAAAANSUhEUgAAArkAAAClCAYAAABY1eV9AAAAAXNSR0IArs4c6QAAAARnQU1BAACxjwv8YQUAAAAJcEhZcwAAFiUAABYlAUlSJPAAAL58SURBVHhe7J13fBTF+8c/u3slCUnoEKpUBQQLVhAUUJEqVRCwAFIUFBHrT7AB8kURqYIKKmIBbKggKohI7x1CDYSSBJKQnlzZ8vz+mJm9zeUSAoIS3DevI3e7s7OzU5995plnJCIi2NjY2NjY2NjY2FxFyMEHbGxsbGxsbGxsbEo6tpBrY2NjY2NjY2Nz1WELuTY2NjY2NjY2NlcdtpBrY2NjY2NjY2Nz1WELuTY2NjY2NjY2NlcdtpBrY2NjY2NjY2Nz1WELuTY2NjY2NjY2NlcdtpBrY2NjY2NjAyKC7Trf5mrCFnJtbGxsbGyuYi5EeJUkKfiQjU2JxRZybWxsbGxs/gMUJegWdc7GpqQi2dv62tjY2NjY/PcgIltza3NVY2tybWxsbGxs/gNYdVrChEEcs/VdNlcjtpBrY2NjY2NzFVGYwBqstZUkyTwWfM7G5mrANlewsbGxsbGxAWwTBpurDFvItbGxsbGxKeGIoTyUgBrsXUGECT5mPR4qHoS4xsbmSsYWcm1sbGxsbEo4hQmmRATDMEzhVJblAva4VpMFRVGKFGSLOmdjc6Vh2+Ta2NjY2NiUcAoTOK0CbbDAK0kSDMOALMum8KvrenAUISnsfjY2VxK2kGtjY2NjY3OVEqyl9Xg8OHv2LGRZhqIoyMjIQG5urmmuIMtMLLCaL1gp7LiNzZWIba5gY2NjY2NzlUJE0DQNTqcTJ06cwKxZs3DgwAG0bt0aFSpUwIoVK5CXl4fXXnsNN954I3RdhyzLtiBrc1Vga3JtbGxsbGyuYiRJgqZpWLx4MWrWrImuXbvihRdewPfff4+XXnoJqqrip59+MsMWV8C1dWQ2Vzq2kGtjY2NjY3OVIkkSHA4HUlNTIUkS+vbtixMnTqBGjRp48803Ub9+fRiGgYoVKwZfWiRCwLUFXZsrGVvItbGxsbGxuQoRC81UVUXZsmUxZMgQ+Hw+rF69GgMGDMBNN92EPXv2ICkpCbfddhuIyLTJFdcXJsRabX0vmNBR2thccmwh18bGxsbG5ioiWDAV3hPCw8Nx7NgxnDt3Du3btwcA/PLLLyhdujTq168Pn89XbO8KuFgBFwDZUq7NP4Qt5NrY2NjY2FxFWLWswTa2u3fvRlRUFBo2bIicnBxs2rQJDzzwAJKSkrBw4cJ82tvga4OFZxubKx1byLWxsbGxsSnBFCZ8BpsbaJqG1atXo2HDhoiKikJqaiqys7MRERGBhQsXokKFCnA4HIXGd7Ga22AuVTw2NufDFnJtbGxsbGxKKIZhmN+DhVOhiRXH8/Ly0KxZMzzyyCMAgJiYGPTt2xebNm1C/fr1cf/990PTtHx2uQJh3yu+Fwe6gLBWCPl3ZLtY2PXFi0Pc7+/e0+bKwvaTa2NjY2NjU8Igvo2vdQczBJkYCAFX13VTgBM+cA3DgKIo0HUdGRkZKF++vCnIWs0cRFhhq+t0OvPdqyiC03UhiGsv9DorFxLH30mrzZWLLeTa2NjY2NiUIKzDthBcLzdWoRoh7HULQ1z3z0MgAtiti3t/uoCwNiUBW8i1sbGxsbEpoRiGgZUrVyI2NhYulwuKopjaWFVVTYFYVVWoqmp6WhCCcfDuZrIsg/guaWLrX0mS4PF4UK9ePbRr1w5utxu4xBrPooRhAoAL1rRejJBrc7VhC7k2NjY2NjYlFCLCyy+/jEmTJgEWAVBRFFSqVAkulwu6rkOy2OZaBdtgEUAIm36/H0lJSfnO3XDDDViyZAlq1qxZQKNblJBaHIq6PljIRTEF3aLiPB9/51qbKwdbyLWxsbGxsSmBCEHs2LFjGDBgANasWWNqaZ1OJyZOnIjOnTsjJyengMBGFhvdYIgIXq8Xq1atwhdffIF9+/bB4XAgIiICS5cuRcuWLU07X6HpvRj+WUHSNkX4L2ILuTY2NjY2NiUQwzBgGAYcDge2bduGfv364fDhw5BlGYZhoHXr1liwYAEqV64cfGmxOXr0KJ599lksW7YMsixjyZIl6NChg7kQTVGU4EuueKzCtXWhnc3VR8FXOBsbGxsbG5srFrJ4QXA4HDAMA7feeivGjh2LiIgIGIYBl8uFVatW4YknnsDp06cBAH6/H5qmQdf1fB/hoUF8Bxf+iAj16tXD7Nmz0aZNGxiGgcOHDwMhbHn/LuyZuAuvi9S9Ce10cRHC7qV8DpsrC+XNN998M/igjY2NjY2NzZVJKMFM13U0bNgQZcqUwapVq6CqKpxOJw4ePIi8vDy0bdsWLpcLsCwuE9+FwCr+WgVFIkKZMmVQs2ZNLFq0CNHR0ejWrZsZJlRaiosQSiVY7Hqt9rbFiFcIqkULuBLYQrTAvQwyAGLPb3P1Ygu5NjY2NjY2JRiroHbnnXfCMAysW7cOuq5DlmXs2bMHpUqVQvPmzfMJtwhawCW+B/81DANVq1bFnj17cOLECfTp08e0xbUKzMUVdoVgKswtDMOA3++HQ3Fw21kAkJgFbRFxCsGWAMhBvn3zfyzCuCk/s99Cm40g4V+Q/5kCabMpGdg2uTY2NjY2NiUcIfDJsozc3Fw89dRT+OKLL+BwOKDrOiIjIzFlyhQ8/vjjppsxIehataGmMMjRNR2qxrTCW7duxe7du9GnTx9ERUWZQvSFakOJm1vIsoxz585h3LhxCA8Px+hXRyMqOgoG9wYBSWKibhEypUhzSkoK5s6di3PnzqF8+fJwuVzweLw4c+YMPJ48REZGQvWr0HQNpUpFombNmmjUqBGaNr0ZFStWhK7rUBQln5DLsqGIm9tc8dhCro2NjY2NzVWCEPqOHDmCIUOG4K+//jJ3Nitbtizmzp2L7t27Q9M0U5gVgm2wllcIo+KvMHcQmk+D75pWHCGXiDmtFSKjEHLfnTQJL7/0Eu684w4sXvwjYqrEQNc0yJYFbfm1qQyRVnHu2PHjmDhxImL3x+Lo0SM4e/YsFEXBjTfeiNq1a8Pn9cEd5gYRkJeXi2PHjuHEiRO4885mePfdd3D77bfnE/xtrg5sIdfGxsbGxuYqgfgCMofDgbi4OHTv3h179uxBWFgYvF4vGjRogPnz5+O2226DbnEDZkUIjgQCGUxECBYVrMJgKCHUiriWQDB0JkgKM4reDz+MgwcOoNmdzfDtt9+gWvXqIN2AJAeEbqHVDRmnMFngC9ccDgUvv/wK3ntvEho1aoRfflmGWrWugWEYzB5XlqDrBmJj92PQoEHYsmULbrrpJnz77beoV6+eufBOliW+mUTRz2ZzZWO/stjY2NjY2FxFSHwzh7p162LChAmoXLkyfD4fHA4HDh48iJdeegnx8fH5hFuhzbUKdRKYza34KIpiam5DhS8MMxwxDa7w8DBr9iwcPHAAAHD27BmcSz1nhrcSShMnggTS5YDD4UBGRgaOHDkCAGjWrBmqVKkCXSdIsgzdMGAY7CWgSZMm6NPnYTgcDuzatQt//LGSx8sFfHO3NJuSjC3k2tjY2NjYXCUIgdLhcICI0LFjR0yePBmlSpUyTQ7++usvjBgxAklJSXA4HAWEylDkE37PFz7EBLFVEyzcm636cxXq1qsHAEhNTUVqaqrligCh7xYQsIWeWJYlnD2bjIMHmeB87bXXwe12sRDEtLySzAR3AIiIiITD4QS4kI0QGmubko0t5NrY2NjY2FwlWKfvwW1fH374Ybz66quQufcAh8OBJUuW4IMPPsh3nZW/LeoR93drSYtIl9frxYwZM9DzoYfQqVMnAEBubi4yMzPZtbLQpopUhBZzBZIl7J49uxEffwJRUVFo2LAhC0BkJie/AM60ugBQoUIFwOIfmF9mU8KxhVwbGxsbG5urhGATAuIL0UaNGoV+/fpBVVU4HA4AwKRJkzBjxgyAC3fWjSH+loQnbGj5R6THMAy43W788MMPSEpKwogRI1C2XDlAAnTDgN/nY9fzW0tmHJa4C0FoZw8fPgKfz4tatWqhcePG7KRpgsDsdhVZhtfjxZ8r/4Sq+tGoYSO0b9+ex8NMMs6rrbYpEdhCro2NjY2NzVWEZNnYQeZb/DqdTrzxxhu477774PV64Xa74ff7MXbsWPz000+mlleSpL+vxQ0FEZxOJ1KSkzFr1iz07NkTlStVQvUaNRAWFhYU1GA2sfxfccnJycXmzZsAALfeeiuqV68OTdOh8GfTuUcJSZbw+/Ll+Onnn1CqVCm8/MrLqFOnDsAXnAlsQbfkYwu5NjY2Nv8hrFPZNlcnwdpcXdehqipq1aqFmTNn4p577oHP54PL5UJqaipGjhyJ2NhY045Xtmg+QyHqkPUTrPklYp4ZyOBuyPjx2bM/hNPpxIABAwAA5cuXg9vtBqxCJRFABggU0OIGmWFYDSoMfiw9PR1H4+IAADfeeCOcTgccDgWQAEWR4XQ5IcsSfvrpZzzzzNNwudwYP348HnnkEb6l8IW3j+B8uJBrbS4/tpBrY2NjY2NzFSO8I+i6juuuuw7jxo1D1apVTXtUp9MZYiOEwj0niHPmJziAiMfi+UuWZezcuRPfffctRjzzDCpWrAgAiIqOhsvFhNyMjAx2mVWbLIRHdoKdM21sWSghlG/bvg3H4uLgcrmQmZmFXbt2Y/PmzdiyZQs2b96MefPmYfDgwXj11f/DTTfdhCVLluDJJ5+EYRAkScQn7hGwzS2KAnlRSJ7Z/DvYQq6NjY2Njc1VjBC8iAiqquK2227DrbfeCl3XUa5cObz77ru49tproWlasQS7AnDbWVObabmnYbBd2FRVxfuTJ+PGG29Elwe7mAJ2WFgY07YCOJ2QICIEwOLTdWYrLDEp1EyfuJd1odihgwehqirCwsKwfPnvePXVVzF27FiMGzce48ePx5QpUzF37lzIsoJhw4ajZcsWcDic0HXNfHbDMLiSmG07bD7TxeSLzb+OLeTa2NjY/MewlU0li4sRsIRgFhA22SYHTqcTP/74I/766y+EhYVh/PjxePDBB6FpWsjrL4RgbaahGzCI3ffnn37G+vXr8dxzz0HmQq0BZkYgSUwUSUhIgKHrADeZMHgadF3HmTNnkJeXB13XzU0swNNpGAY8Hg/WrVsHAGjXrh2+/vprzJkzB3PmzMHs2bPw8ccfY+nSpZg3bx7y8nLx0EM98dZbb0HTVMiyAiJAN3SQYSA5JQWJiUl8MZ4BQzdsDW0JxRZybWxsbP5z2AN2SeJiBCyrsCm+O51ObNy4EWPGjEFWVhZefPFFDBo0yBSAizPdXpjgG+q4LEtwOBSkpaVh9oez0b1HDzS95RZmq0sEGYDicJouw9LOnYOmagD3lCBJEhxOB+Lj49G3b198++23UBQFhmGYWlZJkqAoCpKTkxEXdwwA0LZtW9SsWRPVqlVF1apVUa1aNcTEVEH16tXx+OOP47nnnkNOTg4mT56Mv/76C04n8xXs4HG/+OILeOaZp5GTk8t2Psv3VDYlCVvItbGxsfkPcR4ZxuYqQ2g6XS4XtmzZgkGDBiEuLg69e/fGqFGjzMVmwVrYogTeUAJtKFg4CfPnz8dfq1dj48aN6Ne3Lx5+uDf69OmD3n374IUXXkBKSgoAwK+qTPPLrBUgbHvdbjeqVasGl8sFiXuMCF4ct23bNpw4EY+qVavi5ptvBgBoGjND0HUdfr8fPp8XAHDddQ1Qrlx55OTk4LfffgP44jzwbXwbNWqEG264AQ6HAjIC2vBgipsPNv8eEtmlZGNjY1NM2KBtY3MlYx3WhQCbkJCARx99FH/99RfuvfdezJs3D1WrVs0XPljILQwRZzAiHuJmBoqi4NixY+jRowfuvucePNC2LTzc5ACSBElRkJWbg2lTp2Lvzl24/9578eNPPyGiVCmACJqmweFkO5Ll5uXC5XTD6WQ+foX2WdznrbFv4c033kSLFi2wcOFCVKtWDbqumwvqVFWFrutwOJz47bff8NhjjyIjIwOPPfYY5s37HH6/HwDgdrtAfMMKh8MJWWIux4QfXgF71ND5YHPlYGtybWxsbIqJrRKwKSlY7Vbz8vLwyiuv4K+//kLTpk0xffp0VK9eHaqqmkKiZFk4dj5E2GAkiS3W0jQN4La07733Hho0aIC3x49Hhw4d0KNnT/Tq3Ru9evXCQz164InHHsett9wKAMjOzoYvzwMA0HUDDqcTcUePYsmSJdBUDU6nI59phfh77tw5bFi/AQBwww03ICYmBoZhmIKp0P4CgNPpQG5uDlSVCbVMO8w8NHi9Xvzwww/Yu3cfwsPDAfFaa2qNuSDPH90WcK98bCHXxsbGppj8m4NacQUQRnDY4l5nU5IorD5Yj2uahnfffRdfffUVKleujPHjx6NBgwam5lKEF4JgcB3PV4uCvBkEv/WZ2lXDgOJwYM3qNVi+fDmGDx+OyMhIc3EbcZtanXnCNe+ZkZ6Bc+npAADFoWDHjh14//0p+OCDD/Dee+9BVdUCGlVZlpGQmID4+HgAQK1ataAobGGbFZFmv9+Pn3/+Gbm5eXA6nWjfju10lpuXh2nTpmHB1wvw1ltvISnpDJzclEM8Jksm24HtX+wKbC4AW8i1sbGxuYqwDsqBYwgp6BYmJNmUbIhP9cuyjMWLF2Py5MkIDw/H//73PzzwwAOm+y4R1vpXspgsEBGIC65CuBWCsCQFuQ2zfCRZRm5uLmZ+MBOt7rkHzZs3M7XG4OeJa2sJMF2IpaSmmva5OTk5+GbRIrS5tw2aN2+OP/74A3l5eQXSCgD79+3H4cOHUbZsWdx5550QBKcrPDwcS5cuxS+//AIAaN2qNe6+5x4AwOLFi6EoMgYNHozY2FicOXPGtExi17PvtnBbsrCFXBsbG5tLhBh8LwdW4aMorNO4+Y+d/1qbkoW1jIUAKTwPhIWFYe3atXj++eeRl5eHcePHoX///qadqsPhgMvlMrWepmBrxhhACLh5eXn46quvsHPnTpDFztXq6UDEu2jhIuzduxfPjhwJWQ7cg71vMaHTociQAURFRgIAcj15yM3LBQCkp6XjugYNcPfdd2PVqlW46667ULp0adMcwtoejhw5AgCoW7cu6tWrB1g2wBDhXC4XVq1ahVdeeQVZWVlo0qQJ3pv8HsqXLwdV1RAeHobHH++PtWvXonz58qhbty40jb0MFHdjCJsrD1vItbGxsblIrAOfGOQLO38pYHJMIXEGnRPaq6IITq9NyUAItMEqe/HL6XRi165dGDJkCBISEjB48GA8PfzpfHXUKgBaBcZ88HcjIRjv3r0bI0aMwLJly/Jdw9IDeDwexMbG4o033sBLL72EkydPYvHixYiPj4eqqmwRmGFA1TR4PR7EHY3DN99/ixUrVgAAvF4vlv++HIkJiShTtgwGDBiA7du3Iz09Hb179wa4rbGu6zh58iQOHTqEX3/9FZ/P/xzgG0ukpKTgyJEjOHr0CA4fPoJDhw5h165deOvNN9GtWzccOXIEPXr0wLx589CkSRNutkF4+OGHIUkS/vjjD/Tu3RvR0VHcrpdlQqjssbnysb0r2NjY2FwgotMky+KWUIQSfC8W1lWzwbZAvOxUSKxd/KVKi82/iyh/az0gbqLgdDpx/PhxPP7YY1i7bh26dOmCKVOmoEaNGgCQb5FZYfXBWp2Ena1hGBg1ahRmzpyJpUuXokOHDtD5TmTi8+OPP+Ltt9/G8ePHYHBfuESETp064e0Jb6NmzZowdAMgwqYtW/Diiy8i6UwSfD4f3E4XdE2Hx5OHzp07Y+q0aYiOjsagwYOgyApmz56NkydPonLlykhMTMTzzz+P+Ph4ZGVlISsrCwDgcDhQrlw5U4B3uVwICwsDESEjIx3XXFMLvXr1Qo8ePRAdHQ2fzwcitiGF0+nE3Lmf4OOPP8Y3ixbB7XYjLCwMUdFRkLgvXpuShy3k2tjY2FwAYuAWQoJhGEhNTUX58uXhcDCn8pcD0VUzAYULIeJWRQi5Auv1hkEQ7o8uV3pt/iGITNtYXdehqiqGDx+Ozz77DA0bNsTixYtx3XXXwefzmfWzOOUuhFtwre+qVavQrVs3AMDy5ctx++23mwvJhOB89OhRJCQkIDw8HJ68PPj8fhiGgapVq6JevXpwuVzspVCSkJSUhKNHjyI8PBxutxuyJMHj8SAnOxvlypVHkxua4OSpk+j1UC+88cYbqFGjBtatW4f+/ftD0zTs2rXLNF1wuVxmWvx+v2lCERERjjJlysDlciMiIgLly5dHdHQ0/H6/6R/YMNhuZoriwNAhQxAZFYX/+7//w8KFC9GrVy9UrVoFmqabdsM2JQtbyLWxuQwUpSWxKYGIXlICVFWFYRBzO6QomDF9OubOnYuPPvoILVq0uORlT8RWoMuShIMHD2Ha9GnIzMhAREQEnE4nDL6lqXAZ5XA4uRBuoEqVKrjvvvtwyy23oEKFCtzGkCBJMiQptP2uTclB13XIsmy+dGVnZ2PMmDH44IMPEBMTgwULFqBVq1Z82p2FE7CXpcDv4HOiThiGgSVLlmD06NHYv38/7r33Xnz33XeIjo5mZgyyDMniqqsoDIMtNFOKmP2wcvjwYQwYMAAPPvggPB4PunbtiiZNmkCyuAS7MIi3AQmKwq4Xu69puoahQ5+EruvmZhAdO3aApul862H+cln0I9pcYVxMLbGxsTkP5+vsbUousqxAVthU6K5duzBlyhTExsbi2DG2pShRQAN2SXQIlrokSUBkqVJITk7GggUL8OGHH+Ljjz9GYkIiKlWqhOjo0qhalW1lmpubiwULFqBnz54YPHgw9u+PNbVRQsAtjkbP5spELPYSAiwAzJ07Fx988AEkScLIkSPRqlUr5ObmIjc3F8nJycjOzkZGRgays7Ph8Xjg9Xrh8Xjg5xpXEZ/X68XBgwexevVqjBs3Dk8++ST2798PAChXrhwiIyNNDahk9bYgCKr3oh2IxWDWs0TMtlgI6uKYYRioXq06nn76aSQmJuL+++/HDTfcYIYT6Q31OzTsuMPhgMPBNM+SJEFWZCgOBW63G48//jhq1aqFOnVqo127B0DmbI2YBQmK0uaKx9bk2tjY2FwAYnD382nhT+bOhSRJmDBhAl555RUznOhapfz/XTS6bjDtsSwjMzMTgwYNwnfffYf777sf33zzDcqULZMvPBFh/foN6Nu3D06dOoVWrVvj83nzUL16DQCGueLdpuRhFe6ICA6HA99++w2GDn0S6enpcDgcuOnmm1CtajV4vV5omob09HSUKlUKmqZBURTTdMAwDDidTlNQFjMC8fHxSE1NRVZWFgy+LbDP58P48eMxevRoU6i8GFtVLspCKqRNmMKlzrb4tZokiHPCROJ8mO3wPGFVVYXD4TQFWfF87DoJssw0ucLMx6ZkYAu5VzL23IjNFUKgs/+PwTc3Mgc+vrjH5XRi2a+/olu3blD9fhARxo4di9dee41ppSxRBLLt7+WfQQRDN+BwKEhOTkH3bt2wfsN6vPLKK/jf//4HTdWgONiOUJLEBmVdZ4uFpk+fhoiICMybNw8PPfSQuVrepmQihm3ifmvXrFmDgQMHIi4uDoqimALapUDUE1mWoWkafv75Z3Tq1CmfEFhAk3uRiPisadd1HQ6HI98iN+t9Q5G/vxLa3fzhg/s0IdyDP6thsLxlwu1/tP+7CrDNFa5URCOnwBaCNjb/Jpdq0CxR8HGNhMcmw4AiyziXlo7Zs2bhmpo1ER4RAQDQLavQxQXscqYJKkhRU6sBRAjJMkifPHECe/fuhcPhQNObm5phDYsgoKk6dENHBE+fYRC8Xp8ZFrxMxcem5GAVLMkw8NVXXyEuLg4IEtYuBcJll6qqiIyMRMWKFYEgIbE49ztfPbOeE/FK3O8ucY2x8JpwYQJnwfYXKh3Cd7DD4YAsy3A4AuLRhd3P5krC1uReqbAXTxsbmysAIeAaRHA4FEydOhW/LFuGYcOG4enhw5GYmIjRo0dj/PjxMHQdkNhErCQVvv+n6HrPN4CKroBIaLUUfPTRx3jyyaGoXrU6Fv+4GLfedivTOgf1Gx6vBy++8AJmzZqFMmXL4tNPPkW3bl1NTW5x02Bz5aLrOj766CMsXrwYUVFRAAiGQTAMtpGBLAdchoUub8nyKlUQEVZVVdSrVw+vvfYaypUrZ84YiDDFqUNWwfhCCZ32i6c4aTHtjs8TzubKxRZybWyuZvjUud1JF06Rg53pb59gEEFRZBw6dBgdOnbEW2+9gdatWqNjx47YvXs3nnzyScyePZsNxmLaFULGLST+YhAQcgkaN1cYOmQo5sz5GJ06dMKibxYhPCwckJhJgyxbNL6nTqF7t+7Yvn0b7mnVCt8s+sb0I8qc3IeG5Qn+VrptLh8FBFZi9dMwDOi6wbWQkim/WoVca30PVe+FUGcVDYLFBOKa1aLiCeZ8Qur5zl9OrPcusj+wKXHY5go2Nlcz59FCBA9e/zXE44fMBi7gShLT6DDfm4SZH8xEo0aN0L17D/hVFU6XCwCQnJIMj8djCgkwRcT8+U+WrVet3wuzo7Re7XQoSElOweHDhwEAt91+G8LDw2GQwVaAE0H1q2b4efPmYfv2bahWvTpeG/MaKlWqyD0rFF32toB75WIVyIRQpgsTGbCNDSSJb2lrMXGR+GItIZxajwuvB8IcILhu6LoOTdNMzabVH3So/iW/VXrxsKbpn0aS+AtBIc9jU3L5zwu5dB47oSuFfyuN/9Jtbf5FSkqbuDQIgSH4OEMIg7quA0RYtWoVVq78E6NGjUJEeDjLK26Lm5Kcguzs7MCFIWBCLRMYiJjgrOtMeGD5HnyFBR7nsWNxOHLkMCRIaNr0FkiyBMWhQHEwV0gutwvp6RmYOm0aJk58B7Xr1MG0adNw771t2HMUq12HTr/NlULAJlcIr6J+MAGUD+3EFlEJ4VZ8F7anDofDPG79WMMT994gvDGcTwgkCr2ORLpEtepy9U2FeXqwKdn854VcweVqOJcC8VZ8JafRpmRiHbCEcPtvalT+DQod3PioLARDwzAwffo03NW8Ge65527ohoGIiAiULsNcd6WlpcHj8Viu5/Fa2q0QZCUJUBQmZJgCiQiT71cAgwvTmzZtQmrqOUiShNgDsYjdH4tVf67Cj4t/xLfffIvx48eja9eueG/Sexg6ZAiWL1+Ozp06Q+VO8CXueeG/VMZXC4ExIH8tMT0dWMrXMKhQjSpR6JdZ6zH2QhbwPStzF2PB1xQbqXD79AvlQtMgnqGwZy4+FxLW5krgPy/kWt+G/y3O18gkPgz/G2kMdcvzJNfmCqWwTl6cC9UOCoa82ghMU+Yj6MEVh4KFCxfi0KFDeOqppwAAmq7DHRaGcmXLAgB8Ph9bdBaENSqJbwMsSzJ2bN9ubk0KswxCJwd8xzNV07Br1274/T5ERUXh+++/w4gRI/D6669j4jsT8d7k9zB//nysWbMaderUwcMPP4x6deuCwGx1FYVp6mxKJqJ9WtupqFPCxVZCQiLOnUvjsxDC24clEiBfrQwlCIs+QlEUOJ1OSJKE1NRU6HyHtVDpEIQ6dikJ1U+dj+D8yscFRXVBgW2uAOzeLhgqOMD9k1g7HCLLL76I5dJzaWKlfzjfQglqNudH2NaRYbBpdp6P1o6fiNgOSEzdw/JafK4ygsc7AYHYdp8GW2CTkpyCWbNnoV+/R9C0aVMYhgGX04noqChUqlwZAHNYr2pa/oiCbiBJbKe0HTt2oHuP7ujZswe2bdtmejooMABbkCQJSYlJ2Lt3LwBg2LBh+OGHH/DRRx9h3rx5WLRwEb755hv89ttveP/9KTh69Ag6deqEz+fPB7iQbFPyyd9W2V8mjLpw6vRpPProo5g8eTLICNQnTdegqqrpXixfPbNodYlrbzVNg6ZrOHDgAJYsWYKRI0fi9ddfL/Zis6LO/XuEFo4LncmxuSqwhVwrYgz/h+u8aHjEp5vAHb8zEZclqkjx4iIEkECndn6B0doBouC4zSl8aszmykBoQAydaX2I2Lz5uXPnsHfvXmzfvh3xx48zrRAf6MR1xL4ER3lJOV89/KfIP9irkGQJ33zzDbKzs9Gr10PIzctDWloaklOSkZmZyd02AX6/H7m5ucHR5UOYPmi6Bk3TkZubB01VzbIh64stb/eGwVbOA8Dp06dw8uQJuF1u3H7H7ahWrRrbhrRuHdS8piZq1qiJOnXq4LnnRmLYsGFITU3Byy+9hC2bN7OyL2Rxm03Jg7VJ/p3XV5fLhUqVKiEyMtK0r9U1nX10A2SwDUVEeLaYkgu1mmb+BgAyCNu2bcPRo0fx559/YvPmTfD7/Wa/8E9yKersZe6+bK5QbBdifFAJ9YZXbIj/d544zKyWQr87EgIG+0QESZYAsIEvlBaG3TZQfBKK35KtxR64pOhrKYTz78BvFiafgiBYY2DzjyBKNlTOB2z3AE3TsfjHxZg7dy62btkC3TBQtVpVjB//Nh7q2RN+v9+cqiQuEIeK82qCiGlvDWKabkVWEH8iHl27dsXx+BO4++6W8Pp88Kt+tmhM03HixAmkpKSgfLly+Omnn9CsWTNrhLx/YW3EMISjfgmrV6+Gz+/DfffeC0VhDu8lma10t+a0YbASlWUJM2d+gGeeeRr16tXD8t+Xo3ad2rztWV5EiZlX/PjjjxgwYAAyMjLw1ltv4fXXXzcFGNtkoQRDBLK0RSJA1VQQEVwOJzxeL1s8JiuQZQmapsEd5g6KJDR+vw+SxMwRDMOA3+9HREQEBgwYgCNHjmDlypVwuVxsods/iD2W2Fws/ykhl8Acugd38EaQU2sWOLTQGqqxBQt8hZFfsCwYlvjbdWEdiEFGwCUMj8taeBKKL+QGYAOu+QyWoyg0nTBDWM9bB2M21c2+X07Ol6f/VVipFkTUXzIMTJo0CS+/8gpuvaUphg1/GhGlSmHOnDmIjd2PBV8vwD133xPQFBUS39WGKShy8wOX04kRI0Zg9+49GDR4ELw+H8LcbsiKDN0wEOYOw7JffsEXX3wBh6Lgiy++QK/evYOjBXjcTGOmQlHYanXw+0gSTOECYO1Y4m2NiPVZmqZh0KBB+Pzzz3Hfffdh6dKlcChsdyZ2DXPYL0GC0+XEwoUL8eRTTyIzIxMjRz6HKVPeN9Pxb7aVf/v+JR2zxxNmBiAosozj8fHYu2cvbr3lVsTExEDXdThdDqSlpePDD2dj3759kGXZ9KiQH0KdOnUxdOgQlC1bDpAAQ2cveZCA/v374/Tp0/jtt9/MF18bm5LAf0bItQ5eqqpi9+7dyMrKwm233YbSpUub07eKLEMqQssRqoM2BcTzNnxiU0ZE8Pl92L1rNwzDQJMmTRAREWFef+r0KezYsRMJCQlITU1FVlYWRox4BnVq1wl5f1NbhIsRchmhqoG4j67rOHDwIM4kncGNN96AChUqAJCCtLZCS8XSQVxbxMLkD3spsaa7QL6EIGT+XULM9Ei4TLZe5xc3g0Owug9IfEMDXdcxbdo0jH71VTRv3hwfzJqF66+/HgDw6/Lf0aFdOzzStx8++eRTuNyugi9SVyHB9Z8MA7KiYOXKlXjxhRcwZcpU3NPqnnxhBF988SUGDhwATdMwY/p0PP3MMzB0g73ghegr2Eu1DILY9je/ZpVEIwKbMhZ1Njk5GZ06dcL27dsxZswYjBs3DmSwsGb/Ruxl2Ol04q233sKbb74JAJg6dSqeffZZ8x6Cy90eQnEx9yx+H/vfgPjmD8Q3ZTh75ixmzZqF2NhYVImpgnfeeQcREWyDkIyMTKxcuRJerydgihBU31XVj+jo0mjXrh0iIyPzhZEkCY888giOHTuG1atXm9ve2tiUCOg/gq7rpGsaEREtXbqUKpSvQABo9OjR5PV6Sdd1UlWVDF1nFxj5rxcYhkGGEXzSCFxgEFGB8wxd10nTNdINg7759luKjIwkl8tFk9+fTKqqkt/vJyKiFStWUO/evenaBtcRl1lo+YrlwdHlh6erYNouhNDXb9++nepfey0BoMGDh5DfrwYe0WCPa+gG6To7qGk6+f1+UjWNVFULGeel4u8/86XncqeJVbGC8YtaaP3ouk6appGmaWb9+uyzz8jpcFCD6xrQkcOHiYjI7/ORQQbtOxBL1WpUp4YNGtKp+BNERKQbBmlkEG8ZVyUiPw3DIE3TSPX7KSsri+65+2568cUXiYhI9fvJ6/WSpmlkGER+VSUioq8XLCC3200AaPJ77xERka7pIcvovFguMQzDLD8ioq1bt1Lp0mVIURRauHChGV6E03XW7nRdp3PnztEDDzxAACgmJobWrFkbiJhzUemzuSIwDIN0Xn5+VaN3351Ei775lubP/4LuuL0ZpaakEvG+WFVZ/SkOoi6J76KO9OnTh+644w42Rtr1xqYEcVW8jhVnwZMkSZBlNkVz7NgxpJ5LBQDs2LGDTfFJEmTTgXaQVidIWxisTeDvuzxA4WkhBKaK9+zZg5ycHPj9fpw+dRoOhwPgWtMWLVrg6wUL8PaECShdpgzcYe6gN2duu0uWBWfFcIVmXciW77j5fKE1rsnJKTjCd1javn0bvF5P/nAWu+YVK/7An3+uZFNaliAsWMF7WylOOVoRGqGinvlyI57J1KQVUkesnC8fzodk/hcEifK11EjL7kVOpxOHDh7ExP/9D7ph4NVXX0W9+vXh83ghSRJ0w4DD6UR0dDQSTp9G8tmzAF+VL9zYFcnffK5/E1FeEv/ucDrxww8/wOvzYcjgwSDDMDVnAEBSQBtZsWKFgPaLx2d1s1R8AhpcWNIkFvps2LABmZkZqFu3Lm666SYeKFDfRB2UZRkfffQRVqxYAQDo27cvbr31lgL17sLTd2kJTk/wb5uikMxOIDc3B/WvvRYt7roLK1aswA033oCy3K2dosjw5OXh22+/w5w5czFnzlx8/PEcfPzxHMyZMwdz587FnDlz8OGHs7Fo0UKkp6ebY01w9fi364uNzcVQ4oVcIibwWYUMcdwqgEiQTCGqW7duGDRoEFq2aIGXXnoJkZGR3FzBCIgIXFgli0PsfFh/W7+KtWNB6QEAWZJBxNy9dO3aBS1btsR999+Pfv36AQAkPjA6HU7IkoRratdCqahIwCAoChOC2UALltYQ9xDHgo+zk6HlkMA1+a8XU1stWtyFV155BU2a3IAnnngCkZGRpv0t8TQZhgEJwK+/LsNvv/5mxn1Bg/1FeHq4lFxsnMW5rjhhLgQpKK8KxM7PSVKgfHxeL2Z+8AEOHT6MLl26oOdDPWFoOhzcPs8hK8jzeJDn8UDXdahqYBV1USVIxHb9ohDPGfxbcDnL8UKwpoOI9RCyLGPf3r14b9IkPNC2LerVrw+Ne0VQHAoz+dB0M1NKR5c2X1JzcnLYQb6JRL7nO++zsj4qf56w3abAX8gBoFGjRqhevboZQqySF3aWX375JSZOnAjDMNCtW3eMHj0abjdbeCSe8UpBPGtwPSiqfgSXmfX4fwVWTwzoRIiMjETXLg/i6NGj2LVrFx599BHIigzVrwEEeH1e7N69G+vXrcfGjRuwefNmbN68GRs3buSfDdiwYQP3v+wHzDqVf9yjoLHwv5TfNiWXEm2Ta21sogHK3G2KdTEZWXZrAX8j9Xg8yM7ORqVKldjgwzUhwQKZiFdoS8QxFhamdjg4LPh92NdAnAbfo15RFCSdSYIECZUqV4ahG3A4mA9CkY6NO7ah+4NdkJ6Sil9/+w2tW7c24xEQMcmVXce0PrIsQeEDo8gja9qDf1s/gbf4/Hnn9Xpx+nQCrrnmGnMwFbvqqKrKHc07MHLkSERHR2P8+HEsW1G4hBQqv0MRKpx4DvFX5ttPirDieGEExyfKxSqUW8u8KELdKziuUPkufouBo6j7Ws+L1f/WsIWFN7h7IJfLhb/++gs9e/aEz+fDvHnz0KNHD2h+NosBmW0NuvKvVejRrTt0VcXvy35D87tbsPh4vMG5IfJNCl44FUSoPEJQ+SFEuQRjjSdfveBtuCgkS72w3kfkEREhJSUFK1aswIwZM7Bz507cfNNNeP2NN9CqVStEREQAEts21e9XkZycjO3bt+Prr7/Gj4sXQ9M03HrLrZgxYwYaXd8IbrfbFC6t5EsD5c9Ug79YAoCmqsjIzERqagpWrPgD777zDhKTktC3b19MmjQJTqcTBhkwdJb+gwcPYsGCBVi0aBE0TUOvXr0wduxYXHPNNWafEyp/89WtItqPuFKcCa6z+cojiOBzZBFQrf22OB4ct/gu6pu4xnreGk4g7hF8f4FI9/nOB38P5nzhQp0/bzgikARAzKIE5x8LBYB533nxxZewZ89e/Lh4Mc6cOYMKFSqgVGQpkMH6cEmyFGIRBHzpAgDbQKRv336Ij4/Hn3/+aS5csz5PcN4V+VyFtMNQFDeews4Xh+A4ECKeYpXXRdzbyoXEfSHpCT5mRZy/minRQi54IbFBtuiCIiIoCtOkksUxuq5pkHgHGwoSwh83ZTC4BlVUnGBBRtcNgJslgFcq8REYhgFVVc0BUA/aRQYGAbKELXt3oUfnLjh7OgG/LV+ONm3amPeRwLdG4gsQQIAkszQFp8sKgYe1pJm5S2KdmlVQEX+tAwoZzM2RyAPDYCvGASArKwvt2rVD9+7d8eqr/2eGB1jaikNhja6w4zrf5Sc4j/8O5iLEIKGgsDQIwUSkQZSBOCacslvzzVpOxBftifDgWn8xIBG/t+lGjpifVXDNogTubcNSpjwy9p3fc9Rzz2HqtGno0aMHPvvsM4SHhUHmZjwGEWRFxsJvFqH/Y4/D5XRi5Yo/cNudd7C0SlLIaR9VVaHwPe7/LqIdh8pjWJ+rCCSeX9YDwYYWweUo4j137hxee+01/LJ0KQwiuFwu+Hw+lC5dGm+//TYe7NIFmqbBoSjIyc3Fyy+/jJV//IE8jwdulwuSJEFVVVSuXBkTJkzA/fffX+BeRUE8/YLY/fsx+f33cfDgQaSmpkJVmZuoiIgI1KhRA7IsQdcDfV9iYiI0TUOrVq3Qo3sP3HHnHXC73WYbcTrZDFG+lwEuLIVKY3Bfke8ckZliSWL1r7B4BKJcCg9x4bCXetZnFXnvIsrBWq+Cw1jba6jzxeFirjWvEQcKuZb4f9k5OXioZ0/07dsHzZo1x/LlK/D4Y48hPDwcBD5+cRMbEv2TGDPAxhORj2TR2EoSe/l99NFHcezYMaxbtw6SJMHv95vhCxtrCuNi8uNyYi1/wd9JW1F1rShCpQOFpCVU2FDhLgUX+zxXCiVSyLU2EuKrxYUmIDicGDh1QwiSvEMMBILOhTiDd+pKiHgQohJpum6GFZoSAbuEDQJm9y4xe1yrAMPCMkFVFh21bgCKjE17duKhB7siJSEJvy7/3dTkGtw0QFQ+SSq4itvQDTbAWwQvNiDlCwZwQUWW5Xzpz+eujCPuZ3CBGAD7LkuQJQlz536CwYMHYfLk9zFq1HPmNSxcfs1mMCycSGPoMKEQArYkScjIyEBaWpr5vNZyE3GGOm4dJN1uN8qXLw9JkuBwOEI+fzDBL1nW7zqf5hb3ERgGW1nPBN9A8Rm6wV4IeNWRJLYRA7HGGni5CcK6ml88H1le5mJjY9G+XTucPHUKn8ydi4FPPAFN00xvIqJ8nn/xRbz/3nuoVrUqVixfjobXX89eoiRADrqxYTAtYkJiAnw+n/mMiqyAwNqeWImtW5zMC0RZEBGio6NRoUKFQutIYW3w70K8jzC4T9D4+HgY3Km+KG+fz4fy5cujQsWKkLjWWdU0HDt2DJqmwu1ys3LkLzOqqqJq1aooXbo0iL8sgdXskGUn4L0EM/0gQk5uLk6dPAld0+B0ueBwOMy0qqpq+jG2CrGlS5dG9erVWX/GNdTWOi7z+gTWHfH+6eIorD0UBvFn8/v9OHPmDPx+PxRFgcvlKlA/xHOKewS3L0mSEB0djbJlyxZ4Gf0vIcaN9IxM9Hn4YTRq1Ahly5RF27Ztcfsdt5t9k5mPom+X5ALuHUUYne+K6Ha7sXr1aqxZswZfffUVUlJSMGzYMNx1111o3bq12Z8F95MXiriv6AuCx/FLhehDwOvQhdbfi8Xad1mf1UpwOv6ptJ2P4DwriZRIIReWAVJkvCRJOHnyJPbv24fklBTExMTg+uuvR6XKlXD0yFHEVIlB6dKloaka0jMymTsVXYfb5UKlypXhcDqh6hpgGMjzeODxeqH6fHDKDlSqXAmSouDkiZM4ELsfmVlZaHJDE1xzTS1Elipl2sOlpKRgy5YtSElJQaNGjdCgQQNER0czTR3XAMNgQrlf9SMrKwter48JVhXKI8ztZs/DBZwd+/eiZ7fuOHPyNJb99itatWrF39y5cGAYUBwO5GRnY9/+/Yg7GodKlSuhfv36qFqlKlwuF+/Q2KIiRVZgGDpyc3ORm5uLvLw8REZGolKlSvD5/Th06BDOnj2LmMqVUbduXYSFhUHXdPj8PuTk5EBVVYSFhaFcuXKQpIBJSFJSIhYv/hHjx49HSkoyxox5DcOGPQVd02GQgcjISJb3moas7CzIEhN6PF4PFEWB2+VG6dKl4XQ6kZubi5ycHCiKYgpJABAVFZVP8BB1QAyEADB58mTMmDGDaS9C1A/xXQyokkXwlLhw0rBhQ3z99deIjo7Od64wRBrE9F1SUhJOnTqFrKwsVKpUCXXr1uU2zPn9M4vBCQCOHz+Oo3FH4fP60KhRI9SuVZuVma5DVrgGnQuZuTm5iD9+HPEnTsAgA3Xr1cN1117Ly7ag2ypx31mzZmH48OGoVKkSli5dinp160GSuBZaYg7jNV3H448/jj9WrMADbdtiwYIFKFuunBmXqHsQg6VhwOPxoH///li7di3Cw8MhyRITcoPMh8w4LN2NKCOfz4fbb78ds2fPRuXKlc1ys/4V361lb5aL9S3hArAKAOK79UVPoGk6NE0NbIxhmX2RZb4kT2KzFlbhUrxkOJ1O5goMXHNfiGhJPE3Ml3dgoax5Pp/2P/8gKM4JrO3CFHDFbEyoFwaCuTDWiijz4OP5sOS/NQ3WshLpBoDdu3dj6NChSEhIQFhYmPk8ogzENUbQS5EVn8+H9u3bY/r06cyMxII1DcH5ZI3fGkacK+w5reERnHeFYLYXTvA11vuydILXDAJZbO5Dpcsg9pIs6pJhENauXYs1a9agxV13oVWr1jw/WTyyrEBWQqc5uMwMy0zj+vXr8eeffyIiIgJutxsZGRlo2rQp7r//frPcxEtGcDwXivV5iyK4LFCMay41F5rW84W7UILz4Hzx/510/J1rrwRKpJBLFg2Qoijw+Xz4eM7HWPj1QpSvUB5RUVE4d+4ccnNzUb1GdRw7dgwzZszE7bfdhrlz5uKd995FVnY2dL+KZnfeic/nz0e5cuVAAFb+uRJvvvEmkpLPIjs9A3fefgc++vgjfPL5Z/jqiy9ROioaaenpSM/MQKvWrfHuxHdQu1YtLP99OUaPGQ2fzw/D0JGYmIgmN9yACW9PwF13NYemG2yxmGFg3Nhx+Onnn5GZkYGcnBw88ugjeOedd+AOC8s3+O3avw89u3fHyWPx+O3339CmTRuzwrGOS8aqP1dh5gczkZubg8jIKGRlZiH+RDzuu+8+vPLK/6FGjeqmUOd0uvDrr8vw9tsTkJSUiLS0NLRr3x4T//c/zJo1Czt27EBySgpOnjiB/v37Y9KkSVi8eDFmzJiBhNOn4fX6cMstt+CTTz9BpUqVQEQ4eOgQhg4dij179iAvNxeSJCEiohSio6PgdjGvEJ0f7IxJkyZhz549eOaZZ3Dm7BmEh4Xj3LlzUFUVN998M2bMmIF69erhxx9/xOjRo6GqKlwuF/x+P+rXr48PP/wQNWrUAAUJuQLDMLBixQqsXbsWTqfTnMZ0Op0Fwvn59qtCA6HxLS0BoEaNGhg6dCiioqJM4aAwrBqPQ4cO4YMPPsC6detQsWJFuFwuaJqGChUqYPTo0WjQoIGpcTO4Nv9o3FHMnDkThw4dQlRUFPLy8pCSkoL27drj2WefRZkyZSArCnSDLQ5bvWYNxr01FmQYqFuvLrw+H86lpaHpzU0xZPBgVImJAXETBiFQiBeqhx7qhV+WLoXD4UDdunXNjQiEEJqTkwNd15GSkoLs7GwMHToUM2bOhJO/ZITCMAz4fD58+tmn2LtnL/x+PxwOh6ld9Hg88Pv9cLvdiI6OLuB/08+3CPX5fKhVqxaeeuoplC5dOugugfYe/N0qtMmybC5+E8eLwhoPlwRMoUrUMVb2TJQQv3VdZ360RXgu8EsSM0cBBUxoWNR8JsWSNgIAYQYQZE4hhFOhZQvUP5Fe9ls3dDMOFiR/PQ0+Zq3HxF+QIdIW9AJhhaW1oEAt8ecWLUvkp/hYfamKfBZxnDp1Ch9++CFycnLg9XoB7vlDvESHh4fnu1bkifju9/uhqipuuOEGDBw4EGFhYTwVgfDiuazPJtJhJdQzW7HGI+qHFDQrA8vzFxWfOCf+WtMTnEemcBwUHwtnyXlL+pxc0y9zBYT4yHy2RlzF0ln0s4s4hZIhGDFDgEKexxp3qPOhEHks8tdaZue7VhD8TOI5RNmIv4WlyXq9CBuKwp41mMLuE/y7MKz1zJoeURfB7xGchuD4g59FXGNtK1KIen1VkN+jWMlA15kPSuGv78MPP6Ra19SiefPmUUZGBnm9XkpPT6fp06eTLMtUtVo12rlnNxERrVuzlmZ+OIvaPNCWANAdt99BycnJRESkkUF79u6h96dMoW69HyIAdF3devTYo49Sw8bX06zZs+l4XBxt3bqVOj7YmQDQ0KeepG+/+ZaaNG5CL730EsXGHqDYAwdo0ODBBIBuv+MOOnX6NKkq8xnr9fro++9/oDffeJOaNGlCAOjJJ58iIot7Xf535949VKtuHZIkiVb88QcPE3ju1X+tpjtuv4OmTp1CZ8+coeysLEpOTqa3336bAFCvXr0oLS2NdF0nT56HVFWjXbt20bRp06h3794EgOrXr0/t27enjh070sGDB6ktz5eqVavS8ePHaePGjTR58mTq3asXAaAmTZpQQkICyy9Np6QzZ+jb776jn376ibp07UIA6IEH2tEncz+hL7/4kr755htat24d6bpOiYmJ9PXXX1ObNm0IAIWHh9Pw4cPpu+++o9RU5tcxPj6e3n33XapWrRpJkkRPPPEEffvtt5Sdnc18DPOyF4j8EL4dLwWqqpKqqgXitN7LMAzT7+yWLVuoSZMm1LhxY5o/fz6lpKTQuXPnKCEhgQYPHkx9+vShzMxM018tGURr1qylhg0aUtv729LWrVspOzuHzp1LoxkzZlJYWBiNHTuWNE0jr89Hfk2jVatXU9169ei+++6jg7EHSNc0ys3No+07dtDtt99B/fr2o9zsHDJ03fT1LPJp46ZNVK16dZJkmXr37k0TJkygsW+9Ra+++iq98sor9NZbb9E777xD3bp1Iz6PQB9+9FG+OIIxuD9Zv99vhgkOq6qq6eO1uFjrtxXhRzq4TC41BvcLrAu/08EBOOz5mQ/bUOkVzxHqXHEoeG3w74L5bRgXljfWNAbHdTGIeEQ9DxV3Ufe50LL1c7/FVr+uOvd3rqoq5ebmksp9GdvY2BSNz+e7KttLidXkgr+NpKam4oEHHsAdd9yBWbNm5bPRlGUZo0aNwo8//YSflvyMJtc3hsQXdc2c8xGeGfIk7rjjDixdshQVKlaAamhwSgogSfhjw1o81KkLctMzUblaFcz/+iu0vvseiKm51evW4sEHH0RuTg7KRJXGG2+8gWdGPGPO3CWeOYMuXbpg25Yt+Hz+fDz26KPw+1UAgMvlBABMmPA/jB79KoYNG44PPpgZeD5u57o7dh8e7NgZp0+cxIo/VpgLzwAgPT0dffv0webNm/Hzz0vQomUL+Lw+OF0uZGdno1evh7B8+XJ89NHHGDJkMPx+FbIkweFkb+YbNmxAx44dkZGRgfr1r8XPS35Gg+uuQ9++fbFgwQJ07twZ8+bNQ9ly5SABWL9+Pe6//340uK4Bflv+GypVrMRNIAJvfmKHpffffx/PPcdscgXC/k5RFGzavBmdO3eGIstYsmQJbrvtNuiWxV7gbt6cTicWLFgAh8NhLrpRHIq5CFCSmB2kWGdMlilRof0JfssVx6x1SCA0H4plIVXwtUTMPtUwmM3yoUOH0KtXL+Tm5mLJkiVo3LixGfbgwYMYNWoU9uzZgyVLlqBp06YAgF27dqFHj54oU7o0lixZgqrVqsLj8cLlckJVNfTr1w/btm3Fn3+uQu06taFpGp4YPBjfLFyEJT//hLZt20JTNTicDsz55BOMGjkSZUqXwao/V6Ju3XpM08jTKMsy5n7yCQYPHow6depg6ZIlaNiwoflMVl5//XWMGzcOVapUwZKlS3FL06b5NQCicnOI28OLPA7uSkR5SBb3fSKMbFlJL36DCFKIqXhBXFwcJk6ciNTUVISHh0PnJgHgdoaKxDRWRKxOkME0lsI1n/gYus7qLq+PCKovALPhdygKHE4nDO6ii4JMXMTzWa8X6ZF5fmiaBsMw4HS5oMgydI3Vc8PUDstmlkrE7PwlAE6Xk7vpy19fxV9xP6umTZjMGIZhLhoTWK8X6VZkhblEE6YNROz+/Bn5UjKAxxVcJvwMwMvP5/PhjjvuwMiRI03TolCaITM/LeUc3N6Cn1ecs6ZBmIxYyxZBZblhwwZ8+eWXzHTL9ATC8lPmpiW6cA8nbKf586sq669FXTUMtpOcIDiN7A8xe1d+D2amJpqNBIdD4a75CE4nS5O4h67xtiTLUFW/WT+Im5whn5lMwKbWLHNLeYtnADdlAAJrTayzEZAkc6dKtjDbqvEEwBekieMiveIeRAbA11HougaHg7WXQBgWh4DlVWBWwuFwWMqRhWFjOLfv53VaU1XI3IRNURRu0iNDVth21yJu87ylXxHxGwYbX1gdYPkq0sYW3rFZPdmi+YbEbeT5GgMWD8s/CYF2ydLE+i8AbCExcTMmYpVDxOF0OqDIClvTo7D0iXwQZc3WvbB7AWzthunHn9dxUb7WmSNRTta2IOqCKD9rWJm32wYNGmDgwIEoU6aM+UwiXEmnYA90hcLqiaUVc9LT05Geno4zSWfMygJLYbdv3x66riExIQESAL/PBwOAwjsrXWd2o+AVXddYpdLBhBkVBtq3a4d77r4bHi/zH2oYBqpWq4oqVapAVzXUrlMbvXv3Nj0NaIaB8uXKo2HDRgDYtooAmL9bWTb9jwZP3wYj8cVPotFZSTt3DnFxcUjPyMC48eOQnp4Oh9MBIgNRUVG48cYbAYtvTUWWzQGNxS2bvnebN2+GBtddBwIwevRojBs3Dm+88QbKlSsHgw8Auq7D6XAwe96cXIAP5Lquw88HAzEoJCcnQ2DobBARDVTTNFxbvz4aNmyIs2fPYvXq1Swcb3wS377U4/GgZ8+e+TpBWWIdCywNUHgsCO58Zcse7WxACHwkbnspzplxicG9kEYuzssS+wDAzJkzsX//fowaNQqNGzeGz+czn2XlypX47bffoGk6fD7mf9Lj9WLq1Kk4ER+PF198EVWrVYXf54fTwYSasDA3mt56C06dTsDatWshSxKys7Jx8sQJGIYBH/djKdJ44sQJZmqgafBzd2CGadcpQ9N17N+/DyBC4+uvR63atQDLdJfOTS6ys7Nx8OBBAMC1115r1gd2M/43RKcn0iE6XfFRFMVSd1m5irwWH1jLUQrYEgfnu8DpdKJs2bJmvE6XC06nE06nA2HuMERERCCyVCmUKlUK4eHhzIaWp8flciE8PByRkZFwcBMWt8uF0qVLo3z58ihTtiyio6NRqlQkIiIiUKpUKZQuUwblypVDVFSUGZ+iKIiOjkZMTAxiYqqgWrVqqFC+PNxuN8LCw1EqIgLRUVEoU6YM3O4wszyio6MRFRWNiHCWxvCwcDicTrjDwuByh8HpdMHFN1CRFQXRpUsjMpKlpXTp0ihXrhwiIyPhdDrh4p4cAJjpcjqdKFOmDMqWLYsyZcogKpLZsFvzl4jg9/vh8XggyzJKlymNChUqoHy5cigdHY1wvrW4w+lEeEQEnA4nE/QV1o6cTifCw8NN+8zw8HCEud3snMMBt8tlESKCXi7FX4vwIVv6NFFnrPVH1CHxUSwLzMQAHTyogz+rxOubx+PB4cOHcfz4cezcuRM7duzA0aNHcezYMZw4cQLHjh3DgQMHsHv3buzcuRN79+7Fvn37sHPnTmzfvh2bN2/Gjh07cOjQIRw5cgTx8fGIjY01PwcPHsTOnTuxceNGrF27Bhs3bsTuPbsReyAWe/buxf59+xEbG4t9+/bj8KFDOHbsOPbs3oOdO3Zh37592LJlK/bs3oPjx+Nx7NgxxB44gMOHD2Pfvv3Yt28/duzYgd2792Dfvn3Yvn07tm7ditjYWBw/fhzHj8fjxImTSExMwsmTp3Dg4AHs3LkTe/bsweFDhxG7Pxbr16/Hli1bcOTIERbu1GkcOXIUJ06cRHz8CcTHxyMu7hiOHz+OkydP4fChw9i1cxd27dqF+OMnkJiYiMyMTKSnZ+DcuTScO3cOZ8+exenTp3H8eDyOxh3DwYMHsWPHDhw5Eoe0tDQkJSUhISEBCQkJOH06ga05OHoUR48eRVxcHE6eOIkTJ07iyJHDSD57FulpaUhNTcWZpDNISUlBcnIKEhMTkZCQgLNnzuLEiZPYH3sA8fHxOH36NLt/QgLOnD2LjIxMnD2bjMTERJw6dQonTpxAUlISjh8/hkOHDiE+Pp49Q2YW0tPSkJiYhLi4Y0hISEBiQhISE5KQkJBoPs+hQ4eRkJiI7KwsZGRmIiszC2np6UhMTMKJEydw5kwSUlJSkXw2GfHx8Thy5AiSkpKQl+dBZmYmsrKykJOTg7S0dCSdSUJKSgrOnTuHU6dPIyEhEceOHcPx4/HIyMzg4bORlpaOnJwcFu7UaaSmnkNqairi44+b9S4pMcncPConJ8fMh/T0dCQkJCAlJQWpqedw6tQpnD59GqdOncLx48cRHx+PhIQEnDlzBomJiUhOTjbL8MyZMzh58iT27dtnemYRbauwPrgkUqI0ucFJlfhis7Zt2+LokaMY/vRwPPboo7iuQQNEhIdDVhSkpaXh8/mfo0OnTqhfpy6gG5CdDnz0xed4sn9/3HzTzVj2yzLExMQw7Y5BgEPB0nWr8HDHLpC8fiz49lt0erAzNE2DIkmQFAVxJ+LR5cEHsX/PXrzw/AuY9N4kvjKeadF03cDQp57Ep3PmYObMDzB8+DCQTpAU5vZHUWRMnToNzz03EkOHPokPP5wdeOMnABKw7+AB9OjWHXFHjmD5ihVoY/GTe+7cOTzSrx9++/13dO/WDV9+9RXCw8PN8++/PwXPPz/KjNswAnZ+ALB2LdNEZ2ZmYv78+XjkkUfyLYYy4Yla/ddfaNeuHWJiYrDijz9Qr149dhrMbZpDUUxN4KhRozB58mR2nr81A+yZdL5Ib8qUqRg16jm0aNECvyz7BeFhbLGYy+XC999/j1mzZuHrr79G5cqVzTSEQrx0iEZpfasNhRjsRUO2DpJCWBaDrDheWHzr1q1D586dUbVqNfz11ypUrFgx3/nff/8dAwcORMOGDfH55/NRrVpVLF68GH0e7oM77rwD3337HcqWKQOmtZCgGQZcLicmTZ6Ml154AW++8SbeePMNZGVl4+E+ffDrsl/w0EO9MHvWByhfoQI0XcfeffswY9p01KtTB88++yxKRUXmW+SUkZmJ7t27YdWfq8xyEe3I+uyHDh1C9+7dERsbi2effRZTp06FX1XhsORDMBrXpBpcK2cVWkT44DZrxVoGQqgRBN9PxGNYtKqG6IyJeSeRACgOB3tZ5d5UxAYvVrtXHiG7VpLYWa75JoBt2sK1TSL5kqg7QoALspll17J6Sjp7gWDaGs3UGimKg78gASp3XagaOtP8EfENPngfwl/ehMeVQH4y7ZOow7Iiw+BO+635x8IGNOX8ADvG0y3zFzZTU8i13ODfib8IWV9gRPslnt8AzBkdEa/T4SigkRdpMcgALHbLovytiN/BdcB6jiz1TSwIDA4j8cWkubnspVy82JnpD7qGgl6W+Rle+iw+RVGg8xd/cX+d1//86RbaYgmyrJjlJksSNDFrJStQNRWKzGYMzDy1aNx0Xn9krkHUNQ0Op5Pdm2AuNNW5S0F2TeAlQ1M1gKdb5vEIbbM5uyK85UgwlTyqpsHlYvexvkwQMY2/QQRDZ5pxSKzNSLIMh3VmgCPyS2R3wE0lc20m2rH4iDKw2o0zRUfAPzurswGtqUibqBdG0KycojhAlpkV8Zs9D4tP5IfL6TQX/ILXDRGf6DIMI1BXZJl5CBEbNAXSJcYlCbqmAaKPITLrrHhe5g5Qg6bp5jlN00wFj8PiwYL4DJoYo0ztM/8uwlmfXzyDNQ5xf03T4HQ6UapUKfOcqNtXAyVKyIUoHAQ6AgB4e/zbGDtuLDRNQ/Xq1VG3Th3Uq1cP3bt3x223346KFStCJwOGpkMmQHY58fl3izCg3yO4sVFj/LZsGWKqVGFx6wbgUPDTmpV4uGMXlHGG4881f6Fh4+tZhQMgKQqOnjiOBx98EAf27MOCrxbg4b4Ps0GEKWyhGToGPvEEvp4/H9Onz8AzzzwdEHINgiJLmDnzAzzzzNMYMngIPvr4I/58vEuVgAOHDqFr1y44cugwlq9YgfvuvRcQnTURdu7ahfXr16Nzp04oU7YsDh08hNMJp2EYBr744kssXbrENIUQlVqwYcMGdOrUCbm5ufjll2W47z4WN/J16wFWr16NDu07oEKF8ljxxwpce+11ZliDD3JCyB0zejTGjR8fFANDCNKHDh3Cgw8+iFOnT+GXpb+gdevW8Hg8cDgc6N27N6pXr47p06fzDiB0gxOdFPEBfv78+ZgxY0a+3Z1gGYxEWPDBQHQwEh/wNU1D1apV8eGHH6J8+fLmfaz5JvB4PXhu5Eh89NHHGD9+PEaPHm2+SBDvTHVdR2xsLKKiolC/fn3k5uZi0KBBWLhwIWbMmImnnx4Ov9fHBh9Fhg7A6VAw9u238caYMRg7dhxee20MAGDmB7Mw8tlnoesaunfrjrFjx6LR9dcDEtOgk27A5XAwIU2RzRHl4MGDeKDdA0hMTMR3336HLl26gLhfTCvffPONme+LFi1C8+bN2UtdEe6ZdF2Hrut4/vnnsXHjRrjdwdtP50e01+D4NE1Dw4YNMXHiRPZSczEYBJVYxx/s6uxiEJ2itXeU2bjM6hBftS7qkYAsfVS+gUjV2AYtEt9MkVhb0BXmf1ghJmwQEWSHZYAN0RYvBaItFFVe4OHEYGkeM7ggXgQiD0zJxsK+ffvw8ssvs9knvljKimijhSHzKdY2bdpg7Nix5iJKK6JsLhXFjU+EK6rf+q9S3Dz8u1j7+H/qniWRwuro1ZZnJU7IhaUSi046Ozsb7733HqZOmYqs7CwznNPpxF133YUXX3wRHTp0gM/rhQwJcpgbH3/5OYYNGIAbm9yE335ZhpgqMUwDYxAkp4Kf1/6Jhzt1QbTixtr161C/YQNoumba/R0+fgwPdnkQR2IP4PtvvkPX7t2gawYzw5FleH0+DB4yGAu++ALTp03HMyOeAXTmVN8AE3KnT5+BZ58dgaFDhuLDjz40RzRRyWIPHEDXrl1x7NgxLP/9d9O7AvG3aVlRkHz2LL748kv88MMPOHfuHK679jrUqFED27Zvx+bNm/D0089gxozpBSruunXr0alTR+TleZjnBuGDVwiGQW98a1avRvv27VGmTBn8vnw5GjdubPrI1XUNDsWBMWPG4O2338ZLL76Id959N+QIbXABUJZljBw5Eh/MnIknn3wS77//PsLDw7Fjxw4MHjwY06dPR7NmzUAhNFQIGgjF2+5XX32F73/4gQm5lufNJ4RYNDZSkK2SpmmoVKkSxo0bh3LlyuXrAKwdJwDEx8ejZcuWyM3NxQ8/fI9WrVqbeUX8TVvX9XxTxvv27UObNvdCkoBfl/2Kprc0herzMy2IJEODAV0CBj4xEAvnf4G3x0/Aq6P/D2QQPF4vxowZg5kzZkDVVDS4rgEGPDEQgwYPRrkyZaD6/FzjI0EW+SUBq1atwn3334eYmBj8uuxX3HDDDex52EOBeHn069cP3333HQYNHoxZH3wAmWtDhAYhuP6wywlerxfvvPMOdu/eDSf3amE9L+IBb4/Bnaqu6/D5fKhZsyZee+21Ygm5ovx8Ph8WLVqEc6mp6P/oYyhdqQJ+/mUpNv21Bk8OfRJ1r62fr57AUn5kMEHV/B30fEJYtQqtpk2jZUtfNjvCbY653Sozf5KQmZmJhQsWIC/Pg/6PPYZyFSrgx2VLsWfLdgwb8iQqVYtBSk4Wvvz8c7hIRv8B/eFyurBg4QIcOnoEQ4YMwTXco0hw/QsuCyFQXwzCp7ZsMdUBAAJB9atwOBz49ttvcfDgQQwePBjVqlXDyj/+wK+//opevXvj9tsD/liD21qo3wcPHsR7772HjIyMkGku7BlhicPn86FJkyZ49dVXQ+4qB4smLVQ8hWF9fnGZOFRoXQnRF8myjO3bt2PLli2WPob1ZQ6HAo1rTMPDw6GqKtLT00FEcHPzD/GW5XAyUw3wl8GwsDBomorMzCxIfMZQkWWEh4dD424Aw8PDmSmZYcDtdoOIkJuTi8ysLGZyEhbGNO1cUwoQfD4/FEU27+9wOJCTk4PMzEwo3Jcxe2bxcqQgIiICDgcrPzK1pGLGUCihCJIkw+l0oN0D7VCjZg0zrwrFHAfZz6KKL395iYBk2iEbhoFz587hm2++hceTB7fLzWao+MuVrusID49AdHQUiAgejxd5ebnweX1si2MJcLtdKFWqlLnlMfi6GqeTvVyJ3VOJt3/iG09FRUaZpnxO7h5TmPucOZMETdPNXU4lbpooPAoZBnO9KcrP6/UgJ4d5LxJl4fV6IUkSSpcubdYx0QeLcHl5eUhPT4csy4iOjobOvd40a9YMd911l2kGRMV86S2JlCwh1zLoBA6xjiMnJwc7d+7E+nXrsHvPHuzauRPH4+PNAfTrBQvQvFkz6JoOxenAh/M/w7ABA3HjjTebQi4MAgymyV2y4S883OFBREpOrFm/Dtc2bMAqgcTmK47GH0eXrl1xYN8+fLfoW3Tv0d3suGRFgc/vx5PDhmH+p58UKuR++OHHeOqpoXhi4CDM/WROvmeSJAkHDhxE165dEXcsDsuXL0eb1q2hm+7AnFj155947rnnkJCQgKeGDUOnTp1w3XXXoXTp0pgxYwZGjBiBIYOHYPbs2aZdpGDNmrXo3LkTVFXDr7/+invuuRvgQqgUokNfvXo1OnbogPLly+P3339Hg4YNzWkmTdfgVBwYPXo0JkyYgOdGjsT7U6ZAU1UQn1IjroHRjYA7sx9//BEP9+6NGjVrYNkvy3Dddddh/PjxOHjwID766CM4uDuqUA2PgqYWRScrGiwKGSQRdFw8n/gr4hR2n9ZwAkmS8PPPP6PnQz3R4LoGWLJkCa655pp8YUUHKsI7+SK6vn374o7b78Bvv/2GMmXLQFc17mdVAskSTiScQpfOnbFv9x58+ulnGDCgvxlvZkYmfvzpJ8yYPh3bd2wHADw+YADenfgOKpYvH9C88kVDsizjl2XL0KljR9zV4i78+ONPKF++PFtIwTs1h8OBDRs2oEuXLvB6vfj555/RunVrU1gVnad4DvF8AsPitF8ISeIj8lVcI8tsQY4YtUQ4gZPbyYuw4jtClJlBBlRVQ5+HH8bmjZvw15+rUPPaunjk8cfw/dcL8cfvy3Fv2/tNQSc4jsIQL3lspoig86lQEOG3Zb9CBvBAu3aQJAmSwvOGACYSijrE0p+cnIyePXri6NEjWLd6LWrXr4t+A/rj1x9+wtqVf+GG229GXFIC2ra5F6VkF5avWI7I6Ch07doVK1f+gfUbNqA5f9ELlXaRfyL/ExMTcfToUTidTtNmVpIk5ObmwuDaWFEmLpcL5cuXR5WYGDj5zm5WjajEhXWNL5Tr3LkTNm7ciN9/+x3Nmzc3F5lOnToVzz77LIxCtEJWrOkVwqC1fsBSRlIBM438w5Rop0qQXf2/CVn6oMzMTDzxxBPIzMxExYoVIcsKWDViAhgzXxDpZ+WiyDJ0nblIE8oOIrF4kj2fEErY87NjiiLD6XDC4/VwIZi9YBOYSQERwaE44A5zg4jt8in8tsuybJpTCDd3uq7B5WI+271eDyIjIyHLMvLyPGZb0A3dsuiXmUM4nay/djiY6YXLxabd09LSUbZsGYwa9Txq1brmspYVqycsTeL55s6di9mzP8TNN98Eh4P1McINnVC4MAGVvaSEh4ebG7l48vKg6ezlQmzAAtE+eD02DANlypRFVFQUzzMvMjMzofr9cPHZrdKlSyMzMxMeTx6io0vzxecSDIOtiRBtWHwX8YoXBkmSEMFt5r1er6lEkbhwLMY9cZ3o9yIiIkBEKFWqFFRVRXZ2NlRVxUMPPYRu3bqBClEiXVXkd7ZwZWPoOumWDxHR2bNnadmyZZSWlkZERLqukepX6dixY/T555/TtfXrEwB6YtATzA0Rd5Ex98v5BIBuuOkmSkpK4jcwiDTm4mbJ+lVUqkw0VS5Tjg7s2y+SwMIQUdyJeLrxlqYkyTIt/mExERFpqs7cChkG+VSNBj35JAGgadOms0tVgwydSNNZHHPmzCUA9Nhjj1uiN0xXYgcPHqIGDRuSrCi0cuVKIu42h4ho27ZtVKd2bXI4HPTZp5+a14t8ee+999hzPzGINC2/2y0iotWr11Dp0qUpKiqKVq9ek++cwT9kcfmz+q/VFFmqFFWuVIl27txpnjOIzDx9dfSrBIBGjhxJZBik+v2UlZlJs2fNpo0bNhIJV1Cqn/yqn86dO0cPPPAAAaDZs2dTRkYGtWzZkhYuXEjEXZoEux8Svw3DMN18Bbsp+rsUFpdwUUSW/G3WrFmg/ljCCfdaREQej4eIiF57/XUCQN26dae8vDzLBUS6yuJdvHQJSQ4H1a1Xj44cOUoJpxPos8/m0aaNm8x0xcUdo9Gjx1CFihUJAI0YMYJ8Hi9pfpU0v0q6FmgfCxYuJADU86GepPF24/f7zY/P56OhQ4cSAOrRowd5eVrNpFlcpgV/Lhfifvkw8peLYRik6Tr16dOHqlaOob27dpPP0KjXo/1IBujPFczl3oW4pTK4+zCWT+yvj7tA+/X33yk6Opo6d+xEOdnZpKsa6TpzNSbcjemGTrqhs+vJoKSzZ6hV61ZUv249OnXiJOlE9FC/vlSuTFnas5W1oX3H46hK7Wvo5htvorOJZygnJ5fatn2AFEWh9Rs2BKWQyOCuxAxi91P9zF2Wqvrpvffeo4YNG9J1111HMTExVLNmTapXrx7deOONdNNNN1HTpk2padOmdNutt1KjRo2oTu06NKB/f9q2bVsgfsMgMp+H54GqUrsO7alsubK0kadp3LhxBICmTJlCRJTPVVxh9aOw4xeLiE+MB4XFH+qYQFxTVBgrhYUzuEs50eY3b95M99xzD506dYr8fj95PF7y+Xzk9frI4/GQx+OhvLw8ys3NJY/Hw9sic4mWm5tHeXke8ni8lJubS9nZOZSbm2uGz83NJZ/PZ7ZhVVV53N58371eL+XlsmuEqzXWL6nk97G2H7ie/fZ6veTxeMxzPp/PzF8RVtyDPQNLpzWuYBdyLF2sPxTtsZBsDAmvksW8JlCemqZRbm4uDRgwgD7//HMiS98i0mPNd4/HQ16vlzRVY6KAppPfH3gev99PeXl5Zj77/X7yen0Fxini7jVZfmikqqqZHp/PV6hbRVE+Im6fj8Xt4669rM9lzWfxHCw9gbIQ99I05nrTel1wn341U/Sr95VGCGfFSUlJ+L//+z8cPHAQIO42RwJq1qyJxx57DJ/Pn4+qVarg1KlTUFXVnD33e33sCwXsE8X2peyHwT4Ww3ldaK34dD5btEH8ArbSn72uM2ftnry8fNeDvVSYtxALIsB3VWJI5vRMYFV6YCtO8bb36Sef4Njx4xg0aBAef7w/fD4fe3u3TEEDzLWSVdMhkisWm3g8Hni9Hh57QJMlgemmTPjUrjA3EBCxqU7whTYAs9kzhHsjScIff6zAsePHzHgAtktUuXLl0KdPHwDA119/jVmzZkHXddx9990FND0C8RySWExhWbEPnj9WyKLpsp4L9VuEs2oaQoWBxc7XGrcIK/76fD588803OHv2LI+A/alXty7Cw/giQX5MkiWoqoZVK/8EaRoe7tMHtevUxnuTJ2PAgP545JFHsGf3Hui6gRo1qmP8+HH47LPPEBkVhZ9+/Alxx49BcVoWU3DCuaN8pgXgi2R4up1OJ3766Sd8/vnnqFevHl588UW4w8IKPI81j615LQi+ZyiscQbHT5a8R5D22Eq+cgFMN1y6zkxNIPHd1kJMm1ux3o94l0H8uCSxuqlpGpvGB3A2NRXvvvsusrKyoPpVaKYXC7YATph9mGUJtjudrDB3hIbQyvByEGkAAMXpQHh4BCRirUI3DCh8Chh8ytWKxLU64p/MtcmSJKN3795YsGAB3n77bRiGgZMnT+Lmm2/GvHnzMHfuXMyZMwdz5szBRx9/jClTpqDR9Y3w2bx56NKlC5YsWQKAL/bh9yEy2I6J3M5c18X0Njf3sJg1WQlVR8zjlkVz1jpwPkJdI+4TXD+DCXUMQfUiOEzotFl/B5/Lf2zDhg2oWbMmYmJi+HQ/84rhdrsQFhZmbnoRERGBsLAwOLmHDIfDiYiIcISHhyEsjGnjIyNLmR4t3O4wuN1hcJmeRZxwcO8TLr71s8vp4mHdCI8IR0Q4u1bmC2qdTgecPD3iehaXCy5+D3HO5XJxba8MhyP/vdhzuOEOc+eLS+GLSEV5sGsC3myC80r8NNsj/1iDFVKE+WDlJdx2MQ1lfHw8kpKScNdddwGWvsXhYN5C2DOymY+wsDCWTwrTuisKM7MQz+Pk3kXEwjk2Y+Ji5gPmqM5g1zrhcDDTD4mPVy7ugSQUonxEebhcLG5RriI/RRhrusTH7Q6UhbiXyHdWhgEvJaLOS5ZFewXrfMmnRAm5olCs/uJcLhcyMzPx+/LfAb5SkIigqRq8Hg9uueUWNGrUyBwcVDENa8bFK6cYo8TgI7EpDOKVHQBb3UrCJZYEibVMOPk0qxCANL7oSPx28ikSA2zAEEKvsCUTK9hZBeODCYdXQ0hcwHQ6nTh37hx27NwJAKhXr545CBEfaHNz87Bp0yYAgMvJ/FXqen4/isJ9mNvtNtOvW6f/eYaISq/IMm/8BV80RPMWK3MTk5L4lBtbTRwWHs4EXrB8tnZ299xzD+rWq4d169Zh4sSJ6NatO6pUqQJVVc3GKLB+D/U71DGRXmujFseDf4twhTV067M3aNAApUqVQnZ2NjwePo3HER3smjVrsHDhQjN/o6OjAAC5eXnmjlXg9UaSJezctRNff/klbrjpJgwcOBB5eXnYH7vfjNPgq6YBJhC3ad0G19avj7y8PNN9GyRmHiLSExkZCUhsek7UcUPX4Xa7cezYMbzxxhvw+/14++23cccddwAWuzIUMk2OoHwOzstQiDDBn+DzhRJ8Stg+axobAPl5J/cDXRTWe0lsTGQfib2gSrycdT4FP/+LL7B6zRoAQEpKCnJycvjCq/zpF4ja41SYpwe/34+8vDwYwhMAX2UPACRJUBwKm0IWJgUyc5UnpqjPh6i31atXx4033ojq1auDiOByOvHII4/gpptuQtOmTc3PzTffjLZt22Lq1Klo3LgxEhISMGnSJGa7pyj8ubjpBYlXXb5rm2gbPP2Bl+LipRX8ZbnIsg5BYfXGev5COV98BY9bj+U/J8LLfFHc/v370axZMzi47af1JU5AxNq+zt0sapqG3NwcfPrpp3jttdewd+8+7Nu3D9OmTcdPP/4Ej8fD+gGDKTOssPtzQTHfGVYfg8ODHxMfVt6WymsGyh8u/8eMqGD8lp8yV1ZYx40CeWvWC94mLdksvgdfEor8zwRs374dpUuXRtWqVfMpZwrABWvhNcHvV7Fo0SK8+eZb2LFjB/bv248p70/B3LlzkZWVyV7W+HBpvV+RFCOIIDivQ0H8ZZ3VISZvFBYWPM9FfCL/C5TDVUiJEnJNLOVCRPD5fFi4cCGOHz8Ol9sdeNMMD8epU6eQmJSE66+/HmFhYaahvFhEkpOba2pwDSJAaOh8KlRVhU/VkJfHNJ2KzOynHHxhQG52DgAgOycbAOBwMNsmt8sJl9NpCn15eUxjq/DzYiDOzGT+c1NSUuD3c+ff3Ak2uE9fr9cLMgy2aI53pOXLlzcXEG3duhVer5c/mwOKQ8GyZb9g06bNAPcjzNwXMfc/ok4bBtPoyYrCVn3nW1jDtFjWjon4cY3bMYE3EF24kQFQu05tAEBiYpIZJs/jQVpamumeRAwGonFdc8016NihA4gI5cqVQ/v27QBue1bcBlhUR/B3saZBDGIAcNttt6Fp05sRGxuLlStX5gurKApOnDiBjz76CN26dUPVqlUBAG3atEGFChWwadNGVvYSq8uyIiPtXBrefOMNGIaB9ydPRu1atVCqVCk0b94cTocTEydOxM233AyJh3c6HchIT0d6egaaNWuGmjVqWsol4F+gQYMGaNK4CdatXYejcXFwOZ0ICwtDYmIinnrqKRw4cAAvvfwyHuzShXlp4AtLeEQ8lsuLtT4UB+JdgCwz90OsXTDvGH7Vz+qDGFHEi1pQ9SjsnuL5JQBOhwNHjxzBwoULmFZEZgs9U1JShFTMBFJRp2XWfi3TJQC3/zP4Jg+qprKBm5eQX/XD4/VCJwOa3889L/DUn69K8+SL8hIvOhs2bEBKSgqqV6+OJk2aAEEv3pqmQfX7UalSJZQpUwYAcPr0aWRlBRbtMsmIPSOBeYWB5V4F8s7ys9hNsWD2m1yu9ny5URQFSUlJOHPmDO6+m69z4C9Lofop0adIkgSn04GFCxdiz5492LJlCx599BFMnDgRsixh6rSp2LBhAx9jQscjMrRA0VgWWAadCT6QX8AECyLqt3h5Dnws7Sg4KsvvwtrapYbETJtYAGoY2LBhA5o1a8YW4xVhM05gLw/sRVPG8uXLsWHDBmRnZ+PRRx/D+++/j7LlyuGzzz7Dl19+yT3YsGtF2y+KfH3SBVBU3lnLIpQiJxSFhRHHQp0r6RRe6lcwwY1ckWXEx8djxIgR+GXpLzh06BAOHT6EP//8E0OHDkXVqlXx1FNPAQB+X74cTwwZjGlTpgIAjh45gsGDB+HlV17B8ePHsGPnDjz11FN4e+w4qF4fMnOyMGrUKIwa+Ry2bduG+Ph4vPJ//4dnR4zA4cOHAQBjx47D0CefxM8/L0FWZhbeePNN9OrVC7///hsAYNasWRg0cBA++/QzkAF88umn6N9/AGbMmAEAWLlyJXr1eggTJ05EVnYWjhw5jOeffx6jRo3CsWPHoOs6XnvtNQwbNgyrV6+Gw+FAnz59UOuaa7Bo0SKMGjUKe/fsRWxsLN555x3MmjUL7777Dlq0aIEfvv8evXv3xujRo5GRkY5NmzZj+PDhePPNt5CZkYnsrCy89eZbeG7kc9i6daupYTK44frevXvx0ksv4eWXX0ZObi7S0tPx0ksv4aWXXsKBgweYwM+1wPfeey9uuOEGbN26BT8uXoyzZ85i7ty50DXN3NUMov+zdBCdO3dGdOnSaNmyJa6//noQN3UI7sgLo7CGW1yC69P54jIMAxUqVMBLL72M8hXKY8yYMfjyyy9N5/JLlizByJEj0bZtW/Tu3dt8EWjSpAmGDRuG/fv3Y+L//odTJ5nj7o0bNmLQ4ME4l3oOixYuwj133w2/3w9N1zFgwAB06twJP/74IzZv3MQcpJ89i63btmHU88+jSkwM3p7wNsqULQOmeeX+L7lWp1q1ahg5ciTOJp/FwIEDMGfuHLz55pvo1KkTNm/ezPwaP/ecWY7gz888PhSdD8GIPCxuuf0dCARFYqvBZT69J0myuTDETAIfiNnMxPnTxeo/qw+qqmL27NmoXq06ej70EHRDR2Z2FhNywYQBMdADTHBl9wrIiOBpES63xIxK8AY0biebFtY0trMfkQGN+z61Yn0C8UIsPoqiwOv14sCBAwCA665rgLJlywJC28v/spfh/BpvMa0JBBIvtLRMCSAFXRNKyBIUFMJCUZj2tzjXXkkEp3fHjh2Ijo5GnTp1gCCvIvn7GdF3sXKJi4vDmjVr8H//93+oU6cO4uLi8Oijj2Lw4MEoU6Y00tLS+HX58+1C+i7R17FL8qfl71BYWVoJzicrRZ27UCQu9IkNEArb4RHmfdm92XUSUlJSsGrVnxg8eDCqVIlBXFwcOnbsiP79H0dkZBROnToVHE2RiGe7kDwuzpgmskyEPV/4UFxI3SkMUaeuVEqskCsKRFEU3NWiBX788Ud0efBBfPjRh3jmmWfw1FNPYdr0aWjVqhXmzZuHunXrMsfsYFvBtmndGsOGD8Pwp59G5ZjKOJeaCkPXkZOTg+SUFFxbrx6Gj3gGL7zwAho3bgxdZytSs3KykZGZgbJly2LwoMF49JFH0bBRQ/j9fvj9PtaZEVChfAUM6D8AI58bhS5dukBWZHjyPDAMHenp6UhJSUGbNq0xcuRzeGbEM6hUqRKysrLg9Xjh8/lw7tw5VI6JQd9+/dC/f3/UqlULx48dR9KZJKiqihYtWmDRN99g4MCB2Lp1K4YMHYqnn34aJ0+exNSpU/Hoo49ixowZePSxR3Es7hiqV6+BqMgo5OTkwOPxoHbtWhg+fBiGDRuGOnVqIzEpERkZGYBl+lOSJHNXlbp16uCRRx7B0KFDUaFCBRw9ehTnUs+Z4QzDwDXXXINZs2bhgQcewKRJk9Ctezds3rwZr7/xBipVqpRvukhCwGyjXr16aNigAXr16mWeD3QMF9fwLoQL7SDE83bo0AHLflmGjh07YtasWXjssccwYsQILFq0CAMHDsSwYcP4FQEb0FdffRWfffYZNm7ajD59+qBHjx4YO24cbr/9dvz088+47757IcsBh+oxMTGYOXMm6tapg9FjxmDwkMEYPGQwXn/9dVStWgVff/01GjduzMx0AGYjzeU5SWJ1vV+/fpg/fz7C3GH49NNP8euvv6Jx48ZYtmwZxowZg7Llypltyuysip8dBbiQvLwYxCAtgQmPRGwFuqIocHEToItJgbhG4ttfr1m7FkuWLsXL//cKGlzH/ELrhoEcbkvPnjOwZbFAEootiWl6FZlN+wOA2+HkM0RMGHeFuRFVOgqqzjaHsOZd8MDBfgX+t95XaAuTk5OxfTvzvNG0aVOUKVPGNOEy+GBk8Bma06dPI5nbi9/TqhWqVK3CIuN29sIThkEGDM3Il6fC4b1IQXBa/4uIstu5cydq1qxpbs4jjofqZ6wCQnh4OJ5//nn4VT82bdqE/v37o127dly5cgI1ajD3W8FxBP8uHGsZMfOEQJqC47gU5VlQ+An+LSj2IxQBe5ZAG9q/fz8Mw8i31Xow1mc3+NS/LMt4+OGHUbNmTfz66294qGdPdO/RHYcPH+HjNvMpL1kmbVBI/ACLPnQe/z1E+aGoe5+H4tedwrkUcVxWgleilQTM1bS6TtnZ2eYKVlVVKTk5mY4dO0axsbF05swZUvnqQp/PRx6vl1RNM70B+Pg1ftVPeR4P+fkq0+zcHPKqfvJrLJzq85OhsZXTHp+XvGLVo9dHubm5lJWVRSqPk8WnsvvqfKW1rpOmshWVPp+f/KpqrngVKxt1na2U9vn9Znq9Xi/l5eWR3++nnJwcys7OZqtAvWx1LhFRbm4unThxgvbu3UtxcXGUm5tLRER5eXlkGAZ58jx0JumMmQa/n62MDV6x6fF6+fOz42L1pVi96fV4KCcnh/x+P3n4d7HSVjyjWHWamZlJmzdvpj///JOSk5OJuFcIP195LBDP/vXXX1P79u3NsOdd8VnUuX8AkT4/L6u8vDw6fvw4bdy4kfbv30/Z2dlElmf2+/1kcG8Qfr7CODExkdauWUu//fYbnT592oyb5T+rO3leVtdUlXlNOHXyFK1bt47Wb1hPiUlJZn5qmkaq30+6pptlKhCroomI0tLSKCkpic6cPUsej8csM1EfxLErFYPnvW4YpBosnY89/jhVqVSZdm3fST4i6jt4IAGgVcsD3hX0EPXFesTgXhXEMdFWevXuTU89/TQREc2YNYsAUER4BP3w3fcsHE9LcPwiD89lpNN9D7SlimXK0e7de0glooEDn6DIiEjauGY9EREdTk6iJnfeRg3rN6CTx09Qbk4edezYiRRFobVr1xKJ1eVs3TiJVAovC8H3/OOPP6hs2bLkdDrp83nziHifpGka8/5gKd+XX3qZAFC1atXMe+maZnWtQl5DoyzVS207tKfSZcrQ+vUs3W+/PYEA0NSpU1lQ7jGGX/afRNd1ysjIoK5du9LSpUvNY/lrWwDD4q3FMPKX4bXXXktr1jCvN88//zy1b9+ecnNzzX5H9EFF9pMFYLWosPRcevLf58LTe+FY4x83bhyNGDGCSPSRav7xx4pBBml6wPsAEdGBAwfohhtuoIULFxER0YzpM+jOO+6klJTUoKsZl/nRbC6SEqnJNd8cJAmlSpVC9erVzUVKFStWRO3atdGwYUNUrlwZEn/LURQFbpcLsiTBoSggkLni06GwfdcdigKH08FWsvJ925mNjgKS2Ipip8MJp7n6ka22jIyMhKIo5naKDkVhC7Us0wiKIoMMNg3vUBSEh4fD7Wa+CA3h89HB9oCXZbYy0+VyIyyM7U0fERGBUqVKsdWWTrbi0jAMREREoGbNmmjcuDHq1KkDt9sNwzAQHs62yXW6nagcwxzsyw4ZisK2OHQ6nWaeSZJk7kEvVl+K6WpZluHgq0IjIiLg5DadpUqVgmJZMSvSLHOn07fffjtat26NihUqQvWzRWQAsGvXLpw6dSpgs5uXh2+//RYtWrRAxYoVQWKFexFvh/Q33lwvBSJ9wm44PDwctWrVwp133olGjRohMjLS1AiIaWBWBwILDKtUqYIWLVvggQceQLVq1UzNLSsXlp9uvkpWURRAllC9RnXcddddaN6sOarExECRFdMDgOJwQFYKbv8o0qnrOsqWLYuYmBhUrlQJYdyLgtOyMlespL7SkSThm5YtsgOYNwMdBlSDm8Tw88GeFgIE6g8RweCbUvi4I/aFixbiwIEDGPXccwCA2rVqw+1yAyDTs4BhMN+iBcwg+P0M7sEkPCwMTpcTCoBSERGQFbaIEwB8Pi9ycnKYzS9kli6uoRFtplCtGn8s4ovEAGD37t1IT0/HNddcg1tvvRWwmCqI7wAwf/58TJ06BWVLl8b/JkzAXS3uMjW8PFJA7MAmtp21enswu2DxJXDqEiusQvJvtv/CENpxVVXRoEEDwMyfwjOEaQOZeYoo5/Xr16Nq1aq48cYbkZWVhU2bNqJjxw7Izc3BL7/8wuqrZZFw8bDmV+HpubTkv0+gGV7+ssvNzcW+fftwyy23AHwNitgWuDDEtseiTu/cuRORkVFo0eIu+Hw+LPv1VzRr3hwSgO+++x55eXn56mHIbuZf4fLnb0niyh/RQiCFMLQWAgV4Bygqn1Vwy3cdAnaH1uOyJJnbggqbN0nmtm8K31FKNASLEMs++af6weOTuJ0eLCvfRbpF2q3XWeMzxxDLcWt467OCP68YqGRZNt16yTJbsc3yKbSRumzJB/DOF2BTwsFTqQz+m6dBpE1gGMwFkWD+/Plo1aoVBg8ejHPnmKnDoUOHcOjQIdzLtyy2PkthA1motP8bBD+vKAsmGLD6KMJY62NAeAk8Y4HyF+XBf4e8RmF10io8h8J6fai6Iu5pfZYrEQn5RxKdVT2WbplNqzscDmb/agkXKl+EDaE1/8WLSVpaOj78kC0arMftKsuUKQ1JluH3q0jPSGfXciGwIMyQQJLYi66u88UwACT+AmO1ZWdSLaA4FegGd/JuSWOwsGAe47cWtsBerxc7udeVatWqoVz58jB05rTf4At0jxw9gjfHvoUXXnwBt9xyC9ugpE9fqH6VDY687QPcJER4m3AozHxBPC7PX2EyETIbLiNXQvuHpf4IoXPDhg2oVasWatasaS4mDiZ/H8d+i5f+nJwcbNq0Cc2aNUN0dDR279mNs2eT0bTpLVi4cBEyMjIK9BVFwxY8UcG1l/8CRdXnv49QFADA8ePHcebMGTRr1gzgbbHwvOL9Nn9ZlGW2SHv58hWoVq0qYmKqIDk5GZmZmejUqSO+/+EHpKWlcXeAEi/D4DgvLWJcKQ6iToXiQuK5WriyR7ULwFp4ojJfqsIkHhcTjQtrKCGEr2JUqPOdPx+hrr+QilxYOOtxEV+BsEG/gzsR8Zv5gFWxbNkyZGZmIi4uDpqmwefzYcqUKbj33nvNhWniHgXuVQIILv9QzxKcR8HVKWQ+C6hwt16FXRMcNvh3ScMcJmUJMph3EI/XC09eHmubPI8CL1dikA+dPwDLV0lo5gF88ukn0HQNQ4YMYQpN/sKhKAo0XUNcXBwAJueZL4X5o2PnuXbI6/fC5/UCABxuF3Jzc5HOFxEJP6mq1we/X4VOxGaNyOqzViABzHEhANYvWTV6eXl5OHr0KMAX1A4dMgQ9evREjx490LNnT/Tu3Rvt2nfA2LFj8fjjj2PpkiV44IF2MPiWwAX6Nq4OJxD8usaEAFGnTW12wToe6vfVSnB737lzJ26++WZzRsZ6LhjWX7C/ImxaWhqICLfffjsAoHKlyqhSpQomTJiAxMQktGvXDhTkjitU3AC4dpiPWuLdJbiM/2EuZ/djbQuxsbGIiYlBjRrVmX/8Im8sRvZA/+3xeFC2bBl06dIFisJmJ6tWrYrJkyfj9OnT6NOnD+9qAhp4azEIgbvI/vwyETwOWSns+NXMVSPkBheetaD/biUrqtJYCQ5jva6wOCSx8lu8TV5AWiWr5jXfiYJpYRSMO3Q4S3qt2sUQz5cvbBDW8263G3369IHL5cLdd9+N1NRUDBgwAImJiRg1ahRUVYURtAVrqDhLAtZ0W/NOHLeWcQHBglOwHgQvb8pPqPyy/g6O70Lr2pWEeCodbMGZeJlUJAUqX2QlfE0Xlr/gOSoEYF3X4XI6cfDgQcz/fD4GDByIalWrwuvzmTEIweLEiRNc6VlYu+BpJIIkS/D5/VB9bKGZ39ABIugq09z5/X74fD5AZlp7oV0nYv5TWYShRRPWPAMa/H379uH48eNwu1x47PHH0b9/fzzc52H0frg3unbtigc7P4gOHdqjRo0aWLpkKWbMmImzSWdMzRXBOlJLZu7JkgyHmzm8F+kIni63ZoEUVPcuBVdqXRXtSJZlnD17FocOHcL1118PgPkiN7gP0+A+IXBtQCDSdea1ZdasD3D//ffD4/GgVq1amDFjBp544gm89NKLKFu2LHMBpzIvHMEENOtcKx9QvVtazuUhODmh+5jLmwaxqdKGDRtw6623IoxvumOtjoE0WfKKlwvx7Y5dLhfGjBmDhx56CJqmISoqCv+bMAGDBg3G08OHIyoqMl/5cVUY97NbcFvyS8GlalOXKp6SwlUh5JrNuJBB/UovVDZ0hB4wL4bCB/bCjhfO+a4oLL1ksRuTJOZJoUuXLpgxYwZOnTqF4cOHo2LFivj4449Rq1atfM9unXYqyRSWN/kHufzPKS4peCW/xvL/hRCcFqvWokRiEMB3z3LIirm5SaisKewpA4ObbGpFP5g1C9dedx0GDhgAAAh3uyEBKFOmjLmpR25ubqF1lB0LlK/E0yj8aOqahlKlSqFChQrmNYrCXIdpqsaeQ5SLiL/gbTjsJVSk4+DBgzh79izKliuHoUOHolv37ujduzf69OmD/v37Y9CgQZgxbTpmzpiJ5ORkvPHWm5j03iSAa6rZXZlJAhP/2W8JUiB/C8nNEFlxSbkS66pov6Kf27VrF5xOJ2rWrAnw+iR8E4dCXC9MmBwOth6kdu06KFWqFMLDw+FyuXDjjTeia9euKFu2LBRFMTfwEXmSL2+I+USWJPFKcuXl26UkeJxXFOZh5PDhw2jZsiXAzbIkvvaF8s2EBfIvkJdMaeRyuVCuXDlztzFZllGvfj1069YVlSpXAsBMD9kal8DaFmbOyNqkUNoE+vkLayTWPuZC63/gnjZXhZAbXPwXXrgXEP4Cgl7NEBVt5CUavfXjcDgwaNAgzJo1C7Nnz8aUKVNQp04dGIZhdiaw2KdezRSuly38uQOdceFhis0liOLfQOSaJEtQRGfOf0sISFuyZao4lD0egdhCE4lpTRVZxrp16/Dll18iLy8XM2bOxPgJEzDxnXfw7qRJ+OjjOdC53SRJbCELwERAK9b7MI0smTbt4DsQWgUfd5gbLrcbLpcbLofTImwGeueAwBmAhWGabOI2ndu2bQMANG/eHBXKl2ch+Dld1+H1euHz+9G+fXu0a8c2XVn4zSLsj42FQwhNvHqZg7YkASCofh/frpulW2iqhCux/xqhxpgdO3agYcOGqFKlCgyLOypN0xAfH4/4+HicPHkSZ86cQXJyMlJSUpCWloZTp07haFwcDh48iNjY/Th48CAOHTqE+Ph4JCQkIDExEYmJiYiPj2ebGyUm4sCBA9izZw/27t2LAwcOYN++fThw4AASExODk2UKXKHSfCkJ7rID/dXlwxq/xGdC9u7dC03TUL9+fUsYlpbEpCTs2rUTO3fuwO7du3H48GHs3LkTcXFxOH36NOLi4hAbG4tt27Zh27Zt2Lp1G3bu3Im9e/Zi71722bdvH/bv32/OnBw5cgRbtmzBpk2bsGnTJmzduhWnTp028zvwN3S9CYX12uJeY0XkfahrQx27mrnqeihzECxm42KVKDA4no+Cw00QLLLgo1c8xW1MLKt4uPNkcWGdXL169dCkSRMQnyYWjZFC2JuK+xUnbZeTy5KGQsxKJIQYMS4D4pku+XNdJkQq2d/AVLoQcA1uegBr+y/s0SzHZVlGeno6pk2bhtq1aqNunTrYuWMHjh45gtjYWOzduw+JCQlwuV3sUiLAsjVvAcz2wfzjsp0SWVfrDnNDmFeAl7XENUcOvgWsKPtQdYPB4+ebSujc9/aePXsAADc0aYJSkZEAj8P0mKKwhXCGoaM8F4Lz8vKQls7sg4PrgcSPyZDhdroAy+LE4LQVls1XI9Z8Et8zMjKwb98+tGnTxuzPRB6lp6djxIgRuO+++9C+fXu0bdsW999/Px544AG0bNkSzZs3R8sWLdGqVSu0bt0aLVu2RIuWLdC8eXPceecd7HzLlrjrrrtw5513olmzZmjTpg1at26Ndu3aoXPnzujSpQvuv/9+vPXWWyDLQjZY+uHgMis++Z83VHcR6piV853/u1jze/369WjcuDHKWfx/i8+M6dPRtm07dO3aDQ8++CA6duyIrl274t5726BFixZo1aoV2rRpg/vuuw/33nsv7r//frRp0wYtWrbE3Xffg1atWqFly5Zo2bIF7rnnHrRowf526NABXbt2Rffu3dGhQwdMmvSu+WIhPMCgGN266I/FmhUxGxDcNouDuEbEKbj4elAyueqEXAnFqEkWzGnbYl5z3goiSSIVJYridoLnD1EQEbdobNZpI+tUT6g0SBeQtsvJpU4Dm0wsJL5LeJ+iKCzPr1SsqSSuwVUcDv4ilF/QEpsvEBVc+sw6fBabmFJcsmQJjhw5gvnz5+PDDz/E/M8/x7zPPsP8zz/HF/M/x2effYY77rgT4Nvnijh0QzfduPHIzeLT+GYn4WFhcPNNKlgbCARXVbbFruZXoYG98Mns7cfU/kLKP/FsDloSq0cupwv79u3DkSNHEB0djeZ33QUA5tbc4G1OkZmga+gGkpKYxk9WFNMMI7gWiGQaIOiG2AyCh+J/2MKboLKxfL9asfZpiqLg+PHjyMvLy/fyDgB+vw8VK1bETTffZGoJ9+7diz179uDo0aO4/fbb0a1bN3Tv3g3du3dHt27d0bNnTzzU8yF07doVnTp1Rrt27XDffffhwQcfNAWzLl26oEePHggLC0NcXByOHTuGhIQE7N69C9nZWeasmDW9FwurQucp1RAvy9brJIu3nssFESEvLw9xcXGm+zxRRuLezZs3h6apOHnyJE6ePImjR4/i7NkzuPXWW9G1a1d06NABXbp0Qd++fdGvXz/07dsHffr0Qb9+fdGnz8Po3bs3Hn74YfTu3Qe9evVG586d0bVrV9SsWRNnz55FUlISUlNTsXr1apw+fdq0dwfffKNgKwsQyCsJmqYhMzMThsE8xlifIZjg42IWwdq/SxZzjf8cwY5zbTiX2bFzwLH7pb9RwOn25Yn/YhHOzy+3Q3CbqxdRo1VdJ52Inhg0iMpFl6GN6zaQj4h6DXycANDK5SuIiMjvD2xsYkVscqLrOp09e5buvvtuen/KFCK+SYzYyEXTdTKIKDsnhx599DECQHfccQelJKcQEZGu6fk2QiDrZhCZGdS+U0cqGxlFO3fsJCKiF197laJLRdGO9ZuJiOhwSiI1aHojNWnQiBJOniaPx0MdOnYkRVFoHd94wYoh2hFv42ITmo8++ogAUL16dSk2NpaFtTyzuYkAEcXHx1PDhg0JADVp0oSOxcXxHSeC2qVukKprpBLRwwMfp3JlytKGteuIiOjt/00kAGaeaVpgk4ngaK5mxEYrH330EfXp04fIslkRq3csX9LS0qhnz54EgBwOBwGgiIgImjv3E/MasblOcF0VcWmalu+73++n2NhYeuGFFygsLIwAUExMDG3YULDe/D2KLlBd18nvZ/UwMTGJ9u+PpYyMDCLe/v4JRJ4dPHiQHnzwQTp8+HC+42TJ4ylTppDL5SJFUcjpdJIsy/TUU09Rbm4u+f1+8vl85oYboeIIlC3fzMMgOnHiBL322msUGRlJAKhixYrmBivF3bwjuL1qmmbWn8IITiNr5z4iIvJ4PHTgwAE6ceKEeU70F/8lrjpN7iWj8BeuSwBXOxGKf6NiTi1bzSm4EueKQbL6Yi3w1n8FJdTmisXUZoLYNJSoNsR+u1zMpCAnh2+9KwdcbgmIDBgGmwKUZRkff/wx3GFhePzxx0zNicJ9UYPfk8XLYko7l4bU1FRA2I9bpiOBQN3WDR2qqgIEU7PH7IMDmjXSudZFliFDgmGwFkyFOPyXRDsSmjkJ8Hq9pj1u06a3oGbNmqYmx4T3HRKAjz/+GAcOHAAAdOvaFbXr1GHT2+zGLDiPW+Y2t6Z2KKDC5X+C2nG+X1c/Quu2fv163Hkn0/Rb1xRIEvO/XLZsWUyYMAEtWrSApmlQFAUejwejR7+KxYsXQ+Z+tc3+0YLM66I4L+JXFAUNGzbEO++8g/HjxyM8PBzp6elISjoDhCgbdiz08aIpfIwSYwwR4YcfFmPatGl4++238cwzI7B27To4nQ7Tzdw/wZYtWxAZGYlrrrkmZPsxDAPDhg3DU089ZZoBOBwOzJkzB9OnTzfzVnzAy1hgzX/xGxJQs2ZNvPXWm5gxYwaio6ORnp6OI0eOAIC5SNAa5/kQ5Xs+m/fg+IgITj6zM2nSJMyaNQsvvfQSJk2ahJSUlAIa/sK48Dpy5VJ0DtpcJi6swgNgU5bFuEaYX1xoo/qnCW5CV2o6ba5MiAjMcyubTpe5hwRmd8p2iwOvZwThTklcCwDMDnbXrl34+OOPMWTwYJQrWw6qqrHFXHxoF8Kk0+mEk8eZkZlhbghRYJ6eX0hiQBT+Z3k4iQCdDKhC6AXzFCHLMhSHAkNiG0ZIIaIOhojgUBzIysrCrl27AAD169dHqVKlCoSTZBkulwu///YbPv30UwBA586dMGzYMICIDab8hkJoMQy2sE3mz0IUWAJX2NoEyfyvZFOcQV68EKWnpyMtLQ0333wzO8Hdy0HkPReE69evj9mzZ+PGG2+ErutwOp04e/YsXnjhBWzfvt0MJ14ogoW04DQZhgGNu8x7/vnn8eyzz8Ln82H37t1AUJ9KpoLk/M/FCIQT9w0lIBuGDkkCVv7xB06fPoXhw4dhxvTpuPPOOzF8+HCsXPmn6W3gchAc7/79+9GkSRO4XC5IITZLEmU2YcIEPPHEIDO/NU3DO++8g2+++QZOp9M8Hhw/QtwTYC+xfr+Kfv36YeTIZ6FpGvbu3RscrEgkblJgWLxyhKoLwc8kriX+0p6QkICvvvoKt956KyZOnIhXXnkFv/zyCyZOnMjcFRbyDFaupvHYFnJt/nGupgZk889hHaJlCNtVvnObooC4HSxJYAulrMKYxR5cltn2xwcOHMBbb72FxMREcxBxOPhOZEGD3JmkM0hKSgL4Yq0TJ04AfNA01VlCkBX6TgIUmaVL1HmJC8DEwzokmXlc0DT4/X7ohgFD2KtbtiEVLUbXdXNRkdD6rV+/Hnv27IHL5TIFLatGUJIk5OTk4IsvvsDQJ5/EmTNn0L59e0yfPgOVY2ICflzFzoxCuOd2lBL45g+yZE7ACA1vYZxnDL2iCQh1RT+EOL9lyxZERUWhcePG7ITEyt6q8ZMktiFO48aNMX36dMTExMDv9yMsLAzHjh3DCy+8gJMnT8LlcrE8t9j8hkqHOGbtS4cMGYIaNWpg69atyMvLs4RmhLomFOye+W07weuuOC9QFAVerw8LFy5ERkYmYmKqoFz5chg8eBBKly6NadOm8WvzC9yXEtFOU1NTsXfvXtx9991A0POK7w6HA5qmISIiAuPGjcX9998PTdPgcDiQkZGB559/HsuXL0dYWFiB+AWibKzlI1l8XA8d+iRq166Nw4cPm0JlUVjLWGiKrVp78RGIewuCBfK9e/di27ZtqFixIiIiInDTTTehR48e+OKLL3Do0CEzjv8KRfdUNjaXif9SI7O5NAjBEWIwABMo+aoWOACUKlWKDQhBg4YYoWVZRtzRo3js0UfRoUMH/Pjjj9B1HcOGDcPAgQNx4sQJKIpiDlwHDhzAkCFD0KlTR/y6bBnA/eS+/PLLmDBhAnw+HxNaxRgoBaQBNljJILDFSQDgdrkBSQLTFQMOWYHb4YSmatAM3aLFZf42EXhkEyLCunXr0Lt3b/Ts2RPPP/88fD4f/H4/3nnnHfTr1w99+vTBww8/bP5t164dBg0ahFKlSmHsW29hzpw5qFWrFtPUcs8LArNpWgZTze8HGQW9n4TCkgVXNULw2LdvH2644QaULl06cNLy/BI30xImCi1btsSYMWMQHh4On88HtzsMf/31F5566ikkJSVBFlpz/lImXsCsea9wv7qifmuahtq1a6N///6oWbOm+SIksApmRSHqPRGZO4WlpqZiwoQJ+OuvvyBxbaO1UjqdTpQtVw7Lf/8dKSkp0PkOemXLlkFWZmYBoVbE/3cReaSqKmRZxu7du+FwOFCvXj0zz6zCISz5ZhiGuZNc/fr1oWkanE4nkpKS8Mwzz2Dr1q1mvvr9fnOBZSis5asoCqpWrYrhw4fD7XYjMzOzSO8IIv1+vx+nTp3Cn3/+ifXr12Pz5s3YuHEjNmzYgHXr1mH16tVYvXo11qxZY/7dsGGDaYLAXn7Z7JDb7UZsbCzWr19v3sflciE7Ozvkyw8uw4vHlYQt5NrY2JQY8tmci4GOT+/pAFwK25qXuIAovFhIIiy/rnyFCujatQsmT56M2bNn4/lRo3DzzTchMjIShmFAURTTi0JMTAzuvfdevPDCC3j++ecxceJEDBs2DDVq1GC2thaPClYVpkOWoUgyVEM3zROEdlYXmiVIIEOHM8wNd1gYHBJ38wWLTS6P0joQ+f1+lC9fHpUrV0bHjh0xYsQIvPHGG+jUqSNiYiqjRo0aqFu3LqpVq4bKlSuja9eu+O6777BkyRK89vrrqFq1KtPgBvmkNrV1lryWAJQKj4AkyyC+1a/5nOafq2eQFPlxPoFQkiTk5eVh+/btaNy4cQGByooQDokIPp8PAwcOxJgxY+B0OqGqfjgcDixbtgxjxoyB3+/PJ5QWJRRaBVdd1/Hcc8/hrbfeMk1WrNed73kETHgEZJl5vvnggw8wevRo/Pnnn4AQHEU9IbaZyYsvvogPZn2AChUqwDAIOTm5yM3NQ1R0lBmnleKmpShEvoh837x5M+rUqYNKlSpB4xtiWMOKjwjv8/nQtGlTTJs2DTVr1oSqqnC5XDh8+DD+7//+DykpKZZNN0Jr1YPvQUTQdQ1PPvkkPvjgA0RGRpqmB6EQaVIUBatXr8brr7+OwYMHo0ePHujRowe6deuGkSNHYuzYsRg7dizGjx+PCRMmYNSoUejenXnimDfvcx4bcz12++234/vvv8dDDz3E1gTwbYqjo6NRtmzZfPdHiLK56gheiWZjY2NzpaIbBmm6TjpfTfzEE4OoTHRpWr92PalE9NSoZ0lxOGjF78y7gsY9EYgV6UWtLtY1jXw+H2mqShpf6a5pWnAwE7FaWVVV5mFBeCjgaUtLS6MuXbpQhYoVaW/sfiIiemvcOCoVGUnrN24iIqLklFS648476eamTSnp7Fny+nzUMci7glhzLe7n8XiKTFdRsJXw/vyr+C0LvsUKcN0wSNU08ql+0g2D+g8cSFHRpemvv1YTEdGkSZMIAE2dOo2IiDTuUYLFYX4tBhcU+IpArHwnItq0aRPde++9dOjQoeBg+RBl5/V6yev1mqv4n3/+eQJAsiyTJEkkyzJNnDiRiJeV1aNCUYi42Yp8vurfUp7FxTAMMnSdVO4VYffu3VStWjUCQP37DwgOni8vdN0gn495m/jyy6+oRo0atGzZMjPc5UDU4+zsbOrevTv98MMPRNx7SlHoum6WhWEY9Nlnn5keF4T3i759+1JqaqqZhyJfA56RQiPKwDAM1p/wMiwsD3RdJ5/PRxkZGZSSkkxffvkllS1blgBQs2bNaPv27ZSWlkbJycmUnJxMZ8+epUOHDtGIESMIALndbpoyZQr5fH6zXlnL5fTp03T33XfTyJEjSVVDe5u5min81dPGxsbmSoMrHXTDgGoYTNtqGIAEOADoqsZ2JuMKFlPPwjU4sixzza8GTVVhcB+Wuq5D5VOWssIXjHEtjZgyFvawquqHz+eDrutshzJJYhpQS3jwqVFd15GblwtNZdPHuqbBIILDyVc5GwRN1UytsaEbUFW2QxmJaWoW0tT4uPlWw4ZlcYqu6wU+QnOoqio7xnc+E/kQSptmaruEBwdi2nDSDWi6ZnqSENPhOtdQ5+dCNEMF03ClY823gwcPolKlSqhTp06+MKEQ09kulwuyLMPpdGLEiBFo27atOXtARPjf//6Hzz//3Cyj4mjaxHQ5QmhvQ5VzMMQXlUmSxDZXkST4/SpmzpiJhIQEAMDZs2ehqsz+UyDi1jRWv1wuJw4fPowPPpiJF154AW3btgV43MV4jAvCTK8kISkpCTk5ObjuuuvM84VpT8V1LpcLLhfbgbBPnz4YOXKkqa2VZQlff/01pkyZAt2yYREAtvOfbvC+I3+8CNpGWJQJguqNQFzjdDoRERGBChUq4tZbb0VUFNOA9+vXD02bNkWZMmVQsWJFVKhQAeXKlce1116LCRMmoEePHvD5fHh/8vvYtm0rnE4ndF0sSGT3mDJlCqKjozF69Kumz93/EraQa2NjU2KwjhOSJKFy5cqoV78+osuUBgGoWb0GatWubS4cEaYKYjBkg7gMRXHA4XRCVhQAAeGRxcuECyFkCKFQfJxOF9xuNxwOB4vLYvNLBOYyiS/YqlixIurVq4eIiAgAQEREBOrUro2IcJY+RVFQvXp1VKtWDQ5FASQJNWrUQL369REVHW0+q0A8A7OjDSxOEQKU9SOmZR18xzPF4YBT7H5mnVovOPYC/F4sD4Dq1aujbp065uAbGRWFSpUqm3aoxN1EXa3jpxB+BJIkQdd17Ny5E7fddlsB4SFYkDDLjee7wl+AqlWrhhkzZvBNCjTTjvPFF1/EypUrIXO70OD4gpEsC5/EJz9FX2+1OTUMguJQ8N233+L7779HWFg4AMDv87HtrCkQnUgWEUFWFKSmpuKdie/ggQcewNNPPw1ZZjbpTEgMLXReDKI8RL5s3boV1apVy+c6LJRQieC+wPLi+Or/t3fm8VUU2R7/dfe9NxtJCEvYiYgkMexhV5zg+BRwYdPnqKPPZVRUYGR4MAojEUF8T0VEBVdcHiK4ZEQEBERwY5OEICSQhGASyAbGANlzl+7z/uiuTqW59yZBQEjq+/ncT9Ld1VWnqxryu6dOnZozBw899BBUVYWi6P9OXn75ZaxatQowwhuYeCSqn7GFwdvkfzzqkCQ9dSArs337dhw7dgzt27dH//79zTLspyzLUFUNISEhGD58BAAgv6AAycl6GkG2eNZmU7Bq1SocPHgQL7zwAtq1a2+Gcejj4f+daDZYXbsCgUBwMaFxIQAMVdPI6fHQ4cPZlLwnmcoqKsitaZRfUEA7d+6i0pMn9Xt9TYjz9XHTkU2bxjuzdjZN6HHroQ9p6emUmrqPKioryel20S+5OfTTnj10uqyMPB6VnE4XHUw/SPv376fq2lpyezyUlZVFKSkpVFVdTW5u2vXsbDw7NJb4XtMnZnPz8ihlb4put6pSQUEh7dq1m4qLi8njUcnjVvVIDWtFzQTrlLXb7aaCggKaMGEC7dy5k8gyRe5rjPjxc7vdVF1dTUREBw8epPj4eAJADoeDAFB8fLwZBsGHl/iq+/fA161pGv32WyndcMMNdN+995l2jRp1LVVVVdeFQhCRpuphGKqqUnl5Bf33f8+k+fMXkNvtJqfTSRkZGWZIwLmaJmd1sHCO2tpa+uc//0kvvfQSkdFXDYV38GhGKInH46ETJ07QtddeSwDIbrcTAOrUqRN9+eWXRETmRhEsJMHK2T4jC2lwu9308MMPEwAaMGAAlZSUkMptNsNs1Te50WjevGd0Wx0Oeu+994kMG4mIdu3aRXfccYe5OcyRI0coPz/frOds7LwU8f31QiAQCC4WzvCaEFSPG716XYHBQwYjKCgImqqiS+cuGDFiOMLDw82tfa13gjmiLJ43X54NX9f0U/VrlyTdd6xq+qKuPr17Y+DAAQgKCoIECZdf1gNDhwxBaGgoiAiKIiOudxz69eune3IBREdHY9CgQXDY7bqXmNXN1e8NImOTGS94s98fvPcbRLgsKgqD4gchODjYXJk+fPgwREZ20HOlKnrIhnfLmgfEZTuw2Ww4ePAgNE1DbGws3G63GR6CRngRYdSnKAo8Hg/i4uKQmJiINm3awOVyQVEUpKam4tFHH0V+fr7pKfY3jmdesx77hrdXkiR8+OEKOJ1OzPnXv9Cz5xUAgNqaGricTj18xZipkOS6mY4vvliDtm3b4qGHHkR1dTWOHTuGdevWmdP9zFN5pp1Ng/dqKob3mG2RDC7lF2vHX3vEpf9yuVyIjIzEokWLEBMTA7fbjYCAABQXF2PWP2chNTXV3Gymrr/q163PfHgfe1+QsXhOkoDSk6XYtWsXAGDw4MEICws322DPoRlp3UpL68r27dMHI0bom5E4HA5kZWXh008/xdSpU9GtWzdUVFRg8+bNyM/PB4z/Tptq56WKELkCgeCixvqfMQEgDbApNj3e1KPHxiqyDCINqo9YPJ9wU5d+sfyx9FVeMnL3gggeIzZWMv5IeVQVHiNmVteP+opoN5tGhD4NrqqqHkrB5a41hb73ZgEJIBjTuFy+A39/5P2h26NDRFA1TU85ZqyurxMItrod2Jop7P2QWAotYzV/bGwsIiIizFjnpqBwacBUVcXNN9+MOXPmGHGVujDctm0bnnvuOVRVVZkCigm4hse14TEhc+OPupy4ebl5+OCD/8Nf/3o3evW6Aq2MTA0eI26dxewyVFXDv//9b8yaNQvvv/8eRo8ejWHDhuG6667DkSPZ5hcjnoZt9463+5KTk+F2uzFw4ECoqqqHETXyfWTlJCNG1+VymRkXunbtCqfTCbvdjqzMLDz55JMoKioyU5Dp9zaunYbQ+0dC/rF8lJSUAAB69+4Nh0N/F1QjDRkT8Dabgs2bN2Pbtm1QFAXTpk1DdHQ0NI1QVFSEyZMn4/XXX8f06dMxYsQIjBgxAi+//DJCQ1sZLZ4buy8FmvavUiAQCC4CZFmGzYgzlZS6hVQSF0urL5ryjqS7MuofM7yIWWt5fzAbbNz2wJJxzLxeZpys8bFxcbSyrC98kw2R2bhWoccfMzHG+XtN+63oCsd6th68wJYkSY9jZvVLuveW5fNtCZDhfSUiHDx4EIMHDwa4rVubAntPeXE8Y8YMzJ0713xXbDYb3n33Xbz44otwOp2mWGRfMHisx41BMr6sqKpmLFhS8cqrr6Jdu3a488474XZ7EBSsx+RWVVWhsqKi3v2apqGmpga5ubm48cYbMWbMaCQk/AnXX389brrpJtx223+a7fCcja3wcd+hQ4fQtWtXhISEmP3JynnrJ1/IRmy7x+PB6NGj8cwzz8Bm079IK4qCLVu2YPr06Thx4gRsjdwe1xdWsc7s3L17N44fP4727dtjyBDdM22z2UHGLnqKET+8c+cuJCYmwu124bEpU3D3X++GJMmQZQn5+fno06cP/uu/7sWwYcNx7bXXIiEhAX/729/QrVv3eu22CKzxCwKBQHCpoxkfwe9D9GEdmqaRy6WnyMrMzKTx48dTdnY2ERcferZoXMqnyspKeuCBBwiAmc7q8ssvp59//pnIiLlsSsxpQ7BYUCKiH3/cTj16XE7//reeisvlctOUKVMIAHXs2JF27txFREQeT11aM5fLZaa1s8akejyNi1FtSowoK8fS6d122220atUqa7Em1cnD7nE6nTR79mwztZgsyxQWFkbffPMNkdFvvmioXf46e3f4eNw+ffrQvn376PTp01RWVk7lZeVUUFBABw4coAULnqWel19Bffv2o7fffofKy8rJ42brAFxUU6OnkmPvCd8PZ9snlzLCkysQCJodTfGAese/h7PF0Khp8eaFr1AA3iO+f/9+dOjQAV27djWnkBvrMWRY29E0PfVTSEgIFixYgMGDB8Pj8SAoKAhTp041d+Zinl9vNvrGd1ndAyhD0zS8/fbbGDZsKMaOHQtV1VNgtWqlZ9SoqqzCyVMnjbsIMGJzAX1DCJZ2QTJX7uupuBoD37cNwUIrbDYbsrOz66UO4/u0KXXyfcnucTgceOaZZzBu3DioRtjRlClTMHLkSC5c4cz74cPj7A9FUXDixAn89NNPAICsrCxzp8JJkyZiwoQJSEgYheHDR2Du3KfQu09vbNiwAQ899CCCg4P1UCLosyo2mwJZ1lPVgesv9mHjY7W5uSJErkAgEJyB5FcY/B6aWmtTyzdEY/64WcWCN/Qy1rOXPr6eF4YYgZHm6corrzRT1bEp8qb2rbU8kZ6zuaSkBFVVVQCABx98ENOmTUNAQAAURTFT3Pmzsz76OPkWNvrCp88//xx7U1Iwc+YsBAYGmqEonTt3BgC43W7U1tQARh8xActs0dvgRZUudBttZiORuLjolJQUdOnSBbGxsT77lMd3H9R9yWBjAACpqalIS0sDAEycOBEzZszwsvjs98Hays3NNbd1fuCBBzBlylTcdtt/4vrrb8DoMWPw+ON/xzPPPIMRI0Zg9+7dSExMRGZmpp7TG3r+Xus7KKFupz3ivohJLWjhGayuXYFAIBC0bLQmTrm2BNjz5ufn07hx4+j77/Xd36xl/PULu64ZKbXYh01XExGlpqZS//79CQDdfPPNVFRU5LfOhuDbtNbDQgyKi4tp2LBhtHDhwnrXiYg2btxIwcEh5HAE0qeffkZEeuowBguzSElJofvvv5+2bDF2G/R4fKbaMvFzyQqrh/Wdy+WiBx54gN577z2iBsIHqIF+0IxQlNraWqqurqba2lrKz8+nESNGmONw9OhRIks71nq84a0Mbwer77XXXiMAFBUVRYcPH7beYnL48GEaPly3KyFhFBUUFBJxY6mHj9TSsmWv0+zZs+nkyZOkGanH/NrSlMG4hBCeXIFAIBDUQ2qEp6qh6w3hz6t2LjhXdVvrycvLQ2VlJa688krzurVMY+C9v5IkwWaz4ddff8WcOXOwf/9+XH311Vi0aBEiIyPNHeaaArOJeVqt3l92XZZlfPLJJ9i3bx+Kiorw1ltv4dVXX8OiRS/h5ZeXYM2aL4xNBPTV/Xql9esAgJMnT2Lz5s0oKNDTVBHpnkV/7wnLBtIYWF+RkXLr2LFjyM3NRVxcHOBlnPzhzSZWvyzLKCkpwcyZM7Fr1y7ExcVhwYIF6Ny5M2pqasxMB77qYTT0XrC+kWUJTmct9u7dCwC44oorEBnZAcTtVgijPrfbjV69euG+++6DBAnff/8dvvpqQ7369OfQ8P333+Orr76Cy+Wq164V877fGeB1sSJErkAgaB4Q4dxP7guaI2xKndGQGAFXhqUOa9u27Rn3+RN1xG1DC8u2s5Ikoba2FvPnz8emTZsQFxeHV199FTExMabIaQpMYFntY7BriqIgOzsby5cvR1xcb6Snp2P16tVYs+ZzfPnll1i3bh1SU1MhyzLcbg9++01Pb8X3iWpsd33NNdfg22+/xa233mbUbTvn/x75Z9q/fz9CQkLqiVxfzwuLCPQGGx9FUbB48WJ88skn6NSpE1566SUMGDAAqqoa4SK+6+DxV0Yy0v0ZRygtLcW+ffsAAH379kV4eJi5OxmZqcO4fgfB7rADAHJz8wDjywora7PZ8eyzz2LlypVmijuY77DvPmqOCJErEAiaB5KE37vcTHDhaKxYONfwQogXgw2JJDI8aVlZWRg8eLC5WAsNCBpwAsp6jokPj8eDRYsWYdmyZQgPD8eiRYsQHx8Pl8tlpqvyZ5s3fJVnQoh5hz/44ANERkbim2+2YPPmzdiw4SusX78eGzasx5YtX2PJkpfRqlUraJpqbibA0DQNdrsdmpE/OTo62tzoBF76xWoTs4X/aYUfG+b91jQN6enpGDx4MEJDQ828wmcD367NZsOaNWvw+uuvIyAgAC+++CLGjBkDVVUREBAAh8NhisnfA1lipA8fzkZubi6Cg4Nx/fXXAxZRrqka2KI+ADhZWgq3Wx+/8HB9+++6PpfhdrnQs+fl6NOnj3kPiyf/naZfcgiRKxAIBIJmhz/Rw8QSOLFJFiFqFTKKouDYsWMoKCjAVVddBXippzGwckwgK4qC559/HvPmzUNgYCBeeOEFjB07FpqmZzeQDO9iY+Bt4G3jYeLK4XDg22+/xRdffIGnnnoKbdu2hSTJCAoKRGBgAIKDg6EoCoKCghAQoC+2KigoQG2t06xHURQUFxdj4cKFuP/++7B169Z6bUmSf4lBhrhl3mDeu82uW5EkCRUVFcjIyDDzFBMngL3d0xBEBLvdju3bt2PGjBlwOp14+umncfvtt0OzZCRgwpPdx9fBPtZzViRJgsz1TXp6OsrLyxEREYHY2FjAeC9klkkDBE3T+7u0tBTffPMNiDRERERg+HB9pzPV2JBk8+ZNmDJlCubOTcSpU6dht9vNvvH1TjRn/L+BAoFAIBA0I3iBwkQWf+wNViY7OxuhoaHo3LmzKX4YVvHgTfTw1yQjDvfrr7/G888/D1VVsWDBAjz88MOml5WJW2vd3mAeSdaet3bBna+trcWSJUswbNgwXHvttXA6naZdLK0YjI0uWEaBqqoquFx6OSKCy+XCO++8g86dO0NVNaxbtw7wI7B5yCJMrfayY15Usj5PS0tDTU0Nhg8ffoYwtrZrrZeHtasoCn766SdMmzYNBQUFeOSRRzB9+nSvXltf9TM7re+XPzRNQ21trfnlICYmBhEREYB1pkMCAP05k5KSsGPHDgDAqFGjEB8/CEQEm82GHTt2YOPGjRh741isXfsFkpP3GC01zp7miBC5AoFAIGgRsD/0zOtVVFSE3Nxcc8qdFwGSMS3Oi4Mff/wRffr0QWho6BniygoTKEysMI8lq8tmsyE5ORkzZsxAZWUlHnnkEUydOtUUuLzAsgoreBFvTCxWVlaitrbWfE7NiD9mz6EY2wlv2LABhYWFmDVrFmC0J8sSNI3PdQu0atUKrVrp28Eqxs58kuEVzM7Ohtvtxo033oi8vFy0a9cO4GzzJqz4Y2ZXenr6GbHH9USeAeubPXv2ICoqCm3btq0Xb+qtPW+wcpLhJWcL/tLS0jBx4kQ8/fTTZmgCs9GbPeDeE1bO4/FAVVVUVVXB6XRCNbbl5WHHiqLg9OnTyM3NBQAMGTLEFLkMWZZht9lhs9mRkrIXL730ElwuF4YNG4annpqLVq1awe3WveB79uzBLbfcYi5Yi4qKMuuxvsstBSFyBQKBQNBi8Hg8cLlcICIsW7YMK1euBCweXgb7nQmh7OxsDBw40DzHyvgSDrwoIkN0MoGdmZmJhx9+GAcPHsSECRPw9NNPm3l3eQ+utQ4Gf555OA8cOIDRo0fj66+/NsUoDFGlGnGr1dXV+OKLLzB//ny4XK56Akwvrz+PLMtQVRVHjx5FjZEft6ioCIWFhWabXbp0wcyZM/Hzzz+jqqoaN910E8A9KxOHPMR5zxVFwaZNm/D444/j6NGj5nN7QzKENRFhz549iI+PB7hpfdaOtT3rMRsvZsPp06cxZ84cbNu2DdHR0Vi4cCE6duxo9r3dbvdpF//OuN1ucwvgHTt2mOPAb/nMv08A4HK58PXXXyM3Nxc2mw3R0dFc7TqSJOHUqVN4++23cfvt/4ns7GyMHDkSb7zxBuLjB8LlckFRdDH+17/+FVdddRU++ugjjBo1CjExMXC73We8n9bjZo01p5hAIBC0RLzlzxQ0L1i+UCKi7du3U+vWrWnkyJFUVlZGZORA5d8BlsOWiOinn36iW265hY4dO0Zk5CVt6J3h86G63W5yuVykaRqVlpbS+PHjCQANHz6c8vPzzyhvxds5Zh+zceHChQSANm7cyF3Xt+1VVZU2b95MCQkJpCgKQV9mT126dKHly5dTdXU1qapKTqeTPB4Pff311zR+/Hhq27atWRYA9e7dm9atW0easRWxqqp077330iOPPEIej4eqqqrMbWWZXcTlt1WNbYRZmVtuuYUA0KeffmqW42HH7OfRo0dp9OjRtGfPnnplrPf5g9leXV1NU6dOJQDUqVMnSkpKIjK2KubL+oM9F+tjj8dDTzzxBAGgbdu2mWX48hs3bqSHHnqIrrvuOgoODq7Xt4mJifTUU0/Rv/71L0pMTKSZM2fSVVddRW3atKHY2FiaO3cu/fLLL0TG1sbsnWX5drdv3079+vWj7du3k9PppMrKSvIYeZgb8842NyRqUZJeIBAIBC0ZIkJNTQ3uuecefP7554iJicGmTZtw2WWXmR5RyRInKssyli1bhoyMDLz22mumF7CxsacMTdPgdrsxa9YsLF26FJdffjk+/vhjDBkyxGyPeT9ZTCyrw1s7zCOpKAr27duHcePGQZIkbNiwAX379q03RS1JErZs2YKtW7ciJCQENpsNkiShvLwcAwYMwLhx42C320HGIqyvvvoK3333HVq1agW7XU9XpWkaXC4Xrr32WiQkJEBRFGRlZeHOO+/ECy+8iPbt2+HIkSMYP368YR9gs+keZdZnzG5FUfDGG2/gsccegyzLePbZZzF79mzzOhsD/h5ZlrF69WqsX78ey5cvR1BQkHn9bHj33XcxefJkhIWF4Z133sGtt95qeEbrvMO++p6HLZpzOBxISUnBhAkTUFNTgx07dpgLyRiqqmL9+vXYsWMH7Ha7GfPMZhis756qqggMDMTgwYPRt29fREVFQTUW6imKYmypXOfxnzVrFjIzM/Hxxx9j7dq1GDZsGHr27Gl68vn3qkVgVb0CgUAgEDRHmAdrxYoVFBsbS/3796fAwEBau3ZtvesM5iXzeDz00EMP0aJFi4gMT5+1rBXrdVVVqba2lhITEwkAtWrVilatWmXuUqVx3l7moeM/mqbbwrx2zHNHxi5Yf/7znwkAjR071tzlivecut0eUlXfXjyns5ZcLt37yjx+PNZj5hHfunUr9evXj7799ltauHAhpaSkEHE7nrE+ZPawujMyMmjgwIE0ZswYCgoKotGjR1N5eXm9tvg2WR1Tp06l//3f/z3jekNoxjiye9asWUMdOnQgALRw4UJzfGpra8npdNbzkvL287+zMWB9kZOTQ6NHjyYAlJCQQKWlpWfYwI/b2cDsYp5Zvj6320233XYbPfHEP2nbtm20dOlSqq6u9jmmLYEWJukFAoFA0BLgvYAMSZKQnZ2Nl156CdOnT8fMmTNRW1uLvLw80yvKYN40IsLx48dRWFhopg7jvYzWdngvnNvtNuNeZVnG22+/jQULFiAkJASLFy/GnXfeqS8sMuI2bTYb7HY7bDYbZFnPcMA+kqR7Fpk3TpZlnDx5EklJSbjrrruwbds2AECXLl0QEhJSr5yiKLDZFMiy98VTAGC3O2Cz6emmmBeTx3rM4kpjYmIwcuRIrFixAgMHDsSgQYMAw8vNxwUz2wGguroa8+fPR9euXbFkyRJcccUVSE5ORkZGhlmWxQqz/pQkCcePH0dBQQH69+9vWKHD97kvWMysJEn45ptvMHXqVPz666+YMWMG/vGPf0CWZQQEBJj5cNkYMLtZf1rHAADKy8vx4Ycf4o477sCWLVsAAD179kTr1q0B7h1h9zVkqzfYMzIvM/vJbICxmPGmm25Cfn4Bdu7ciQkTJpjebm9j2hIQ4QoCgUAgaHYwYWRl9erVSEpKwvLly5GXl4c///nPGDVqFD766CMEBwfXK+vxeGCz2bB161YsX74cb775JkJDQyFZprGt7bA/q6qqwuVyITg4GJs2bcL999+P48ePo1u3bpg0aZKxMt4Np9MFIn1DBVYvE4gshCIiIgJ2uw0VFZUoKytDTU0NsrKycODAfpSVlZuC54033sCDDz5Yzx5mk9VOX/CizB9utxt2ux1lZWU4deoUunXrBvgRVMyGw4cPY/r06XjyySdxzTXX4J577sFHH32Ejz/+GH/5y19MgcsLOEmSsGPHDnMnL7bjHGunIZuZwM3Ly8OkSZOQlpaGsLAw3HTTTYiMjITL5fKaq5fBSyVN0xAQEAAAqKmpQU5ODlJTU1FdXQ2bzQaPx4Onn34a8+bNM+/1ZdfvhwDUvY9utxvHjh1DWFgY2rdvby6G4/uyJSFErkAgEAiaHdY/bZLhHfztt99QW1uL7t27o7i4GLfeeiuKi4uxdetW9OzZs949TOQ+99xzqK6uxrPPPmvGQvoTueDSRMmyjOTkZNx111345ZdfEBQUZIrfpqAoSr1MCDx2uw1utwehoaFISkrCDTfccIYAZMf+RKH1nrprupCyltOMndOYZ5HFB1vLgUthJUkSnE4niouL0aVLFzgcDrz11lt49NFHMWXKFCxdutTMzMCEvmpsqbt48WIcOXIEy5YtAxkxunxb8DEW7FppaSkef/xxrFq1ytxJTrNs8fx7CAgIgNPpRJs2bfDJJ5/gP/7jP8xYWPbxZ6cVX2VZP5KRCUPiYnKdTqcZW60ZO9FJDcTi+mqnOeD7qQUCgUAguIThxQUMwdm2bVt0794dANCxY0dcc801OHr0KPbu3QtwGz8wEVVVVYWcnBwzVIGJB74NBhMLxIU6lJeXIzExEb/88gtgeP6aKnDBiWZvsC1e27Rpg65du1ovexUvVtHFzvnmTH8Y8x6zZ7UKKb4+fhwcDgeioqLgcDggSRIGDhwIh8OBtLQ0VFVVmfWC61OXy4Wff/4ZgwYNgmQIX6vt/uyXJAlLly7FqlWrAOMLjD/P7dnAxtVutyM0NBTgBCmzrSE7eXyVNeuCsXMaV4R92eDb9VYHg+/D5ogQuQKBQCBoMbCsApLh3WJ5bw8cOABYvFqyLCMnJweFhYW48sorAW4K3ZtwsJ5TFAU1NTVwOp1wOBwIDQ1FeHg4wsLCEBoairCwMPN3/tjbx3/5UNjtdvTu3RuXX365KXB4rMeMxp2XjM+Z15gXlxel3oQT60/2UzY2WgCAHj16YMCAAfjpp5+QmZkJyRLzzMahpKQEI0aMgMfj8Wm3N1jZiooKBAQEoHXr1mb/ndmXYQgPD0dERAQiIiLQunVrc8x8fVq3bo127dohIiICDocD8fHxuOyyy84QuOcLiRsbNh7s01D7/q41B0S4gkAgEAiaHVahZ/X6MdLS0pCQkIC+ffti69atkIx4WHb/0qVLkZqairfeesvcGa0h4QBuGlzTNKSmpuK3336DLMuw2Wz1vMWsHl5c+4fAHqXuXt1z17FjJ/Tt1xeysS2vt+dvuP6zhwlcvn+s48DD+kHTNEydOhVvvfUWVqxYgXvuuaee51pRFHz44YfYuHEjli9fjoCAAEgNTMFbISLk5OQgKyvLr22sXj4muqGQBofDAYfDAZfLBZfLhaioKERHR5vhLtaxEFw4hMgVCAQCQbPDm4Dxdq68vBzjx49HVlYWvv32W8TExNQr949//AMRERFITEysd19jcLlcprC9UPyR+VCt/evriwU7z0SxoihYsWIF7r33XjzwwAN49913zSl3GCJ38uTJ6NatG5566im43W5TiDYWJjgvBCwMgp81EPwxXPh/BQKBQCAQnGe8CQur0FJVFWFhYejbty+Ki4uxb98+gPMw/vrrr8jNzcXIkSPNexrrF2LiDYbwZCmsVFU1PYOqsd0u/+E9h9YPa59IX/Dl8XhApNfDvIi67WR8TGu4388f3vocXs4z4cf3Z//+/dGtWzekpqYiLy8PshHrqygKjh49isLCQvzpT3+qV0djxoK1wepjfWztc1aOH5v6fV53jR8PvpxmbPahGQvwGmvjueJCtnWpIESuQCAQCFocvIdt2LBhsNlsyMzMBDixkJGRgcDAQPTu3ds8ZxVs/mBeXBYfyYsjyQiLYPGp7MPs4tvhz+mfuoVZmhE+wdrQ00nBDGkA6v9+IbE+hzckI+1VbGwsrrzyShw+fBiHDx+uVyYtLQ2BgYHo27cvYMRVNwVmBy9aYYyzx+Mxvd+SJbewdTz4Y/Y7E8+sHraDGfuC09Dzn0suZFuXCkLkCgQCgaBFwoRiTEwMgoKCsGPHDpSVlZkiKjU1FR06dECHDh1MIdRYrGVVVYXN2OyBHcOP940XYzp6fex8nVDWYz7J8CoCutfS2v7FgPVZmaAkIjgcDowYMQLV1dVITk4Gcdkadu7ciR49eiAiIgKan9hYb/D9IBmeVSZi9f6r27DCF7zdrCx/TjY29GCpu5h3lwliwR+HELkCgUAgaLFomoYePXpg6NChSE9Px5EjRwAjnvbAgQMYOnQo4EW0NgZ2j2bEZx46dAhPPPEEDhw4AIVb3Na4T12dqqrHfJaVlSEnJwfvv/8+fvzxR3PnNCYEeTF8MWC1Q+I21ZAkCSNGjAAA7NmzB5WVlZBlGZWVlcjOzjazYDBxye5pLKys3W7HyZMnMW/ePCQlJTUqrMBbO3yIQllZGdLS0vDqq68iKSnJFOeCPx4xEgKBQCBokTCR0rZtW8THx+P48eM4duwYAODEiRMoLi5Gnz596pVnP/2JIlYvK8c8q4WFhVi9ejXy8/NNYaWqar18rbwnkK+Djx+12ew4ffo0lixZggULFmDWrFlIT0+vJxoZ3gTaxYZspBOLjY1FbGwsUlJSUFRUBADIzs7GyZMnMXjwYLMsvDyXv/GAcZ3dU1NTgy+//BK7d+82Peqsv/m+5/vcOlasrpMnT2L58uVYunQpnnvuOezdu9cU4A3ZJDj/CJErEAgEghYLEyvXXXcdAOD7778HAGzfvh3t27dHr169oKpqk0IAmDDlRRMRYeTIkfjuu+/wpz/9yRRLshG3y4s3Fl/Lp5/iQxI0TUNoaCgmT56MGTNmoFOnTmaIhbWuixn2BYDFv3br1g3x8fEoKipCVlYWAGDXrl3o27cvevbsaYpL63MxMWkVlWwcwIlYj8eDyMhIrF+/HnPmzDGFK79zm8zF5fKxufyYwAg5CQ0Nxd133405c+YgLi7ujPYFfywihZhAIBAIWiRM+NhsNuzfvx8JCQmIj4/Htm3bMHv2bISHh+PJJ5+Ex9jKl/fO+RJa/DUmcm02G9xuN1wuF4KDg+sJquLiYqSkpJiCl0dRbFAUGS6XC506dUK/fv2gGNv7ykYcaElJCcaMGYsHH3wQjz76CFRVF4KyfKZX92LDW58tXboU06ZNw6xZs/DCCy/gsccew9ChQ3HfffdBNbb3Zfeye7zVYx0n3kNbUVGBtm3bmgJXURRUVVVh7969KC8vR1lZGex2u/nFgYjMdGARERG46qqr4HA4TBtkWcapU6dw++23Iy4uDq+88ko9b+/FPAbNHeHJFQgEAkGLg4kgJix79OiBQYMGIT09HSkpKThy5AgGDRpUrwzDm2iRuPhZcF5Eu92OEydOYOHChZgyZQq2bdsGxci0IEkSSkpKkJSUhBUrVuD999/HypUrsWLFCrz33ntYseL/8Oabb+LVV181PcxkeD+ZTbIsIzAwAJox7S7LZ9p2MeJLgMfFxSE0NBRpaWlIT09Hdna2z3FgWPueP8ePs6Zp+PDDDzF58mS88sorpsC12+2oqKjAypUrsXr1auzatQs7duzADz/8gK+++gpr1qzBhg0b8Pnnn2P//v2mZ563RzPCTcLDw+u17+0ZBRcO4ckVCAQCQYuDiSwmRgFg9uzZWLx4Me6++26Ul5djyZIl6Natm89pcn+weisqKrBw4UJcffXVWLVqFaqrq7FmzRqznG6DBj31V51wYverqp73VpL0sAbdBgIRoCgyTp0uw8033oi77roLU6ZO4SwAiGAuWLsYsMoNb/15/PhxTJo0Cenp6Zg4cSJcLhfefPNNhIeH+xTG/uDvef/991FYWIhWrVrhs88+w5o1axAZGQm3222WkyTJ9OAy4cruZ8fsHDsvSRLKy8sxadIkXH311XjmmWfMcoI/Fu9fiwQCgUAgaMbwAkUyppyvvvpqBAcH44MPPkD37t3RtWvXemWaAhOsOTk5CAkJwdChQ1FQUIDhw4ebIQeSJKGyshKZmVnIzMzA4cOHkZGRgUOHDiEzMws5ObnIy8tDXl4eTp8+BUliorjOftXjgdPprDeNz8RkE02+YPjqTyJCmzZtEB8fj4qKCiQlJWHAgAFnLXDBjXNFRQVKS0txxx13ICMjA927d0d4eLixoYae5/bo0aPYu3cvdu/ejd27dyM5ORkpKSlIS0vD/v37kZaWhhMnTtQLLWF9zY6dTifXuuCPRnhyBQKBQNCs8SeQ+GuHDh3CxIkTcfToUXzyyScYP368tXijYVPalZWVsNvtWLduHZ5//nmsXLkSMTHRAPSFTD/++AMWL34ZVVVVkGU9/Zfb7YEkSQgJDoFGGk6fPo1JkyZh2rS/19sIQZYllJT8hrFjxuJvD/4Njz76iLkRhC6I9d91T7D357+Q+BsHcFvvrlq1Cvfccw/atm2LdevWYdiwYU1e/MdgEsfpdMLtdqO4uBiTJk3C3Llz8Ze//AUulws2mw2FhYVITExEUVERgoKCzHvJCDlh8dXDhw/H3//+d4SEhBhfOPRnqqysxMSJEzF48GD8z//8zxk2NNVuwblBiFyBQCAQNGt8iQwmYmRZhmpsjTthwgQcOnQImzZtMnc683ZvQ/B1u91u3H777ejcuTOWLVuG2tpaOBwOaJqG6upqlJaWwul0mh5ONi2uyArcHjeqqqrQsWMndO3aRV9YBsP7rEj47beTGDNmNO6//35MmfKY0baxdcQlJnKZhzQzMxOjRo1C79698dlnn6FNmzamAD5bWN0vv/wyvvzyS6xduxYBAQGAkTvX6XTi119/BRmLzAICAkBE5nbMkuHtDwwMRERERD3BLUkSKioqcOutt2L48OGYP38+wD0vk1n+nl1wfhDhCgKBQCBo1vgSF0y4MIKCghAdHY2BAwfWS1l1NqiqaoqbrKwsZGRkYNKkSUhNTcXatWsBAIqiICwsDD169EBsbCxiYmIQHR1t5ovtFd0LcXFxGDJkCLp27QKAbSerC1gACAoKREhICAIDA/nmzeu6R/fsnuFc05AdsizD4/Gge/fuiIqKQp8+fdCmTRtTZP4eZFlGeXk5vvvuO9x4442orq7GZ599htraWhARAgICEBUVhcsuuwydO3dGu3btEBkZiS5duiAqKgpRUVHo1q0b2rdvb2ba4G3it/JlqEaeXTTi2QXnByFyBQKBQNDiYWL3uuuuw5AhQxAYGGh6VP1NePq75vF4AABFRUUICQkBEWH9+nWIju5VzxOo16HXwzzAVlhZWdaFrtvlxuHD2di2bRtyc3Lx3bffYe/eVBw/fgL6wrQz67jYYSEBDocDCQkJ5gYQVkHpDX/Py65VVlaitLQUkZGR+OyzzxAaGorw8HDLOOjvgtUDy48LK8/SkuXk5GDdunU4cOAAtm7dih9++AGFhYUgLq+x4I9BmTdv3jzrSYFAIBAImiPexBAvoIKCgkwPIrvGi6CGxBZfVjZSfcmyjJSUFKSmpmLcuPEYOfJqc+FZXf36ff4EHTtNACqrqrBx0ybs3bsXHTt2gqIoyM3NNbyPXet5qC82+DGwCky2+UJkZCRiY2PRunVrsyzDeo8Va/8xkaooCk6fPo0NGzZgwIABmDBhAmC0ye7h77X+zo+/ZISVEBF27tyJ5ORk9OrVC1FRUSgoKEBQUBB69ux5RliD4MIiYnIFAoFA0GJgf/J4rxwvYFiYAXEbAPjDV31MADEvXklJCWpra9GjRw+zbFOFKFGdp9ftdsPj0ReoOewOaKShpqYaAQGBCAwMaNDuPxpv0sPah+z5eJFoFZr8ffw5dp4ds3F1Op0oKSlBx44dzS8gTOTy5RuDxm3/W1tbi5CQENhsNlRXV0NRFAQEBJz1gjnBuUGIXIFAIBAIDPip5aaKUB5esPHiydf5cwlfL4srPh/tnG/4vjofNLX/vZX3ds5KY8oIzg9C5AoEAoFAcJ6wChzr8fnmfAvFc43V3vPZX+eibusXmN9bn+DcIkSuQCAQCATnCSF8mgYvSS62fhNjeekhRK5AIBAIBIKLhotZ6AouLc4+4EggEAgEAkGjOdc+pXNd38WCVC/rxKVHcx2XSxHhyRUIBAKB4BLBGrMq+GMQoQuXBsKTKxAIBAKBQCBodgiRKxAIBAKBQNAEhBf30kCEKwgEAoFAcAE4X1PcYqGWQOAd4ckVCAQCgUAgEDQ7hMgVCAQCgeACcL68rKze81W/QHCp8v94uSXv7JigiQAAAABJRU5ErkJggg==)\n",
        "\n",
        "- 문서를 피처 벡터화 변환하면 차원이 매우 많은 희소 행렬이 되기 쉬움 -> 문서와 문서 벡터 간의 크기에 기반한 유사도 지표는 정확도가 떨어짐 & 문서가 매우 긴 경우 단어의 빈도수도 더 많을 것이기 때문에 빈도수에만 기반해서는 공정한 비교 어려움\n"
      ],
      "metadata": {
        "id": "U9s8kylYluBa"
      }
    },
    {
      "cell_type": "code",
      "source": [
        "import numpy as np\n",
        "\n",
        "def cos_similarity(v1, v2):\n",
        "  dot_product = np.dot(v1,v2)\n",
        "  l2_norm = (np.sqrt(sum(np.square(v1)))*np.sqrt(sum(np.square(v2))))\n",
        "  similarity = dot_product / l2_norm\n",
        "\n",
        "  return similarity"
      ],
      "metadata": {
        "id": "p3qHxU4ImIbm"
      },
      "execution_count": 5,
      "outputs": []
    },
    {
      "cell_type": "code",
      "source": [
        "from sklearn.feature_extraction.text import TfidfVectorizer\n",
        "\n",
        "doc_list = ['if you take the blue pill, the story ends',\n",
        "            'if you take thr red pill, you stay in Wonderland',\n",
        "            'if you take the red pill, I show you how deep the rabbit hole goes']\n",
        "\n",
        "tfidf_vect_simple = TfidfVectorizer()\n",
        "feature_vect_simple = tfidf_vect_simple.fit_transform(doc_list)\n",
        "print(feature_vect_simple.shape)"
      ],
      "metadata": {
        "colab": {
          "base_uri": "https://localhost:8080/"
        },
        "id": "CMmf8QEomzuU",
        "outputId": "c6c2a250-fd49-4210-851d-bee641b4b2dc"
      },
      "execution_count": 6,
      "outputs": [
        {
          "output_type": "stream",
          "name": "stdout",
          "text": [
            "(3, 19)\n"
          ]
        }
      ]
    },
    {
      "cell_type": "code",
      "source": [
        "# TfidfVectorizer로 transform()한 결과는 희소 행렬이므로 밀집 행렬로 변환\n",
        "feature_vect_dense = feature_vect_simple.todense()\n",
        "\n",
        "# 첫번째 문장과 두 번째 문장의 피처 벡터 추출\n",
        "vect1 = np.array(feature_vect_dense[0]).reshape(-1, )\n",
        "vect2 = np.array(feature_vect_dense[1]).reshape(-1, )\n",
        "\n",
        "# 첫번째 문장과 두 번째 문장의 피처 벡터로 두 개 문장의 코사인 유사도 추출\n",
        "similarity_simple = cos_similarity(vect1, vect2)\n",
        "print('문장1, 문장 2 Cosine 유사도: {0:.3f}'.format(similarity_simple))"
      ],
      "metadata": {
        "colab": {
          "base_uri": "https://localhost:8080/"
        },
        "id": "b6xS-8jwm_M5",
        "outputId": "d45b4be3-e3f5-4a29-a6ff-894978964880"
      },
      "execution_count": 7,
      "outputs": [
        {
          "output_type": "stream",
          "name": "stdout",
          "text": [
            "문장1, 문장 2 Cosine 유사도: 0.254\n"
          ]
        }
      ]
    },
    {
      "cell_type": "code",
      "source": [
        "vect1 = np.array(feature_vect_dense[0]).reshape(-1, )\n",
        "vect3 = np.array(feature_vect_dense[2]).reshape(-1, )\n",
        "similarity_simple = cos_similarity(vect1, vect3)\n",
        "print('문장1, 문장 3 Cosine 유사도: {0:.3f}'.format(similarity_simple))\n",
        "\n",
        "vect2 = np.array(feature_vect_dense[1]).reshape(-1, )\n",
        "vect3 = np.array(feature_vect_dense[2]).reshape(-1, )\n",
        "similarity_simple = cos_similarity(vect2, vect3)\n",
        "print('문장2, 문장 3 Cosine 유사도: {0:.3f}'.format(similarity_simple))"
      ],
      "metadata": {
        "colab": {
          "base_uri": "https://localhost:8080/"
        },
        "id": "f-a3mRhknFQc",
        "outputId": "b4fb9a7f-f534-4fc6-bd4e-b1ef80c30fc3"
      },
      "execution_count": 8,
      "outputs": [
        {
          "output_type": "stream",
          "name": "stdout",
          "text": [
            "문장1, 문장 3 Cosine 유사도: 0.465\n",
            "문장2, 문장 3 Cosine 유사도: 0.339\n"
          ]
        }
      ]
    },
    {
      "cell_type": "code",
      "source": [
        "# sklearn.metrics.pairwise.cosine_similarity API 사용\n",
        "from sklearn.metrics.pairwise import cosine_similarity\n",
        "\n",
        "similarity_simple_pair = cosine_similarity(feature_vect_simple[0], feature_vect_simple)\n",
        "print(similarity_simple_pair)"
      ],
      "metadata": {
        "colab": {
          "base_uri": "https://localhost:8080/"
        },
        "id": "8jNcxnfRnN7-",
        "outputId": "084fbbb3-6c45-422e-d4ee-40104ba7e9d0"
      },
      "execution_count": 9,
      "outputs": [
        {
          "output_type": "stream",
          "name": "stdout",
          "text": [
            "[[1.         0.25414421 0.4653398 ]]\n"
          ]
        }
      ]
    },
    {
      "cell_type": "code",
      "source": [
        "from sklearn.metrics.pairwise import cosine_similarity\n",
        "\n",
        "similarity_simple_pair = cosine_similarity(feature_vect_simple[0], feature_vect_simple[1:])\n",
        "print(similarity_simple_pair)"
      ],
      "metadata": {
        "colab": {
          "base_uri": "https://localhost:8080/"
        },
        "id": "yVYjuhzNnTzz",
        "outputId": "2b258d91-09ad-444a-e385-074340df6ec6"
      },
      "execution_count": 10,
      "outputs": [
        {
          "output_type": "stream",
          "name": "stdout",
          "text": [
            "[[0.25414421 0.4653398 ]]\n"
          ]
        }
      ]
    },
    {
      "cell_type": "code",
      "source": [
        "similarity_simple_pair = cosine_similarity(feature_vect_simple, feature_vect_simple)\n",
        "print(similarity_simple_pair)\n",
        "print('shape:', similarity_simple_pair.shape)"
      ],
      "metadata": {
        "colab": {
          "base_uri": "https://localhost:8080/"
        },
        "id": "ZTbLWAmananl",
        "outputId": "a4128c9f-680e-428d-9817-4c7e10c90957"
      },
      "execution_count": 11,
      "outputs": [
        {
          "output_type": "stream",
          "name": "stdout",
          "text": [
            "[[1.         0.25414421 0.4653398 ]\n",
            " [0.25414421 1.         0.33858866]\n",
            " [0.4653398  0.33858866 1.        ]]\n",
            "shape: (3, 3)\n"
          ]
        }
      ]
    },
    {
      "cell_type": "markdown",
      "source": [
        "## Opinion Review 데이터 세트를 이용한 문서 유사도 측정"
      ],
      "metadata": {
        "id": "Av3-1OWnnsHD"
      }
    },
    {
      "cell_type": "code",
      "source": [
        "import nltk\n",
        "from nltk.tokenize import word_tokenize\n",
        "from nltk.stem import WordNetLemmatizer\n",
        "from google.colab import drive\n",
        "\n",
        "from google.colab import drive\n",
        "drive.mount('/content/drive')\n",
        "\n",
        "# 필수 NLTK 데이터 다운로드\n",
        "nltk.download('punkt')\n",
        "nltk.download('punkt_tab')\n",
        "nltk.download('wordnet')\n",
        "\n",
        "def LemNormalize(text):\n",
        "  lemmatizer = WordNetLemmatizer()\n",
        "  return [lemmatizer.lemmatize(token) for token in word_tokenize(text)]"
      ],
      "metadata": {
        "colab": {
          "base_uri": "https://localhost:8080/"
        },
        "id": "nSvTZQHAniIS",
        "outputId": "2976cce2-f3b8-4bfc-f211-bd8e29b12a08"
      },
      "execution_count": 13,
      "outputs": [
        {
          "output_type": "stream",
          "name": "stdout",
          "text": [
            "Mounted at /content/drive\n"
          ]
        },
        {
          "output_type": "stream",
          "name": "stderr",
          "text": [
            "[nltk_data] Downloading package punkt to /root/nltk_data...\n",
            "[nltk_data]   Package punkt is already up-to-date!\n",
            "[nltk_data] Downloading package punkt_tab to /root/nltk_data...\n",
            "[nltk_data]   Package punkt_tab is already up-to-date!\n",
            "[nltk_data] Downloading package wordnet to /root/nltk_data...\n",
            "[nltk_data]   Package wordnet is already up-to-date!\n"
          ]
        }
      ]
    },
    {
      "cell_type": "code",
      "source": [
        "import pandas as pd\n",
        "import glob, os\n",
        "from sklearn.feature_extraction.text import TfidfVectorizer\n",
        "from sklearn.cluster import KMeans\n",
        "import warnings\n",
        "warnings.filterwarnings('ignore')\n",
        "pd.set_option('display.max_colwidth', 700)\n",
        "\n",
        "path = '/content/drive/MyDrive/OpinosisDataset1.0/topics'\n",
        "all_files = glob.glob(os.path.join(path, \"*.data\"))\n",
        "filename_list = []\n",
        "opinion_text = []\n",
        "\n",
        "for file_ in all_files:\n",
        "    # 개별 파일을 읽어서 DataFrame으로 생성\n",
        "    df = pd.read_table(file_, index_col=None, header=0, encoding='latin1')\n",
        "\n",
        "    # 경로에서 파일명만 추출하고 확장자 제거\n",
        "    filename = os.path.splitext(os.path.basename(file_))[0]\n",
        "\n",
        "    # 파일명 리스트와 파일 내용 리스트에 파일명과 파일 내용을 추가\n",
        "    filename_list.append(filename)\n",
        "    opinion_text.append(df.to_string())\n",
        "\n",
        "# 파일명 리스트와 파일 내용 리스트를 DataFrame으로 생성\n",
        "document_df = pd.DataFrame({'filename': filename_list, 'opinion_text': opinion_text})\n",
        "\n",
        "tfidf_vect = TfidfVectorizer(\n",
        "    tokenizer=LemNormalize,\n",
        "    stop_words='english',      # 영어 불용어 제거 중지\n",
        "    ngram_range=(1,2),\n",
        "    min_df=0.05,             # 최소 1번 이상 등장한 단어 포함\n",
        "    max_df=0.85           # 전체 문서의 95% 이하에서 등장한 단어만 포함\n",
        ")\n",
        "\n",
        "feature_vect = tfidf_vect.fit_transform(document_df['opinion_text'])\n",
        "\n",
        "# KMeans\n",
        "km_cluster = KMeans(n_clusters=3, max_iter=10000, random_state=0)\n",
        "km_cluster.fit(feature_vect)\n",
        "cluster_label=km_cluster.labels_\n",
        "cluster_centers=km_cluster.cluster_centers_\n",
        "document_df['cluster_label'] = cluster_label"
      ],
      "metadata": {
        "id": "Bnk05oZCo6YG"
      },
      "execution_count": 22,
      "outputs": []
    },
    {
      "cell_type": "code",
      "source": [
        "from sklearn.metrics.pairwise import cosine_similarity\n",
        "\n",
        "# clusterjab인=2인 데이터는 호텔로 군집화된 데이터임. DataFrame에서 해당 인덱스를 추출\n",
        "hotel_indexes = document_df[document_df['cluster_label']==2] .index\n",
        "print('호텔로 클러스터링 된 문서들의 DataFrame Index： ', hotel_indexes)\n",
        "\n",
        "# 호텔로 군집화된 데이터 중 첫 번째 문서를 추출해 파일명 표시\n",
        "comparison_docname = document_df.iloc[hotel_indexes[0]]['filename']\n",
        "print('##### 비교 기준 문서명', comparison_docname,'와 타 문서 유사도######')\n",
        "\n",
        "''' document_df에서 추출한 Index 객체를 feature_vect로 입력해 호텔 군집화된 feature_vect 추출\n",
        "이를 이용해 호텔로 군집화된 문서 중 첫 번째 문서와 다른 문서 간의 코사인 유사도 측정.'''\n",
        "similarity_pair = cosine_similarity(feature_vect[hotel_indexes[0]], feature_vect[hotel_indexes])\n",
        "print(similarity_pair)"
      ],
      "metadata": {
        "colab": {
          "base_uri": "https://localhost:8080/"
        },
        "id": "_hiA3L8Dq7kf",
        "outputId": "00c591fd-f436-4cf7-eb5d-e46b9dc94c5c"
      },
      "execution_count": 23,
      "outputs": [
        {
          "output_type": "stream",
          "name": "stdout",
          "text": [
            "호텔로 클러스터링 된 문서들의 DataFrame Index：  Index([2, 18, 20, 21, 22, 29, 35, 36, 37, 40, 42], dtype='int64')\n",
            "##### 비교 기준 문서명 transmission_toyota_camry_2007.txt 와 타 문서 유사도######\n",
            "[[1.         0.0193701  0.10889616 0.04054824 0.06797805 0.04049025\n",
            "  0.03960923 0.08253772 0.07464435 0.06577094 0.07550664]]\n"
          ]
        }
      ]
    },
    {
      "cell_type": "code",
      "source": [
        "import seaborn as sns\n",
        "import numpy as np\n",
        "import matplotlib.pyplot as plt\n",
        "%matplotlib inline\n",
        "\n",
        "# 첫번째 문서와 타 문서간 유사도가 큰 순으로 정렬한 인덱스 추출하되 자기 자신은 제외\n",
        "sorted_index = similarity_pair.argsort()[:,::-1 ]\n",
        "sorted_index = sorted_index[:, 1:]\n",
        "\n",
        " # 유사도가 큰 순으로 hotel_indexes를 추출하여 재정렬\n",
        "hotel_sorted_indexes = hotel_indexes[sorted_index.reshape(-1)]\n",
        "\n",
        " # 유사도가 큰 순으로 유사도 값을 재정렬하되 자기 자신은 제외\n",
        "hotel_1_sim_value = np.sort(similarity_pair.reshape(-1))[::-1 ]\n",
        "hotel_1_sim_value = hotel_1_sim_value[1:]\n",
        "\n",
        " # 유사도가 큰 순으로 정렬된 인덱스와 유사도 값을 이용해 파일명과 유사도값을 막대 그래프로 시각화\n",
        "hotel_1_sim_df = pd.DataFrame()\n",
        "hotel_1_sim_df['filename'] = document_df.iloc[hotel_sorted_indexes]['filename']\n",
        "hotel_1_sim_df['similarity' ] = hotel_1_sim_value\n",
        "print('가장 유사도가 큰 파일명 및 유사도:\\n', hotel_1_sim_df.iloc[0, :])\n",
        "\n",
        "sns.barplot(x='similarity', y='filename', data=hotel_1_sim_df)\n",
        "plt.title(comparison_docname)"
      ],
      "metadata": {
        "colab": {
          "base_uri": "https://localhost:8080/",
          "height": 565
        },
        "id": "v50RV0IQrLLa",
        "outputId": "5a27431a-aca5-41d4-aa01-6bf69d7deb2c"
      },
      "execution_count": 24,
      "outputs": [
        {
          "output_type": "stream",
          "name": "stdout",
          "text": [
            "가장 유사도가 큰 파일명 및 유사도:\n",
            " filename      quality_toyota_camry_2007.txt\n",
            "similarity                         0.108896\n",
            "Name: 20, dtype: object\n"
          ]
        },
        {
          "output_type": "execute_result",
          "data": {
            "text/plain": [
              "Text(0.5, 1.0, 'transmission_toyota_camry_2007.txt')"
            ]
          },
          "metadata": {},
          "execution_count": 24
        },
        {
          "output_type": "display_data",
          "data": {
            "text/plain": [
              "<Figure size 640x480 with 1 Axes>"
            ],
            "image/png": "[encoded data removed]"
          },
          "metadata": {}
        }
      ]
    },
    {
      "cell_type": "markdown",
      "source": [
        "## 한글 텍스트 처리 - 네이버 영화 평점 감성 분석\n",
        "\n",
        "-  한글 언어 처리의 어려움 -> '띄어쓰기'와 '다양한 조사' 때문에\n",
        "\n",
        "-  KoNLPy: 파이썬의 대표적인 한글 형태소 패키지\n",
        "\n",
        "- 형태소 분석: 말뭉치를 형태소 어근 단위로 쪼개고 각 형태소에 품사 태깅을 부착하는 작업\n",
        "\n"
      ],
      "metadata": {
        "id": "xBtoREe7rUmz"
      }
    },
    {
      "cell_type": "code",
      "source": [
        "!pip install konlpy"
      ],
      "metadata": {
        "colab": {
          "base_uri": "https://localhost:8080/"
        },
        "id": "nDxcd1gYsEwS",
        "outputId": "6c05123e-c405-4353-cdd0-bd84db1c2592"
      },
      "execution_count": 25,
      "outputs": [
        {
          "output_type": "stream",
          "name": "stdout",
          "text": [
            "Collecting konlpy\n",
            "  Downloading konlpy-0.6.0-py2.py3-none-any.whl.metadata (1.9 kB)\n",
            "Collecting JPype1>=0.7.0 (from konlpy)\n",
            "  Downloading jpype1-1.6.0-cp312-cp312-manylinux2014_x86_64.manylinux_2_17_x86_64.whl.metadata (5.0 kB)\n",
            "Requirement already satisfied: lxml>=4.1.0 in /usr/local/lib/python3.12/dist-packages (from konlpy) (5.4.0)\n",
            "Requirement already satisfied: numpy>=1.6 in /usr/local/lib/python3.12/dist-packages (from konlpy) (2.0.2)\n",
            "Requirement already satisfied: packaging in /usr/local/lib/python3.12/dist-packages (from JPype1>=0.7.0->konlpy) (25.0)\n",
            "Downloading konlpy-0.6.0-py2.py3-none-any.whl (19.4 MB)\n",
            "\u001b[2K   \u001b[90m━━━━━━━━━━━━━━━━━━━━━━━━━━━━━━━━━━━━━━━━\u001b[0m \u001b[32m19.4/19.4 MB\u001b[0m \u001b[31m68.9 MB/s\u001b[0m eta \u001b[36m0:00:00\u001b[0m\n",
            "\u001b[?25hDownloading jpype1-1.6.0-cp312-cp312-manylinux2014_x86_64.manylinux_2_17_x86_64.whl (495 kB)\n",
            "\u001b[2K   \u001b[90m━━━━━━━━━━━━━━━━━━━━━━━━━━━━━━━━━━━━━━━━\u001b[0m \u001b[32m495.9/495.9 kB\u001b[0m \u001b[31m26.0 MB/s\u001b[0m eta \u001b[36m0:00:00\u001b[0m\n",
            "\u001b[?25hInstalling collected packages: JPype1, konlpy\n",
            "Successfully installed JPype1-1.6.0 konlpy-0.6.0\n"
          ]
        }
      ]
    },
    {
      "cell_type": "code",
      "source": [
        "import pandas as pd\n",
        "\n",
        "train_df = pd.read_csv('ratings_train.txt', sep='\\t', encoding='utf-8')\n",
        "train_df.head(3)"
      ],
      "metadata": {
        "colab": {
          "base_uri": "https://localhost:8080/",
          "height": 143
        },
        "id": "5o2GUUe1sI7-",
        "outputId": "859719b9-af79-4998-e812-74c40e2d0466"
      },
      "execution_count": 26,
      "outputs": [
        {
          "output_type": "execute_result",
          "data": {
            "text/plain": [
              "         id                           document  label\n",
              "0   9976970                아 더빙.. 진짜 짜증나네요 목소리      0\n",
              "1   3819312  흠...포스터보고 초딩영화줄....오버연기조차 가볍지 않구나      1\n",
              "2  10265843                  너무재밓었다그래서보는것을추천한다      0"
            ],
            "text/html": [
              "\n",
              "  <div id=\"df-b1a65b84-6969-4db9-b4f6-b1ef7cca06c2\" class=\"colab-df-container\">\n",
              "    <div>\n",
              "<style scoped>\n",
              "    .dataframe tbody tr th:only-of-type {\n",
              "        vertical-align: middle;\n",
              "    }\n",
              "\n",
              "    .dataframe tbody tr th {\n",
              "        vertical-align: top;\n",
              "    }\n",
              "\n",
              "    .dataframe thead th {\n",
              "        text-align: right;\n",
              "    }\n",
              "</style>\n",
              "<table border=\"1\" class=\"dataframe\">\n",
              "  <thead>\n",
              "    <tr style=\"text-align: right;\">\n",
              "      <th></th>\n",
              "      <th>id</th>\n",
              "      <th>document</th>\n",
              "      <th>label</th>\n",
              "    </tr>\n",
              "  </thead>\n",
              "  <tbody>\n",
              "    <tr>\n",
              "      <th>0</th>\n",
              "      <td>9976970</td>\n",
              "      <td>아 더빙.. 진짜 짜증나네요 목소리</td>\n",
              "      <td>0</td>\n",
              "    </tr>\n",
              "    <tr>\n",
              "      <th>1</th>\n",
              "      <td>3819312</td>\n",
              "      <td>흠...포스터보고 초딩영화줄....오버연기조차 가볍지 않구나</td>\n",
              "      <td>1</td>\n",
              "    </tr>\n",
              "    <tr>\n",
              "      <th>2</th>\n",
              "      <td>10265843</td>\n",
              "      <td>너무재밓었다그래서보는것을추천한다</td>\n",
              "      <td>0</td>\n",
              "    </tr>\n",
              "  </tbody>\n",
              "</table>\n",
              "</div>\n",
              "    <div class=\"colab-df-buttons\">\n",
              "\n",
              "  <div class=\"colab-df-container\">\n",
              "    <button class=\"colab-df-convert\" onclick=\"convertToInteractive('df-b1a65b84-6969-4db9-b4f6-b1ef7cca06c2')\"\n",
              "            title=\"Convert this dataframe to an interactive table.\"\n",
              "            style=\"display:none;\">\n",
              "\n",
              "  <svg xmlns=\"http://www.w3.org/2000/svg\" height=\"24px\" viewBox=\"0 -960 960 960\">\n",
              "    <path d=\"M120-120v-720h720v720H120Zm60-500h600v-160H180v160Zm220 220h160v-160H400v160Zm0 220h160v-160H400v160ZM180-400h160v-160H180v160Zm440 0h160v-160H620v160ZM180-180h160v-160H180v160Zm440 0h160v-160H620v160Z\"/>\n",
              "  </svg>\n",
              "    </button>\n",
              "\n",
              "  <style>\n",
              "    .colab-df-container {\n",
              "      display:flex;\n",
              "      gap: 12px;\n",
              "    }\n",
              "\n",
              "    .colab-df-convert {\n",
              "      background-color: #E8F0FE;\n",
              "      border: none;\n",
              "      border-radius: 50%;\n",
              "      cursor: pointer;\n",
              "      display: none;\n",
              "      fill: #1967D2;\n",
              "      height: 32px;\n",
              "      padding: 0 0 0 0;\n",
              "      width: 32px;\n",
              "    }\n",
              "\n",
              "    .colab-df-convert:hover {\n",
              "      background-color: #E2EBFA;\n",
              "      box-shadow: 0px 1px 2px rgba(60, 64, 67, 0.3), 0px 1px 3px 1px rgba(60, 64, 67, 0.15);\n",
              "      fill: #174EA6;\n",
              "    }\n",
              "\n",
              "    .colab-df-buttons div {\n",
              "      margin-bottom: 4px;\n",
              "    }\n",
              "\n",
              "    [theme=dark] .colab-df-convert {\n",
              "      background-color: #3B4455;\n",
              "      fill: #D2E3FC;\n",
              "    }\n",
              "\n",
              "    [theme=dark] .colab-df-convert:hover {\n",
              "      background-color: #434B5C;\n",
              "      box-shadow: 0px 1px 3px 1px rgba(0, 0, 0, 0.15);\n",
              "      filter: drop-shadow(0px 1px 2px rgba(0, 0, 0, 0.3));\n",
              "      fill: #FFFFFF;\n",
              "    }\n",
              "  </style>\n",
              "\n",
              "    <script>\n",
              "      const buttonEl =\n",
              "        document.querySelector('#df-b1a65b84-6969-4db9-b4f6-b1ef7cca06c2 button.colab-df-convert');\n",
              "      buttonEl.style.display =\n",
              "        google.colab.kernel.accessAllowed ? 'block' : 'none';\n",
              "\n",
              "      async function convertToInteractive(key) {\n",
              "        const element = document.querySelector('#df-b1a65b84-6969-4db9-b4f6-b1ef7cca06c2');\n",
              "        const dataTable =\n",
              "          await google.colab.kernel.invokeFunction('convertToInteractive',\n",
              "                                                    [key], {});\n",
              "        if (!dataTable) return;\n",
              "\n",
              "        const docLinkHtml = 'Like what you see? Visit the ' +\n",
              "          '<a target=\"_blank\" href=https://colab.research.google.com/notebooks/data_table.ipynb>data table notebook</a>'\n",
              "          + ' to learn more about interactive tables.';\n",
              "        element.innerHTML = '';\n",
              "        dataTable['output_type'] = 'display_data';\n",
              "        await google.colab.output.renderOutput(dataTable, element);\n",
              "        const docLink = document.createElement('div');\n",
              "        docLink.innerHTML = docLinkHtml;\n",
              "        element.appendChild(docLink);\n",
              "      }\n",
              "    </script>\n",
              "  </div>\n",
              "\n",
              "\n",
              "    <div id=\"df-0a88745e-9b95-4a6a-bfc8-d26a4eb69c8b\">\n",
              "      <button class=\"colab-df-quickchart\" onclick=\"quickchart('df-0a88745e-9b95-4a6a-bfc8-d26a4eb69c8b')\"\n",
              "                title=\"Suggest charts\"\n",
              "                style=\"display:none;\">\n",
              "\n",
              "<svg xmlns=\"http://www.w3.org/2000/svg\" height=\"24px\"viewBox=\"0 0 24 24\"\n",
              "     width=\"24px\">\n",
              "    <g>\n",
              "        <path d=\"M19 3H5c-1.1 0-2 .9-2 2v14c0 1.1.9 2 2 2h14c1.1 0 2-.9 2-2V5c0-1.1-.9-2-2-2zM9 17H7v-7h2v7zm4 0h-2V7h2v10zm4 0h-2v-4h2v4z\"/>\n",
              "    </g>\n",
              "</svg>\n",
              "      </button>\n",
              "\n",
              "<style>\n",
              "  .colab-df-quickchart {\n",
              "      --bg-color: #E8F0FE;\n",
              "      --fill-color: #1967D2;\n",
              "      --hover-bg-color: #E2EBFA;\n",
              "      --hover-fill-color: #174EA6;\n",
              "      --disabled-fill-color: #AAA;\n",
              "      --disabled-bg-color: #DDD;\n",
              "  }\n",
              "\n",
              "  [theme=dark] .colab-df-quickchart {\n",
              "      --bg-color: #3B4455;\n",
              "      --fill-color: #D2E3FC;\n",
              "      --hover-bg-color: #434B5C;\n",
              "      --hover-fill-color: #FFFFFF;\n",
              "      --disabled-bg-color: #3B4455;\n",
              "      --disabled-fill-color: #666;\n",
              "  }\n",
              "\n",
              "  .colab-df-quickchart {\n",
              "    background-color: var(--bg-color);\n",
              "    border: none;\n",
              "    border-radius: 50%;\n",
              "    cursor: pointer;\n",
              "    display: none;\n",
              "    fill: var(--fill-color);\n",
              "    height: 32px;\n",
              "    padding: 0;\n",
              "    width: 32px;\n",
              "  }\n",
              "\n",
              "  .colab-df-quickchart:hover {\n",
              "    background-color: var(--hover-bg-color);\n",
              "    box-shadow: 0 1px 2px rgba(60, 64, 67, 0.3), 0 1px 3px 1px rgba(60, 64, 67, 0.15);\n",
              "    fill: var(--button-hover-fill-color);\n",
              "  }\n",
              "\n",
              "  .colab-df-quickchart-complete:disabled,\n",
              "  .colab-df-quickchart-complete:disabled:hover {\n",
              "    background-color: var(--disabled-bg-color);\n",
              "    fill: var(--disabled-fill-color);\n",
              "    box-shadow: none;\n",
              "  }\n",
              "\n",
              "  .colab-df-spinner {\n",
              "    border: 2px solid var(--fill-color);\n",
              "    border-color: transparent;\n",
              "    border-bottom-color: var(--fill-color);\n",
              "    animation:\n",
              "      spin 1s steps(1) infinite;\n",
              "  }\n",
              "\n",
              "  @keyframes spin {\n",
              "    0% {\n",
              "      border-color: transparent;\n",
              "      border-bottom-color: var(--fill-color);\n",
              "      border-left-color: var(--fill-color);\n",
              "    }\n",
              "    20% {\n",
              "      border-color: transparent;\n",
              "      border-left-color: var(--fill-color);\n",
              "      border-top-color: var(--fill-color);\n",
              "    }\n",
              "    30% {\n",
              "      border-color: transparent;\n",
              "      border-left-color: var(--fill-color);\n",
              "      border-top-color: var(--fill-color);\n",
              "      border-right-color: var(--fill-color);\n",
              "    }\n",
              "    40% {\n",
              "      border-color: transparent;\n",
              "      border-right-color: var(--fill-color);\n",
              "      border-top-color: var(--fill-color);\n",
              "    }\n",
              "    60% {\n",
              "      border-color: transparent;\n",
              "      border-right-color: var(--fill-color);\n",
              "    }\n",
              "    80% {\n",
              "      border-color: transparent;\n",
              "      border-right-color: var(--fill-color);\n",
              "      border-bottom-color: var(--fill-color);\n",
              "    }\n",
              "    90% {\n",
              "      border-color: transparent;\n",
              "      border-bottom-color: var(--fill-color);\n",
              "    }\n",
              "  }\n",
              "</style>\n",
              "\n",
              "      <script>\n",
              "        async function quickchart(key) {\n",
              "          const quickchartButtonEl =\n",
              "            document.querySelector('#' + key + ' button');\n",
              "          quickchartButtonEl.disabled = true;  // To prevent multiple clicks.\n",
              "          quickchartButtonEl.classList.add('colab-df-spinner');\n",
              "          try {\n",
              "            const charts = await google.colab.kernel.invokeFunction(\n",
              "                'suggestCharts', [key], {});\n",
              "          } catch (error) {\n",
              "            console.error('Error during call to suggestCharts:', error);\n",
              "          }\n",
              "          quickchartButtonEl.classList.remove('colab-df-spinner');\n",
              "          quickchartButtonEl.classList.add('colab-df-quickchart-complete');\n",
              "        }\n",
              "        (() => {\n",
              "          let quickchartButtonEl =\n",
              "            document.querySelector('#df-0a88745e-9b95-4a6a-bfc8-d26a4eb69c8b button');\n",
              "          quickchartButtonEl.style.display =\n",
              "            google.colab.kernel.accessAllowed ? 'block' : 'none';\n",
              "        })();\n",
              "      </script>\n",
              "    </div>\n",
              "\n",
              "    </div>\n",
              "  </div>\n"
            ],
            "application/vnd.google.colaboratory.intrinsic+json": {
              "type": "dataframe",
              "variable_name": "train_df"
            }
          },
          "metadata": {},
          "execution_count": 26
        }
      ]
    },
    {
      "cell_type": "code",
      "source": [
        "train_df['label'].value_counts( )"
      ],
      "metadata": {
        "colab": {
          "base_uri": "https://localhost:8080/",
          "height": 178
        },
        "id": "7SiNhvr2szHq",
        "outputId": "bd3e6c24-dd78-4ffe-80c4-044014587700"
      },
      "execution_count": 27,
      "outputs": [
        {
          "output_type": "execute_result",
          "data": {
            "text/plain": [
              "label\n",
              "0    75173\n",
              "1    74827\n",
              "Name: count, dtype: int64"
            ],
            "text/html": [
              "<div>\n",
              "<style scoped>\n",
              "    .dataframe tbody tr th:only-of-type {\n",
              "        vertical-align: middle;\n",
              "    }\n",
              "\n",
              "    .dataframe tbody tr th {\n",
              "        vertical-align: top;\n",
              "    }\n",
              "\n",
              "    .dataframe thead th {\n",
              "        text-align: right;\n",
              "    }\n",
              "</style>\n",
              "<table border=\"1\" class=\"dataframe\">\n",
              "  <thead>\n",
              "    <tr style=\"text-align: right;\">\n",
              "      <th></th>\n",
              "      <th>count</th>\n",
              "    </tr>\n",
              "    <tr>\n",
              "      <th>label</th>\n",
              "      <th></th>\n",
              "    </tr>\n",
              "  </thead>\n",
              "  <tbody>\n",
              "    <tr>\n",
              "      <th>0</th>\n",
              "      <td>75173</td>\n",
              "    </tr>\n",
              "    <tr>\n",
              "      <th>1</th>\n",
              "      <td>74827</td>\n",
              "    </tr>\n",
              "  </tbody>\n",
              "</table>\n",
              "</div><br><label><b>dtype:</b> int64</label>"
            ]
          },
          "metadata": {},
          "execution_count": 27
        }
      ]
    },
    {
      "cell_type": "code",
      "source": [
        "import re\n",
        "\n",
        "train_df = train_df.fillna(' ')\n",
        "# 정규 표현식을 이용해 숫자를 공백으로 변경(정규 표현식으로 \\d는 숫자를 의미함.)\n",
        "train_df['document'] = train_df['document'].apply( lambda x : re.sub(r\"\\d+\", \" \", x) )\n",
        "\n",
        "# 테스트 데이터 세트를 로딩하고 동일하게 Null 및 숫자를 공백으로 변환\n",
        "test_df = pd.read_csv('ratings_test.txt', sep='\\t', encoding='utf-8')\n",
        "test_df = test_df.fillna(' ')\n",
        "test_df['document'] = test_df['document'].apply( lambda x : re.sub(r\"\\d+\", \" \", x) )\n",
        "\n",
        "# id 칼럼 삭제 수행\n",
        "train_df.drop('id', axis=1, inplace=True)\n",
        "test_df.drop('id', axis=1, inplace=True)"
      ],
      "metadata": {
        "id": "xkVJbI3qs5EU"
      },
      "execution_count": 29,
      "outputs": []
    },
    {
      "cell_type": "code",
      "source": [
        "from konlpy.tag import Twitter\n",
        "\n",
        "twitter = Twitter()\n",
        "def tw_tokenizer(text):\n",
        "  # 입력 인자로 들어온 텍스트를 형태소 단어로 토큰화해 리스트 형태로 반환\n",
        "  tokens_ko = twitter.morphs(text)\n",
        "  return tokens_ko"
      ],
      "metadata": {
        "id": "HfwHJmQAtSlO"
      },
      "execution_count": 30,
      "outputs": []
    },
    {
      "cell_type": "code",
      "source": [
        "from sklearn.feature_extraction.text import TfidfVectorizer\n",
        "from sklearn.linear_model import LogisticRegression\n",
        "from sklearn.model_selection import GridSearchCV\n",
        "\n",
        "# 라벨 값 확인\n",
        "print(\"변환 전 고유 라벨:\", train_df['label'].unique())\n",
        "\n",
        "# 라벨 전처리: 공백(' ') → NaN 처리 후 제거\n",
        "train_df['label'].replace(' ', np.nan, inplace=True)\n",
        "train_df = train_df.dropna(subset=['label'])\n",
        "\n",
        "# 정수형 변환 (0/1)\n",
        "train_df['label'] = train_df['label'].astype(float).astype(int)\n",
        "\n",
        "print(\"변환 후 고유 라벨:\", train_df['label'].unique())"
      ],
      "metadata": {
        "colab": {
          "base_uri": "https://localhost:8080/"
        },
        "id": "w2HzgI8TtY5E",
        "outputId": "23a5de95-7b80-434e-faf0-32d0a00eda8f"
      },
      "execution_count": 33,
      "outputs": [
        {
          "output_type": "stream",
          "name": "stdout",
          "text": [
            "변환 전 고유 라벨: [0 1]\n",
            "변환 후 고유 라벨: [0 1]\n"
          ]
        }
      ]
    },
    {
      "cell_type": "code",
      "source": [
        "# TF-IDF 벡터화\n",
        "tfidf_vect = TfidfVectorizer(tokenizer=tw_tokenizer, ngram_range=(1, 2),\n",
        "                             min_df=5, max_df=0.9)\n",
        "tfidf_vect.fit(train_df['document'])\n",
        "tfidf_matrix_train = tfidf_vect.transform(train_df['document'])\n",
        "\n",
        "# 로지스틱 회귀\n",
        "lg_clf = LogisticRegression(random_state=0, solver='liblinear')\n",
        "\n",
        "# GridSearchCV\n",
        "params = { 'C': [1, 3.5, 4.5, 5.5, 10] }\n",
        "grid_cv = GridSearchCV(lg_clf, param_grid=params, cv=3,\n",
        "                       scoring='accuracy', verbose=1)\n",
        "grid_cv.fit(tfidf_matrix_train, train_df['label'])\n",
        "print(grid_cv.best_params_, round(grid_cv.best_score_, 4))"
      ],
      "metadata": {
        "colab": {
          "base_uri": "https://localhost:8080/"
        },
        "id": "XP2P3sq_tfUO",
        "outputId": "bf69d332-6aec-4cfa-ff46-1b64efc6c51d"
      },
      "execution_count": 34,
      "outputs": [
        {
          "output_type": "stream",
          "name": "stdout",
          "text": [
            "Fitting 3 folds for each of 5 candidates, totalling 15 fits\n",
            "{'C': 3.5} 0.8573\n"
          ]
        }
      ]
    },
    {
      "cell_type": "code",
      "source": [
        "from sklearn.feature_extraction.text import TfidfVectorizer\n",
        "from sklearn.linear_model import LogisticRegression\n",
        "from sklearn.model_selection import GridSearchCV\n",
        "\n",
        " # Twitter 객체의 morphs( ) 객체를 이용한 tokenizer를 사용. ngram_range는 (1, 2)\n",
        "tfidf_vect = TfidfVectorizer(tokenizer=tw_tokenizer, ngram_range=(1, 2), min_df=3, max_df=0.9)\n",
        "tfidf_vect.fit(train_df['document'])\n",
        "tfidf_matrix_train = tfidf_vect.transform(train_df['document'])\n",
        "# 로지스틱 회귀를 이용해 감성 분석 분류 수행.\n",
        "lg_clf = LogisticRegression(random_state=0, solver='liblinear')\n",
        "\n",
        " # 파라미터 C 최적화를 위해 GridSearchCV를 이용.\n",
        "params = { 'C': [1, 3.5, 4.5, 5.5, 10] }\n",
        "grid_cv = GridSearchCV(lg_clf, param_grid=params, cv=3, scoring='accuracy', verbose=1)\n",
        "grid_cv.fit(tfidf_matrix_train, train_df['label'])\n",
        "print(grid_cv.best_params_, round(grid_cv.best_score_, 4))"
      ],
      "metadata": {
        "colab": {
          "base_uri": "https://localhost:8080/"
        },
        "id": "Fq1tcO2Pz0b3",
        "outputId": "ff215ff8-2559-4b10-f295-8d85bc917ae8"
      },
      "execution_count": 35,
      "outputs": [
        {
          "output_type": "stream",
          "name": "stdout",
          "text": [
            "Fitting 3 folds for each of 5 candidates, totalling 15 fits\n",
            "{'C': 3.5} 0.8593\n"
          ]
        }
      ]
    },
    {
      "cell_type": "code",
      "source": [
        "from sklearn.metrics import accuracy_score\n",
        "\n",
        "# 학습 데이터를 적용한 TfidfVectorizer를 이용해 테스트 데이터를 TF-IDF 값으로 피처 변환함\n",
        "tfidf_matrix_test = tfidf_vect.transform(test_df['document'])\n",
        "\n",
        "# classifier는 GridSearchCV에서 최적 파라미터로 학습된 classifier를 그대로 이용\n",
        "best_estimator = grid_cv.best_estimator_\n",
        "preds = best_estimator.predict(tfidf_matrix_test)\n",
        "\n",
        "print ('Logistic Regression 정확도:', accuracy_score(test_df ['label'], preds))"
      ],
      "metadata": {
        "colab": {
          "base_uri": "https://localhost:8080/"
        },
        "id": "Vfa7R8ATz1ke",
        "outputId": "83be7918-ca67-475f-b085-1374b93a756f"
      },
      "execution_count": 36,
      "outputs": [
        {
          "output_type": "stream",
          "name": "stdout",
          "text": [
            "Logistic Regression 정확도: 0.86172\n"
          ]
        }
      ]
    }
  ]
}