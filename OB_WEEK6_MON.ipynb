{
  "nbformat": 4,
  "nbformat_minor": 0,
  "metadata": {
    "colab": {
      "provenance": [],
      "authorship_tag": "ABX9TyMMvlKATuMwQAplc/iAkncQ",
      "include_colab_link": true
    },
    "kernelspec": {
      "name": "python3",
      "display_name": "Python 3"
    },
    "language_info": {
      "name": "python"
    }
  },
  "cells": [
    {
      "cell_type": "markdown",
      "metadata": {
        "id": "view-in-github",
        "colab_type": "text"
      },
      "source": [
        "<a href=\"https://colab.research.google.com/github/Dain777666/ESAA_25-2/blob/main/OB_WEEK6_MON.ipynb\" target=\"_parent\"><img src=\"https://colab.research.google.com/assets/colab-badge.svg\" alt=\"Open In Colab\"/></a>"
      ]
    },
    {
      "cell_type": "markdown",
      "source": [
        "## < 텍스트 분석 실습 - 캐글 Mercari Price Suggestion Challenge >\n",
        "\n",
        "- 과제: 일본의 대형 온라인 쇼핑몰인 Mercari사의 제품에 대해 가격 예측\n",
        "\n",
        "- 데이터셋: 제품에 대한 여러 속성 및 제품 설명 등의 텍스트 데이터\n",
        "\n",
        "  - train_id: 데이터 id\n",
        "  - name: 제품명\n",
        "  - item_condition_id: 판매자가 제공하는 제품 상태\n",
        "  - category_name: 카테고리 명\n",
        "  - brand_name: 브랜드 이름\n",
        "  - price: 제품 가격(타깃)\n",
        "  - shipping: 배송비 무료 여부 ->  1 이면 무료(판매자가 지불), 0이면 유료(구매자 지불)\n",
        "  - item_description: 제품에 대한 설명"
      ],
      "metadata": {
        "id": "i5e7ptHfM6Zn"
      }
    },
    {
      "cell_type": "code",
      "execution_count": 1,
      "metadata": {
        "id": "OFWAH01uM0qq"
      },
      "outputs": [],
      "source": [
        "## 데이터 전처리 ##"
      ]
    },
    {
      "cell_type": "code",
      "source": [
        "from sklearn.linear_model import Ridge, LogisticRegression\n",
        "from sklearn.model_selection import train_test_split, cross_val_score\n",
        "from sklearn.feature_extraction.text import CountVectorizer, TfidfVectorizer\n",
        "import pandas as pd\n",
        "\n",
        "mercari_df = pd.read_csv('train.tsv', sep='\\t')\n",
        "print(mercari_df.shape)\n",
        "mercari_df.head(3)"
      ],
      "metadata": {
        "colab": {
          "base_uri": "https://localhost:8080/",
          "height": 162
        },
        "id": "vpO74neyPWV6",
        "outputId": "8347f2cf-f874-4ffb-ef22-f337c55e6b58"
      },
      "execution_count": 3,
      "outputs": [
        {
          "output_type": "stream",
          "name": "stdout",
          "text": [
            "(1482535, 8)\n"
          ]
        },
        {
          "output_type": "execute_result",
          "data": {
            "text/plain": [
              "   train_id                                 name  item_condition_id  \\\n",
              "0         0  MLB Cincinnati Reds T Shirt Size XL                  3   \n",
              "1         1     Razer BlackWidow Chroma Keyboard                  3   \n",
              "2         2                       AVA-VIV Blouse                  1   \n",
              "\n",
              "                                       category_name brand_name  price  \\\n",
              "0                                  Men/Tops/T-shirts        NaN   10.0   \n",
              "1  Electronics/Computers & Tablets/Components & P...      Razer   52.0   \n",
              "2                        Women/Tops & Blouses/Blouse     Target   10.0   \n",
              "\n",
              "   shipping                                   item_description  \n",
              "0         1                                 No description yet  \n",
              "1         0  This keyboard is in great condition and works ...  \n",
              "2         1  Adorable top with a hint of lace and a key hol...  "
            ],
            "text/html": [
              "\n",
              "  <div id=\"df-40b920ca-bee1-439a-b0a6-a2c36c9e8a0b\" class=\"colab-df-container\">\n",
              "    <div>\n",
              "<style scoped>\n",
              "    .dataframe tbody tr th:only-of-type {\n",
              "        vertical-align: middle;\n",
              "    }\n",
              "\n",
              "    .dataframe tbody tr th {\n",
              "        vertical-align: top;\n",
              "    }\n",
              "\n",
              "    .dataframe thead th {\n",
              "        text-align: right;\n",
              "    }\n",
              "</style>\n",
              "<table border=\"1\" class=\"dataframe\">\n",
              "  <thead>\n",
              "    <tr style=\"text-align: right;\">\n",
              "      <th></th>\n",
              "      <th>train_id</th>\n",
              "      <th>name</th>\n",
              "      <th>item_condition_id</th>\n",
              "      <th>category_name</th>\n",
              "      <th>brand_name</th>\n",
              "      <th>price</th>\n",
              "      <th>shipping</th>\n",
              "      <th>item_description</th>\n",
              "    </tr>\n",
              "  </thead>\n",
              "  <tbody>\n",
              "    <tr>\n",
              "      <th>0</th>\n",
              "      <td>0</td>\n",
              "      <td>MLB Cincinnati Reds T Shirt Size XL</td>\n",
              "      <td>3</td>\n",
              "      <td>Men/Tops/T-shirts</td>\n",
              "      <td>NaN</td>\n",
              "      <td>10.0</td>\n",
              "      <td>1</td>\n",
              "      <td>No description yet</td>\n",
              "    </tr>\n",
              "    <tr>\n",
              "      <th>1</th>\n",
              "      <td>1</td>\n",
              "      <td>Razer BlackWidow Chroma Keyboard</td>\n",
              "      <td>3</td>\n",
              "      <td>Electronics/Computers &amp; Tablets/Components &amp; P...</td>\n",
              "      <td>Razer</td>\n",
              "      <td>52.0</td>\n",
              "      <td>0</td>\n",
              "      <td>This keyboard is in great condition and works ...</td>\n",
              "    </tr>\n",
              "    <tr>\n",
              "      <th>2</th>\n",
              "      <td>2</td>\n",
              "      <td>AVA-VIV Blouse</td>\n",
              "      <td>1</td>\n",
              "      <td>Women/Tops &amp; Blouses/Blouse</td>\n",
              "      <td>Target</td>\n",
              "      <td>10.0</td>\n",
              "      <td>1</td>\n",
              "      <td>Adorable top with a hint of lace and a key hol...</td>\n",
              "    </tr>\n",
              "  </tbody>\n",
              "</table>\n",
              "</div>\n",
              "    <div class=\"colab-df-buttons\">\n",
              "\n",
              "  <div class=\"colab-df-container\">\n",
              "    <button class=\"colab-df-convert\" onclick=\"convertToInteractive('df-40b920ca-bee1-439a-b0a6-a2c36c9e8a0b')\"\n",
              "            title=\"Convert this dataframe to an interactive table.\"\n",
              "            style=\"display:none;\">\n",
              "\n",
              "  <svg xmlns=\"http://www.w3.org/2000/svg\" height=\"24px\" viewBox=\"0 -960 960 960\">\n",
              "    <path d=\"M120-120v-720h720v720H120Zm60-500h600v-160H180v160Zm220 220h160v-160H400v160Zm0 220h160v-160H400v160ZM180-400h160v-160H180v160Zm440 0h160v-160H620v160ZM180-180h160v-160H180v160Zm440 0h160v-160H620v160Z\"/>\n",
              "  </svg>\n",
              "    </button>\n",
              "\n",
              "  <style>\n",
              "    .colab-df-container {\n",
              "      display:flex;\n",
              "      gap: 12px;\n",
              "    }\n",
              "\n",
              "    .colab-df-convert {\n",
              "      background-color: #E8F0FE;\n",
              "      border: none;\n",
              "      border-radius: 50%;\n",
              "      cursor: pointer;\n",
              "      display: none;\n",
              "      fill: #1967D2;\n",
              "      height: 32px;\n",
              "      padding: 0 0 0 0;\n",
              "      width: 32px;\n",
              "    }\n",
              "\n",
              "    .colab-df-convert:hover {\n",
              "      background-color: #E2EBFA;\n",
              "      box-shadow: 0px 1px 2px rgba(60, 64, 67, 0.3), 0px 1px 3px 1px rgba(60, 64, 67, 0.15);\n",
              "      fill: #174EA6;\n",
              "    }\n",
              "\n",
              "    .colab-df-buttons div {\n",
              "      margin-bottom: 4px;\n",
              "    }\n",
              "\n",
              "    [theme=dark] .colab-df-convert {\n",
              "      background-color: #3B4455;\n",
              "      fill: #D2E3FC;\n",
              "    }\n",
              "\n",
              "    [theme=dark] .colab-df-convert:hover {\n",
              "      background-color: #434B5C;\n",
              "      box-shadow: 0px 1px 3px 1px rgba(0, 0, 0, 0.15);\n",
              "      filter: drop-shadow(0px 1px 2px rgba(0, 0, 0, 0.3));\n",
              "      fill: #FFFFFF;\n",
              "    }\n",
              "  </style>\n",
              "\n",
              "    <script>\n",
              "      const buttonEl =\n",
              "        document.querySelector('#df-40b920ca-bee1-439a-b0a6-a2c36c9e8a0b button.colab-df-convert');\n",
              "      buttonEl.style.display =\n",
              "        google.colab.kernel.accessAllowed ? 'block' : 'none';\n",
              "\n",
              "      async function convertToInteractive(key) {\n",
              "        const element = document.querySelector('#df-40b920ca-bee1-439a-b0a6-a2c36c9e8a0b');\n",
              "        const dataTable =\n",
              "          await google.colab.kernel.invokeFunction('convertToInteractive',\n",
              "                                                    [key], {});\n",
              "        if (!dataTable) return;\n",
              "\n",
              "        const docLinkHtml = 'Like what you see? Visit the ' +\n",
              "          '<a target=\"_blank\" href=https://colab.research.google.com/notebooks/data_table.ipynb>data table notebook</a>'\n",
              "          + ' to learn more about interactive tables.';\n",
              "        element.innerHTML = '';\n",
              "        dataTable['output_type'] = 'display_data';\n",
              "        await google.colab.output.renderOutput(dataTable, element);\n",
              "        const docLink = document.createElement('div');\n",
              "        docLink.innerHTML = docLinkHtml;\n",
              "        element.appendChild(docLink);\n",
              "      }\n",
              "    </script>\n",
              "  </div>\n",
              "\n",
              "\n",
              "    <div id=\"df-5f2ee3cc-2e38-443a-9e29-7d85b9dc859f\">\n",
              "      <button class=\"colab-df-quickchart\" onclick=\"quickchart('df-5f2ee3cc-2e38-443a-9e29-7d85b9dc859f')\"\n",
              "                title=\"Suggest charts\"\n",
              "                style=\"display:none;\">\n",
              "\n",
              "<svg xmlns=\"http://www.w3.org/2000/svg\" height=\"24px\"viewBox=\"0 0 24 24\"\n",
              "     width=\"24px\">\n",
              "    <g>\n",
              "        <path d=\"M19 3H5c-1.1 0-2 .9-2 2v14c0 1.1.9 2 2 2h14c1.1 0 2-.9 2-2V5c0-1.1-.9-2-2-2zM9 17H7v-7h2v7zm4 0h-2V7h2v10zm4 0h-2v-4h2v4z\"/>\n",
              "    </g>\n",
              "</svg>\n",
              "      </button>\n",
              "\n",
              "<style>\n",
              "  .colab-df-quickchart {\n",
              "      --bg-color: #E8F0FE;\n",
              "      --fill-color: #1967D2;\n",
              "      --hover-bg-color: #E2EBFA;\n",
              "      --hover-fill-color: #174EA6;\n",
              "      --disabled-fill-color: #AAA;\n",
              "      --disabled-bg-color: #DDD;\n",
              "  }\n",
              "\n",
              "  [theme=dark] .colab-df-quickchart {\n",
              "      --bg-color: #3B4455;\n",
              "      --fill-color: #D2E3FC;\n",
              "      --hover-bg-color: #434B5C;\n",
              "      --hover-fill-color: #FFFFFF;\n",
              "      --disabled-bg-color: #3B4455;\n",
              "      --disabled-fill-color: #666;\n",
              "  }\n",
              "\n",
              "  .colab-df-quickchart {\n",
              "    background-color: var(--bg-color);\n",
              "    border: none;\n",
              "    border-radius: 50%;\n",
              "    cursor: pointer;\n",
              "    display: none;\n",
              "    fill: var(--fill-color);\n",
              "    height: 32px;\n",
              "    padding: 0;\n",
              "    width: 32px;\n",
              "  }\n",
              "\n",
              "  .colab-df-quickchart:hover {\n",
              "    background-color: var(--hover-bg-color);\n",
              "    box-shadow: 0 1px 2px rgba(60, 64, 67, 0.3), 0 1px 3px 1px rgba(60, 64, 67, 0.15);\n",
              "    fill: var(--button-hover-fill-color);\n",
              "  }\n",
              "\n",
              "  .colab-df-quickchart-complete:disabled,\n",
              "  .colab-df-quickchart-complete:disabled:hover {\n",
              "    background-color: var(--disabled-bg-color);\n",
              "    fill: var(--disabled-fill-color);\n",
              "    box-shadow: none;\n",
              "  }\n",
              "\n",
              "  .colab-df-spinner {\n",
              "    border: 2px solid var(--fill-color);\n",
              "    border-color: transparent;\n",
              "    border-bottom-color: var(--fill-color);\n",
              "    animation:\n",
              "      spin 1s steps(1) infinite;\n",
              "  }\n",
              "\n",
              "  @keyframes spin {\n",
              "    0% {\n",
              "      border-color: transparent;\n",
              "      border-bottom-color: var(--fill-color);\n",
              "      border-left-color: var(--fill-color);\n",
              "    }\n",
              "    20% {\n",
              "      border-color: transparent;\n",
              "      border-left-color: var(--fill-color);\n",
              "      border-top-color: var(--fill-color);\n",
              "    }\n",
              "    30% {\n",
              "      border-color: transparent;\n",
              "      border-left-color: var(--fill-color);\n",
              "      border-top-color: var(--fill-color);\n",
              "      border-right-color: var(--fill-color);\n",
              "    }\n",
              "    40% {\n",
              "      border-color: transparent;\n",
              "      border-right-color: var(--fill-color);\n",
              "      border-top-color: var(--fill-color);\n",
              "    }\n",
              "    60% {\n",
              "      border-color: transparent;\n",
              "      border-right-color: var(--fill-color);\n",
              "    }\n",
              "    80% {\n",
              "      border-color: transparent;\n",
              "      border-right-color: var(--fill-color);\n",
              "      border-bottom-color: var(--fill-color);\n",
              "    }\n",
              "    90% {\n",
              "      border-color: transparent;\n",
              "      border-bottom-color: var(--fill-color);\n",
              "    }\n",
              "  }\n",
              "</style>\n",
              "\n",
              "      <script>\n",
              "        async function quickchart(key) {\n",
              "          const quickchartButtonEl =\n",
              "            document.querySelector('#' + key + ' button');\n",
              "          quickchartButtonEl.disabled = true;  // To prevent multiple clicks.\n",
              "          quickchartButtonEl.classList.add('colab-df-spinner');\n",
              "          try {\n",
              "            const charts = await google.colab.kernel.invokeFunction(\n",
              "                'suggestCharts', [key], {});\n",
              "          } catch (error) {\n",
              "            console.error('Error during call to suggestCharts:', error);\n",
              "          }\n",
              "          quickchartButtonEl.classList.remove('colab-df-spinner');\n",
              "          quickchartButtonEl.classList.add('colab-df-quickchart-complete');\n",
              "        }\n",
              "        (() => {\n",
              "          let quickchartButtonEl =\n",
              "            document.querySelector('#df-5f2ee3cc-2e38-443a-9e29-7d85b9dc859f button');\n",
              "          quickchartButtonEl.style.display =\n",
              "            google.colab.kernel.accessAllowed ? 'block' : 'none';\n",
              "        })();\n",
              "      </script>\n",
              "    </div>\n",
              "\n",
              "    </div>\n",
              "  </div>\n"
            ],
            "application/vnd.google.colaboratory.intrinsic+json": {
              "type": "dataframe",
              "variable_name": "mercari_df"
            }
          },
          "metadata": {},
          "execution_count": 3
        }
      ]
    },
    {
      "cell_type": "code",
      "source": [
        "print(mercari_df.info())"
      ],
      "metadata": {
        "colab": {
          "base_uri": "https://localhost:8080/"
        },
        "id": "4KjGHeKJPzGS",
        "outputId": "97343cfd-a529-4eb0-ad59-9cfc55a77e35"
      },
      "execution_count": 4,
      "outputs": [
        {
          "output_type": "stream",
          "name": "stdout",
          "text": [
            "<class 'pandas.core.frame.DataFrame'>\n",
            "RangeIndex: 1482535 entries, 0 to 1482534\n",
            "Data columns (total 8 columns):\n",
            " #   Column             Non-Null Count    Dtype  \n",
            "---  ------             --------------    -----  \n",
            " 0   train_id           1482535 non-null  int64  \n",
            " 1   name               1482535 non-null  object \n",
            " 2   item_condition_id  1482535 non-null  int64  \n",
            " 3   category_name      1476208 non-null  object \n",
            " 4   brand_name         849853 non-null   object \n",
            " 5   price              1482535 non-null  float64\n",
            " 6   shipping           1482535 non-null  int64  \n",
            " 7   item_description   1482529 non-null  object \n",
            "dtypes: float64(1), int64(3), object(4)\n",
            "memory usage: 90.5+ MB\n",
            "None\n"
          ]
        }
      ]
    },
    {
      "cell_type": "code",
      "source": [
        "# Target 값인 price 칼럼의 데이터 분포도 살펴보기\n",
        "import matplotlib.pyplot as plt\n",
        "import seaborn as sns\n",
        "\n",
        "y_train_df = mercari_df['price']\n",
        "plt.figure(figsize=(6,4))\n",
        "sns.histplot(y_train_df, bins=100)\n",
        "plt.show()"
      ],
      "metadata": {
        "colab": {
          "base_uri": "https://localhost:8080/",
          "height": 388
        },
        "id": "BLqjPRCaQIIW",
        "outputId": "32d6db8b-2d0a-4baf-81b8-08805490be03"
      },
      "execution_count": 5,
      "outputs": [
        {
          "output_type": "display_data",
          "data": {
            "text/plain": [
              "<Figure size 600x400 with 1 Axes>"
            ],
            "image/png": "[encoded data removed]"
          },
          "metadata": {}
        }
      ]
    },
    {
      "cell_type": "code",
      "source": [
        "import numpy as np\n",
        "\n",
        "y_train_df = np.log1p(y_train_df)\n",
        "sns.histplot(y_train_df, bins=50)\n",
        "plt.show()"
      ],
      "metadata": {
        "colab": {
          "base_uri": "https://localhost:8080/",
          "height": 449
        },
        "id": "I7UzM4FEQVlF",
        "outputId": "0a1d3cc5-7493-4836-b535-d96e7d5ff496"
      },
      "execution_count": 6,
      "outputs": [
        {
          "output_type": "display_data",
          "data": {
            "text/plain": [
              "<Figure size 640x480 with 1 Axes>"
            ],
            "image/png": "[encoded data removed]"
          },
          "metadata": {}
        }
      ]
    },
    {
      "cell_type": "markdown",
      "source": [
        "✅ 로그 변환 후, price 값이 비교적 정규 분포에 가깝게 됨"
      ],
      "metadata": {
        "id": "2FqiVMDHQkdl"
      }
    },
    {
      "cell_type": "code",
      "source": [
        "mercari_df['price'] = np.log1p(mercari_df['price'])\n",
        "mercari_df['price'].head(3)"
      ],
      "metadata": {
        "colab": {
          "base_uri": "https://localhost:8080/",
          "height": 178
        },
        "id": "2AQIkSeEQvBK",
        "outputId": "7fcdc680-b346-4d1a-ffb3-7d5f90ccaa70"
      },
      "execution_count": 7,
      "outputs": [
        {
          "output_type": "execute_result",
          "data": {
            "text/plain": [
              "0    2.397895\n",
              "1    3.970292\n",
              "2    2.397895\n",
              "Name: price, dtype: float64"
            ],
            "text/html": [
              "<div>\n",
              "<style scoped>\n",
              "    .dataframe tbody tr th:only-of-type {\n",
              "        vertical-align: middle;\n",
              "    }\n",
              "\n",
              "    .dataframe tbody tr th {\n",
              "        vertical-align: top;\n",
              "    }\n",
              "\n",
              "    .dataframe thead th {\n",
              "        text-align: right;\n",
              "    }\n",
              "</style>\n",
              "<table border=\"1\" class=\"dataframe\">\n",
              "  <thead>\n",
              "    <tr style=\"text-align: right;\">\n",
              "      <th></th>\n",
              "      <th>price</th>\n",
              "    </tr>\n",
              "  </thead>\n",
              "  <tbody>\n",
              "    <tr>\n",
              "      <th>0</th>\n",
              "      <td>2.397895</td>\n",
              "    </tr>\n",
              "    <tr>\n",
              "      <th>1</th>\n",
              "      <td>3.970292</td>\n",
              "    </tr>\n",
              "    <tr>\n",
              "      <th>2</th>\n",
              "      <td>2.397895</td>\n",
              "    </tr>\n",
              "  </tbody>\n",
              "</table>\n",
              "</div><br><label><b>dtype:</b> float64</label>"
            ]
          },
          "metadata": {},
          "execution_count": 7
        }
      ]
    },
    {
      "cell_type": "code",
      "source": [
        "print('< Shipping 값 유형 >:\\n', mercari_df['shipping'].value_counts())\n",
        "print('< item_condition_id 값 유형 >:\\n', mercari_df['item_condition_id'].value_counts())"
      ],
      "metadata": {
        "colab": {
          "base_uri": "https://localhost:8080/"
        },
        "id": "ObnCdurtQ9_7",
        "outputId": "8e02eff4-58ed-4d36-b1ba-1c0868e23bfa"
      },
      "execution_count": 9,
      "outputs": [
        {
          "output_type": "stream",
          "name": "stdout",
          "text": [
            "< Shipping 값 유형 >:\n",
            " shipping\n",
            "0    819435\n",
            "1    663100\n",
            "Name: count, dtype: int64\n",
            "< item_condition_id 값 유형 >:\n",
            " item_condition_id\n",
            "1    640549\n",
            "3    432161\n",
            "2    375479\n",
            "4     31962\n",
            "5      2384\n",
            "Name: count, dtype: int64\n"
          ]
        }
      ]
    },
    {
      "cell_type": "markdown",
      "source": [
        "✅ Shipping 칼럼은 배송비 유무이며, 값이 비교적 균일함 / Item_condition_id 칼럼은 각 값이 의미하는 바를 알 수 없지만 1, 2, 3 값이 주를 이룸"
      ],
      "metadata": {
        "id": "gGrZ7ZkTRTf5"
      }
    },
    {
      "cell_type": "code",
      "source": [
        "boolean_cond = mercari_df['item_description'] == 'No description yet'\n",
        "mercari_df[boolean_cond]['item_description'].count()"
      ],
      "metadata": {
        "colab": {
          "base_uri": "https://localhost:8080/"
        },
        "id": "XT1vgVQqRQYL",
        "outputId": "7f671be3-2696-4681-ffd6-d5f25be11b20"
      },
      "execution_count": 10,
      "outputs": [
        {
          "output_type": "execute_result",
          "data": {
            "text/plain": [
              "np.int64(82489)"
            ]
          },
          "metadata": {},
          "execution_count": 10
        }
      ]
    },
    {
      "cell_type": "markdown",
      "source": [
        "✅ 'No description yet'의 경우 Null과 마찬가지로 의미 있는 속성값으로는 사용될 수 없으므로 적절한 값으로 변경해야 함"
      ],
      "metadata": {
        "id": "EWmHAt2QRtPc"
      }
    },
    {
      "cell_type": "code",
      "source": [
        "# apply_lambda에서 호출되는 대,중,소 분할 함수 생성, 대,중,소 값을 리스트로 반환\n",
        "def split_cat(category_name):\n",
        "  try:\n",
        "    return category_name.split('/')\n",
        "  except:\n",
        "    return ['Other_Null', 'Other_Null', 'Other_Null']\n",
        "\n",
        "# 위의 split_cat()을 apply lambda에서 호출해 대,중,소 칼럼을 mercadi_df에 생성\n",
        "mercari_df['cat_dae'], mercari_df['cat_jung'], mercari_df['cat_so'] =\\\n",
        "zip(*mercari_df['category_name'].apply(lambda x : split_cat(x)))\n",
        "\n",
        "# 대분류만 값의 유형과 건수를 살펴보고, 중분류, 소분류는 값의 유형이 많으므로 분류 개수만 추출\n",
        "print('대분류 유형:\\n', mercari_df['cat_dae'].value_counts())\n",
        "print('중분류 개수:', mercari_df['cat_jung'].nunique())\n",
        "print('소분류 개수:', mercari_df['cat_so'].nunique())"
      ],
      "metadata": {
        "colab": {
          "base_uri": "https://localhost:8080/"
        },
        "id": "cFuA9h0aR0jC",
        "outputId": "c7515d83-fa8e-43d9-a072-77fbdc9a41cd"
      },
      "execution_count": 11,
      "outputs": [
        {
          "output_type": "stream",
          "name": "stdout",
          "text": [
            "대분류 유형:\n",
            " cat_dae\n",
            "Women                     664385\n",
            "Beauty                    207828\n",
            "Kids                      171689\n",
            "Electronics               122690\n",
            "Men                        93680\n",
            "Home                       67871\n",
            "Vintage & Collectibles     46530\n",
            "Other                      45351\n",
            "Handmade                   30842\n",
            "Sports & Outdoors          25342\n",
            "Other_Null                  6327\n",
            "Name: count, dtype: int64\n",
            "중분류 개수: 114\n",
            "소분류 개수: 871\n"
          ]
        }
      ]
    },
    {
      "cell_type": "code",
      "source": [
        "# Null 값은 일괄적으로 ‘Other Null’로 동일하게 변경\n",
        "mercari_df['brand_name'] = mercari_df['brand_name'].fillna(value='Other_Null')\n",
        "mercari_df['category_name'] = mercari_df['category_name'].fillna(value='Other_Null')\n",
        "mercari_df['item_description'] = mercari_df['item_description'].fillna(value='Other_Null')\n",
        "\n",
        "# 각 칼럼별로 Null값 건수 확인. 모두 0이 나와야 함\n",
        "mercari_df.isnull().sum()"
      ],
      "metadata": {
        "colab": {
          "base_uri": "https://localhost:8080/",
          "height": 429
        },
        "id": "kY2udhS2SrNM",
        "outputId": "0f45fb52-96a8-48d8-f5df-0b4a64f51b8b"
      },
      "execution_count": 12,
      "outputs": [
        {
          "output_type": "execute_result",
          "data": {
            "text/plain": [
              "train_id             0\n",
              "name                 0\n",
              "item_condition_id    0\n",
              "category_name        0\n",
              "brand_name           0\n",
              "price                0\n",
              "shipping             0\n",
              "item_description     0\n",
              "cat_dae              0\n",
              "cat_jung             0\n",
              "cat_so               0\n",
              "dtype: int64"
            ],
            "text/html": [
              "<div>\n",
              "<style scoped>\n",
              "    .dataframe tbody tr th:only-of-type {\n",
              "        vertical-align: middle;\n",
              "    }\n",
              "\n",
              "    .dataframe tbody tr th {\n",
              "        vertical-align: top;\n",
              "    }\n",
              "\n",
              "    .dataframe thead th {\n",
              "        text-align: right;\n",
              "    }\n",
              "</style>\n",
              "<table border=\"1\" class=\"dataframe\">\n",
              "  <thead>\n",
              "    <tr style=\"text-align: right;\">\n",
              "      <th></th>\n",
              "      <th>0</th>\n",
              "    </tr>\n",
              "  </thead>\n",
              "  <tbody>\n",
              "    <tr>\n",
              "      <th>train_id</th>\n",
              "      <td>0</td>\n",
              "    </tr>\n",
              "    <tr>\n",
              "      <th>name</th>\n",
              "      <td>0</td>\n",
              "    </tr>\n",
              "    <tr>\n",
              "      <th>item_condition_id</th>\n",
              "      <td>0</td>\n",
              "    </tr>\n",
              "    <tr>\n",
              "      <th>category_name</th>\n",
              "      <td>0</td>\n",
              "    </tr>\n",
              "    <tr>\n",
              "      <th>brand_name</th>\n",
              "      <td>0</td>\n",
              "    </tr>\n",
              "    <tr>\n",
              "      <th>price</th>\n",
              "      <td>0</td>\n",
              "    </tr>\n",
              "    <tr>\n",
              "      <th>shipping</th>\n",
              "      <td>0</td>\n",
              "    </tr>\n",
              "    <tr>\n",
              "      <th>item_description</th>\n",
              "      <td>0</td>\n",
              "    </tr>\n",
              "    <tr>\n",
              "      <th>cat_dae</th>\n",
              "      <td>0</td>\n",
              "    </tr>\n",
              "    <tr>\n",
              "      <th>cat_jung</th>\n",
              "      <td>0</td>\n",
              "    </tr>\n",
              "    <tr>\n",
              "      <th>cat_so</th>\n",
              "      <td>0</td>\n",
              "    </tr>\n",
              "  </tbody>\n",
              "</table>\n",
              "</div><br><label><b>dtype:</b> int64</label>"
            ]
          },
          "metadata": {},
          "execution_count": 12
        }
      ]
    },
    {
      "cell_type": "code",
      "source": [
        "## 피처 인코딩과 피처 벡터화 ##"
      ],
      "metadata": {
        "id": "SU7m7vl6S2OP"
      },
      "execution_count": 13,
      "outputs": []
    },
    {
      "cell_type": "markdown",
      "source": [
        "- 선형 회귀 모델과 회귀 트리 모델을 모두 적용\n",
        "\n",
        "  - 선형 회귀 -> 인코딩할 피처에 원-핫 인코딩 적용\n",
        "\n",
        "  - 비교적 짧은 텍스트 -> Count 기반의 벡터화\n",
        "\n",
        "  - 비교적 긴 텍스트 -> TD-IDF 기반의 벡터화"
      ],
      "metadata": {
        "id": "8dsTAaA5TIOF"
      }
    },
    {
      "cell_type": "code",
      "source": [
        "print('brand name의 유형 건수:', mercari_df['brand_name'].nunique())\n",
        "print('brand name sample 5건: \\n', mercari_df['brand_name'].value_counts()[:5])"
      ],
      "metadata": {
        "colab": {
          "base_uri": "https://localhost:8080/"
        },
        "id": "TFWy0qHCS4Rb",
        "outputId": "14352c41-138a-4834-c9fc-18afdfdeb399"
      },
      "execution_count": 14,
      "outputs": [
        {
          "output_type": "stream",
          "name": "stdout",
          "text": [
            "brand name의 유형 건수: 4810\n",
            "brand name sample 5건: \n",
            " brand_name\n",
            "Other_Null           632682\n",
            "PINK                  54088\n",
            "Nike                  54043\n",
            "Victoria's Secret     48036\n",
            "LuLaRoe               31024\n",
            "Name: count, dtype: int64\n"
          ]
        }
      ]
    },
    {
      "cell_type": "markdown",
      "source": [
        "✅ brand_name의 경우 대부분 명료한 문자열로 구성 -> 별도의 피처 벡터화 형태로 만들 필요 없이 원-핫 인코딩 변환을 적용"
      ],
      "metadata": {
        "id": "f5-KHlDBT2hU"
      }
    },
    {
      "cell_type": "code",
      "source": [
        "print('name의 종류 개수:', mercari_df['name'].nunique())\n",
        "print('name sample 7건: \\n', mercari_df['name'][:7])"
      ],
      "metadata": {
        "colab": {
          "base_uri": "https://localhost:8080/"
        },
        "id": "AdaTNaUeUGTz",
        "outputId": "6c010f40-87c1-4287-a9af-eb97180f65f1"
      },
      "execution_count": 15,
      "outputs": [
        {
          "output_type": "stream",
          "name": "stdout",
          "text": [
            "name의 종류 개수: 1225273\n",
            "name sample 7건: \n",
            " 0    MLB Cincinnati Reds T Shirt Size XL\n",
            "1       Razer BlackWidow Chroma Keyboard\n",
            "2                         AVA-VIV Blouse\n",
            "3                  Leather Horse Statues\n",
            "4                   24K GOLD plated rose\n",
            "5       Bundled items requested for Ruie\n",
            "6     Acacia pacific tides santorini top\n",
            "Name: name, dtype: object\n"
          ]
        }
      ]
    },
    {
      "cell_type": "markdown",
      "source": [
        "✅ Name 속성은 유형이 매우 많고, 적은 단어 위주의 텍스트 형태로 구성 -> Count 기반으로 피처 벡터화 변환을 적용"
      ],
      "metadata": {
        "id": "oagZujr1UShp"
      }
    },
    {
      "cell_type": "code",
      "source": [
        "# item_description\n",
        "pd.set_option('max_colwidth', 200)\n",
        "\n",
        "# item_description의 평균 문자열 크기\n",
        "print('item_description 평균 문자열 크기:', mercari_df['item_description'].str.len().mean())\n",
        "\n",
        "mercari_df['item_description'][:2]"
      ],
      "metadata": {
        "colab": {
          "base_uri": "https://localhost:8080/",
          "height": 165
        },
        "id": "pN05dmGsUb6s",
        "outputId": "cc906e94-adca-4a5a-98ac-445283810ec2"
      },
      "execution_count": 16,
      "outputs": [
        {
          "output_type": "stream",
          "name": "stdout",
          "text": [
            "item_description 평균 문자열 크기: 145.71139703278507\n"
          ]
        },
        {
          "output_type": "execute_result",
          "data": {
            "text/plain": [
              "0                                                                                                                                                                              No description yet\n",
              "1    This keyboard is in great condition and works like it came out of the box. All of the ports are tested and work perfectly. The lights are customizable via the Razer Synapse app on your PC.\n",
              "Name: item_description, dtype: object"
            ],
            "text/html": [
              "<div>\n",
              "<style scoped>\n",
              "    .dataframe tbody tr th:only-of-type {\n",
              "        vertical-align: middle;\n",
              "    }\n",
              "\n",
              "    .dataframe tbody tr th {\n",
              "        vertical-align: top;\n",
              "    }\n",
              "\n",
              "    .dataframe thead th {\n",
              "        text-align: right;\n",
              "    }\n",
              "</style>\n",
              "<table border=\"1\" class=\"dataframe\">\n",
              "  <thead>\n",
              "    <tr style=\"text-align: right;\">\n",
              "      <th></th>\n",
              "      <th>item_description</th>\n",
              "    </tr>\n",
              "  </thead>\n",
              "  <tbody>\n",
              "    <tr>\n",
              "      <th>0</th>\n",
              "      <td>No description yet</td>\n",
              "    </tr>\n",
              "    <tr>\n",
              "      <th>1</th>\n",
              "      <td>This keyboard is in great condition and works like it came out of the box. All of the ports are tested and work perfectly. The lights are customizable via the Razer Synapse app on your PC.</td>\n",
              "    </tr>\n",
              "  </tbody>\n",
              "</table>\n",
              "</div><br><label><b>dtype:</b> object</label>"
            ]
          },
          "metadata": {},
          "execution_count": 16
        }
      ]
    },
    {
      "cell_type": "markdown",
      "source": [
        "✅ 평균 문자열이 145자로 비교적 크므로 해당 칼럼은 TF-IDF로 변환"
      ],
      "metadata": {
        "id": "USqnVcAlU7_t"
      }
    },
    {
      "cell_type": "code",
      "source": [
        "# name 속성에 대한 피처 벡터화 변환\n",
        "cnt_vec = CountVectorizer()\n",
        "X_name = cnt_vec.fit_transform(mercari_df.name)\n",
        "\n",
        "# item_description에 대한 피처 벡터화 변환\n",
        "tfidf_descp = TfidfVectorizer(max_features=50000, ngram_range=(1,3), stop_words='english')\n",
        "X_descp = tfidf_descp.fit_transform(mercari_df['item_description'])\n",
        "print('name vectorization shape:', X_name.shape)\n",
        "print('item_description vectorization shape:', X_descp.shape)"
      ],
      "metadata": {
        "colab": {
          "base_uri": "https://localhost:8080/"
        },
        "id": "zi8xHlMbVAof",
        "outputId": "90a4e13b-6be3-42f6-a9d9-d34fc75c6c66"
      },
      "execution_count": 17,
      "outputs": [
        {
          "output_type": "stream",
          "name": "stdout",
          "text": [
            "name vectorization shape: (1482535, 105757)\n",
            "item_description vectorization shape: (1482535, 50000)\n"
          ]
        }
      ]
    },
    {
      "cell_type": "markdown",
      "source": [
        "- 원-핫 인코딩 피처들을 희소 행렬로 변환 후, 피처 벡터화된 희소 행렬들과 결합\n",
        "\n",
        "- 사이킷런은 원一핫 인코딩을 위해 OneHotEncoder와 LabelBinarizer 클래스를 제공\n",
        "\n",
        "- 이 중 LabelBinarizer 클래스는 희소 행렬 형태의 원-핫 인코딩 변환을 지원\n",
        "\n",
        "  -  sparse_out=True로 파라미터를 설정"
      ],
      "metadata": {
        "id": "5W5WZ6rfYCmc"
      }
    },
    {
      "cell_type": "code",
      "source": [
        "from sklearn.preprocessing import LabelBinarizer\n",
        "\n",
        "# brand_name, item_condition_id, shipping 각 피처들을 희소 행렬 원-핫 인코딩 변환\n",
        "lb_brand_name = LabelBinarizer(sparse_output = True)\n",
        "X_brand = lb_brand_name.fit_transform(mercari_df['brand_name'])\n",
        "lb_item_cond_id = LabelBinarizer(sparse_output=True)\n",
        "X_item_cond_id = lb_item_cond_id.fit_transform(mercari_df['item_condition_id'])\n",
        "lb_shipping = LabelBinarizer(sparse_output=True)\n",
        "X_shipping = lb_shipping.fit_transform(mercari_df['shipping'])\n",
        "\n",
        "# cat_dae, cat_jung, cat_so 각 피처들을 희소 행렬 원-핫 인코딩 변환\n",
        "lb_cat_dae = LabelBinarizer(sparse_output=True)\n",
        "X_cat_dae = lb_cat_dae.fit_transform(mercari_df['cat_dae'])\n",
        "lb_cat_jung = LabelBinarizer(sparse_output=True)\n",
        "X_cat_jung = lb_cat_jung.fit_transform(mercari_df['cat_jung'])\n",
        "lb_cat_so = LabelBinarizer(sparse_output=True)\n",
        "X_cat_so = lb_cat_so.fit_transform(mercari_df['cat_so'])"
      ],
      "metadata": {
        "id": "2Psg7MBzYcIK"
      },
      "execution_count": 18,
      "outputs": []
    },
    {
      "cell_type": "code",
      "source": [
        "print(type(X_brand), type(X_item_cond_id), type(X_shipping))\n",
        "print('X_brand shape: {0}, X_item_cond_id shape: {1}'.format(X_brand.shape, X_item_cond_id.shape))\n",
        "print('X_shipping shape: {0}, X_cat_dae shape: {1}'.format(X_shipping.shape, X_cat_dae.shape))\n",
        "print('X_cat_jung shape: {0}, X_cat_so shape: {1}'.format(X_cat_jung.shape, X_cat_so.shape))"
      ],
      "metadata": {
        "colab": {
          "base_uri": "https://localhost:8080/"
        },
        "id": "ZdhFU6jvYiwi",
        "outputId": "bc6c611c-56eb-41df-f4b4-dc4e58c06b45"
      },
      "execution_count": 19,
      "outputs": [
        {
          "output_type": "stream",
          "name": "stdout",
          "text": [
            "<class 'scipy.sparse._csr.csr_matrix'> <class 'scipy.sparse._csr.csr_matrix'> <class 'scipy.sparse._csr.csr_matrix'>\n",
            "X_brand shape: (1482535, 4810), X_item_cond_id shape: (1482535, 5)\n",
            "X_shipping shape: (1482535, 1), X_cat_dae shape: (1482535, 11)\n",
            "X_cat_jung shape: (1482535, 114), X_cat_so shape: (1482535, 871)\n"
          ]
        }
      ]
    },
    {
      "cell_type": "code",
      "source": [
        "from scipy.sparse import hstack\n",
        "import gc\n",
        "\n",
        "sparse_matrix_list = (X_name, X_descp, X_brand, X_item_cond_id, \\\n",
        "                      X_shipping, X_cat_dae, X_cat_jung, X_cat_so)\n",
        "\n",
        "# hstack 함수를 이용해 인코딩과 벡터화를 수행한 데이터 세트를 모두 결합\n",
        "X_features_sparse = hstack(sparse_matrix_list).tocsr()\n",
        "print(type(X_features_sparse), X_features_sparse.shape)\n",
        "\n",
        "# 데이터 세트가 메모리를 많이 차지하므로 사용 목적이 끝났으면 바로 메모리에서 삭제\n",
        "del X_features_sparse\n",
        "gc.collect()"
      ],
      "metadata": {
        "colab": {
          "base_uri": "https://localhost:8080/"
        },
        "id": "_05fOxotYlxU",
        "outputId": "65e5b57f-6a24-4e6e-ba38-08d68bc71c15"
      },
      "execution_count": 20,
      "outputs": [
        {
          "output_type": "stream",
          "name": "stdout",
          "text": [
            "<class 'scipy.sparse._csr.csr_matrix'> (1482535, 161569)\n"
          ]
        },
        {
          "output_type": "execute_result",
          "data": {
            "text/plain": [
              "0"
            ]
          },
          "metadata": {},
          "execution_count": 20
        }
      ]
    },
    {
      "cell_type": "markdown",
      "source": [
        "< 릿지 회귀 모델 구축 및 평가 >\n",
        "\n",
        "- 평가 지표: RMSLE(Root Mean Square Logarithmic Error) <- 낮은 가격보다 높은 가격에서 오류가 발생할 경우 오류 값이 더 커지는 것을 억제하기 위해\n",
        "\n",
        "  ![image.png](data:image/png;base64,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)"
      ],
      "metadata": {
        "id": "qs0sIVqSY9hd"
      }
    },
    {
      "cell_type": "code",
      "source": [
        "def rmsle(y, y_pred):\n",
        "  # underflow, overflow를 막기 위해 log가 아닌 log1p로 rmsle 계산\n",
        "  return np.sqrt(np.mean(np.power(np.log1p(y) - np.log1p(y_pred), 2)))\n",
        "\n",
        "def evaluate_org_price(y_test, preds):\n",
        "\n",
        "  # 원본 데이터는 log1p로 변환되었으므로 exmpm1로 원복 필요.\n",
        "  preds_exmpm = np.expm1(preds)\n",
        "  y_test_exmpm = np.expm1(y_test)\n",
        "\n",
        "  # rmsle로 RMSLE 값 추출\n",
        "  rmsle_result = rmsle(y_test_exmpm, preds_exmpm)\n",
        "  return rmsle_result"
      ],
      "metadata": {
        "id": "JuF7rVpQZxYi"
      },
      "execution_count": 21,
      "outputs": []
    },
    {
      "cell_type": "code",
      "source": [
        "import gc\n",
        "from scipy.sparse import hstack\n",
        "\n",
        "def model_train_predict(model, matrix_list):\n",
        "  # scipy.sparse 모듈의 hstack을 이용해 희소 행렬 결합\n",
        "  X = hstack(matrix_list).tocsr()\n",
        "\n",
        "  X_train, X_test, y_train, y_test = train_test_split(X, mercari_df['price'],\n",
        "                                                      test_size=0.2, random_state=156)\n",
        "\n",
        "  # 모델 학습 및 예측\n",
        "  model.fit(X_train, y_train)\n",
        "  preds = model.predict(X_test)\n",
        "\n",
        "  del X, X_train, X_test, y_train\n",
        "  gc.collect()\n",
        "\n",
        "  return preds, y_test"
      ],
      "metadata": {
        "id": "TX8Ol6OcZ_oO"
      },
      "execution_count": 22,
      "outputs": []
    },
    {
      "cell_type": "code",
      "source": [
        "# Item_description 속성의 피처 벡터화 데이터가 포함되지 않았을 때와 포함됐을 때의 예측 성능을 비교\n",
        "linear_model = Ridge(solver = \"lsqr\", fit_intercept=False)\n",
        "\n",
        "sparse_matrix_list = (X_name, X_brand, X_item_cond_id, \\\n",
        "                      X_shipping, X_cat_dae, X_cat_jung, X_cat_so)\n",
        "\n",
        "linear_preds, y_test = model_train_predict(model=linear_model, matrix_list=sparse_matrix_list)\n",
        "print('Item Description을 제외했을 때 rmsle 값:', evaluate_org_price(y_test, linear_preds))\n",
        "\n",
        "sparse_matrix_list = (X_descp, X_name, X_brand, X_item_cond_id,\\\n",
        "                      X_shipping, X_cat_dae, X_cat_jung, X_cat_so)\n",
        "\n",
        "linear_preds, y_test = model_train_predict(model=linear_model, matrix_list=sparse_matrix_list)\n",
        "print('Item Description을 포함한 rmsle 값:', evaluate_org_price(y_test, linear_preds))"
      ],
      "metadata": {
        "colab": {
          "base_uri": "https://localhost:8080/"
        },
        "id": "EohulgcZaIIJ",
        "outputId": "6a4900fa-8e68-4e28-af8a-b62dce39db5c"
      },
      "execution_count": 23,
      "outputs": [
        {
          "output_type": "stream",
          "name": "stdout",
          "text": [
            "Item Description을 제외했을 때 rmsle 값: 0.4983990938999374\n",
            "Item Description을 포함한 rmsle 값: 0.4680432471796771\n"
          ]
        }
      ]
    },
    {
      "cell_type": "markdown",
      "source": [
        "✅ Item Description을 포함했을 때 rmsle 값이 많이 감소함. Item description 영향이 중요하다는 것을 알 수 있음."
      ],
      "metadata": {
        "id": "WiwkarulaaZJ"
      }
    },
    {
      "cell_type": "code",
      "source": [
        "#from lightgbm import LGBMRegressor\n",
        "\n",
        "#sparse_matrix_list = (X_descp, X_name, X_brand, X_item_cond_id,\n",
        "                      #X_shipping, X_cat_dae, X_cat_jung, X_cat_so)\n",
        "\n",
        "#lgbm_model = LGBMRegressor(n_estimator=200, learning_rate=0.5, num_leaves=125, random_state=156)\n",
        "#lgbm_preds, y_test = model_train_predict(model=lgbm_model, matrix_list=sparse_matrix_list)\n",
        "#print('LightGBM rmsle 값:', evaluate_org_price(y_test, lgbm_preds))"
      ],
      "metadata": {
        "id": "4THnAcXgajVj"
      },
      "execution_count": 24,
      "outputs": []
    },
    {
      "cell_type": "code",
      "source": [
        "# 앙상블로 최종 예측\n",
        "#preds = lgbm_preds * 0.45 + linear_preds * 0.55\n",
        "#print('LightGBM과 Ridge를 ensemble한 최종 rmsle 값:', evaluate_org_price(y_test, preds))"
      ],
      "metadata": {
        "id": "8moR6lyNa1Cc"
      },
      "execution_count": 25,
      "outputs": []
    }
  ]
}